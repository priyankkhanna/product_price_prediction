{
 "cells": [
  {
   "cell_type": "code",
   "execution_count": 1,
   "id": "e1b57a74-98a4-4b08-90d9-88a5da9b3f3e",
   "metadata": {},
   "outputs": [],
   "source": [
    "import pandas as pd\n",
    "import numpy as np\n",
    "import os\n",
    "from sklearn.preprocessing import LabelEncoder, MinMaxScaler, StandardScaler\n",
    "import keras\n",
    "import math\n",
    "from keras.preprocessing.text import Tokenizer\n",
    "from keras.utils import pad_sequences\n",
    "from keras.layers import Input, Dropout, Dense, BatchNormalization, Activation, concatenate, GRU, Embedding, Flatten, BatchNormalization\n",
    "from keras.models import Model\n",
    "from keras.callbacks import ModelCheckpoint, Callback, EarlyStopping\n",
    "from keras import backend as K\n",
    "from sklearn.metrics import mean_absolute_error as mae"
   ]
  },
  {
   "cell_type": "code",
   "execution_count": 3,
   "id": "b282f07a-06d4-4fd2-ab20-a1747407403a",
   "metadata": {},
   "outputs": [],
   "source": [
    "dataset = pd.read_csv('dataset_clean.csv')"
   ]
  },
  {
   "cell_type": "code",
   "execution_count": 4,
   "id": "873dc8a3-7534-4c3e-8e9f-945f3b3e1fd1",
   "metadata": {},
   "outputs": [
    {
     "data": {
      "text/html": [
       "<div>\n",
       "<style scoped>\n",
       "    .dataframe tbody tr th:only-of-type {\n",
       "        vertical-align: middle;\n",
       "    }\n",
       "\n",
       "    .dataframe tbody tr th {\n",
       "        vertical-align: top;\n",
       "    }\n",
       "\n",
       "    .dataframe thead th {\n",
       "        text-align: right;\n",
       "    }\n",
       "</style>\n",
       "<table border=\"1\" class=\"dataframe\">\n",
       "  <thead>\n",
       "    <tr style=\"text-align: right;\">\n",
       "      <th></th>\n",
       "      <th>category_1</th>\n",
       "      <th>category_2</th>\n",
       "      <th>category_3</th>\n",
       "      <th>title</th>\n",
       "      <th>product_rating</th>\n",
       "      <th>selling_price</th>\n",
       "      <th>seller_rating</th>\n",
       "      <th>description</th>\n",
       "    </tr>\n",
       "  </thead>\n",
       "  <tbody>\n",
       "    <tr>\n",
       "      <th>0</th>\n",
       "      <td>4</td>\n",
       "      <td>48</td>\n",
       "      <td>47</td>\n",
       "      <td>[15085, 1335, 1319, 4225, 11612, 1319, 9855, 6...</td>\n",
       "      <td>4.4</td>\n",
       "      <td>152</td>\n",
       "      <td>4.4</td>\n",
       "      <td>[111, 77, 111, 343, 1335, 1319, 5068, 1032]</td>\n",
       "    </tr>\n",
       "    <tr>\n",
       "      <th>1</th>\n",
       "      <td>4</td>\n",
       "      <td>48</td>\n",
       "      <td>47</td>\n",
       "      <td>[7667, 11613, 234, 71, 251, 782, 5234, 1335, 1...</td>\n",
       "      <td>3.4</td>\n",
       "      <td>329</td>\n",
       "      <td>4.7</td>\n",
       "      <td>[2, 7667, 5234, 4951, 1335, 1320, 35, 291, 60,...</td>\n",
       "    </tr>\n",
       "    <tr>\n",
       "      <th>2</th>\n",
       "      <td>4</td>\n",
       "      <td>48</td>\n",
       "      <td>47</td>\n",
       "      <td>[3359, 77, 1335, 1320, 334, 310, 11614, 221, 6...</td>\n",
       "      <td>4.1</td>\n",
       "      <td>369</td>\n",
       "      <td>4.1</td>\n",
       "      <td>[3359, 77, 1335, 1197, 11614, 1320, 152, 74, 5...</td>\n",
       "    </tr>\n",
       "    <tr>\n",
       "      <th>3</th>\n",
       "      <td>4</td>\n",
       "      <td>48</td>\n",
       "      <td>47</td>\n",
       "      <td>[4446, 234, 71, 408, 365, 119, 1335, 1320, 4, ...</td>\n",
       "      <td>4.0</td>\n",
       "      <td>249</td>\n",
       "      <td>4.8</td>\n",
       "      <td>[4446, 365, 119, 234, 71, 1335, 1320, 167, 4, ...</td>\n",
       "    </tr>\n",
       "    <tr>\n",
       "      <th>4</th>\n",
       "      <td>4</td>\n",
       "      <td>48</td>\n",
       "      <td>47</td>\n",
       "      <td>[4446, 3605, 1335, 1320, 71, 32, 4, 421, 1300,...</td>\n",
       "      <td>3.9</td>\n",
       "      <td>249</td>\n",
       "      <td>4.8</td>\n",
       "      <td>[4446, 3605, 1335, 1320, 71, 32, 4, 421, 1300,...</td>\n",
       "    </tr>\n",
       "  </tbody>\n",
       "</table>\n",
       "</div>"
      ],
      "text/plain": [
       "   category_1  category_2  category_3  \\\n",
       "0           4          48          47   \n",
       "1           4          48          47   \n",
       "2           4          48          47   \n",
       "3           4          48          47   \n",
       "4           4          48          47   \n",
       "\n",
       "                                               title  product_rating  \\\n",
       "0  [15085, 1335, 1319, 4225, 11612, 1319, 9855, 6...             4.4   \n",
       "1  [7667, 11613, 234, 71, 251, 782, 5234, 1335, 1...             3.4   \n",
       "2  [3359, 77, 1335, 1320, 334, 310, 11614, 221, 6...             4.1   \n",
       "3  [4446, 234, 71, 408, 365, 119, 1335, 1320, 4, ...             4.0   \n",
       "4  [4446, 3605, 1335, 1320, 71, 32, 4, 421, 1300,...             3.9   \n",
       "\n",
       "   selling_price  seller_rating  \\\n",
       "0            152            4.4   \n",
       "1            329            4.7   \n",
       "2            369            4.1   \n",
       "3            249            4.8   \n",
       "4            249            4.8   \n",
       "\n",
       "                                         description  \n",
       "0        [111, 77, 111, 343, 1335, 1319, 5068, 1032]  \n",
       "1  [2, 7667, 5234, 4951, 1335, 1320, 35, 291, 60,...  \n",
       "2  [3359, 77, 1335, 1197, 11614, 1320, 152, 74, 5...  \n",
       "3  [4446, 365, 119, 234, 71, 1335, 1320, 167, 4, ...  \n",
       "4  [4446, 3605, 1335, 1320, 71, 32, 4, 421, 1300,...  "
      ]
     },
     "execution_count": 4,
     "metadata": {},
     "output_type": "execute_result"
    }
   ],
   "source": [
    "dataset.head()"
   ]
  },
  {
   "cell_type": "code",
   "execution_count": 7,
   "id": "5ea6b14e-36f1-48ed-b30c-ac009ee028bb",
   "metadata": {},
   "outputs": [],
   "source": [
    "def rmsle_cust(y_true, y_pred):\n",
    "    first_log = K.log(K.clip(y_pred, K.epsilon(), None) + 1.)\n",
    "    second_log = K.log(K.clip(y_true, K.epsilon(), None) + 1.)\n",
    "    return K.sqrt(K.mean(K.square(first_log - second_log), axis=-1))\n",
    "def rmsle(y, y_pred):\n",
    "    assert len(y) == len(y_pred)\n",
    "    to_sum = [(math.log(y_pred[i] + 1) - math.log(y[i] + 1)) ** 2.0 for i,pred in enumerate(y_pred)]\n",
    "    return (sum(to_sum) * (1.0/len(y))) ** 0.5"
   ]
  },
  {
   "cell_type": "code",
   "execution_count": 6,
   "id": "92406593-4479-4224-bac3-518bc11d6f8b",
   "metadata": {},
   "outputs": [],
   "source": [
    "max_title = 32\n",
    "max_description = 64"
   ]
  },
  {
   "cell_type": "code",
   "execution_count": null,
   "id": "030a9a12-e4be-48dc-947a-a604abb4310a",
   "metadata": {},
   "outputs": [],
   "source": [
    "x_title = pad_sequences(dataset.title,maxlen = max_title)\n",
    "x_description = pad_sequences(dataset.description,maxlen = max_description)\n",
    "cat2 = dataset.category_2.to_numpy()\n",
    "cat3 = dataset.category_3.to_numpy()"
   ]
  },
  {
   "cell_type": "code",
   "execution_count": null,
   "id": "50f99ece-4028-4904-b83c-e75b4d8643a6",
   "metadata": {},
   "outputs": [],
   "source": [
    "feed_data = {\n",
    "    'name':x_title,\n",
    "    'item_desc':x_description,\n",
    "    'category_2':cat2,\n",
    "    'category_3':cat3\n",
    "}"
   ]
  },
  {
   "cell_type": "code",
   "execution_count": null,
   "id": "fbf846a9-1135-4718-8560-b152ee1f3bc5",
   "metadata": {},
   "outputs": [],
   "source": [
    "max_name = np.max(x_title)+1\n",
    "max_desp = np.max(x_description)+1\n",
    "max_cat2=np.max(cat2)+1\n",
    "max_cat3=np.max(cat3)+1"
   ]
  },
  {
   "cell_type": "code",
   "execution_count": null,
   "id": "d2aca54a-483a-47f4-97c6-dff89a464843",
   "metadata": {},
   "outputs": [],
   "source": [
    "y = dataset.selling_price.to_numpy()"
   ]
  },
  {
   "cell_type": "code",
   "execution_count": null,
   "id": "f73a4abf-bdf1-409b-8709-ba6b2444af98",
   "metadata": {},
   "outputs": [],
   "source": [
    "#shrinking y better look of mae, mse\n",
    "y = np.log(y+1)\n",
    "target_scaler = MinMaxScaler(feature_range=(-1, 1))\n",
    "y = target_scaler.fit_transform(y.reshape(-1,1))"
   ]
  },
  {
   "cell_type": "markdown",
   "id": "86bad1b4-dc7a-4fba-bd7e-40c977fd0786",
   "metadata": {},
   "source": [
    "### notebook "
   ]
  },
  {
   "cell_type": "code",
   "execution_count": null,
   "id": "0a3299f9-b35f-4dc6-9159-69e561068637",
   "metadata": {},
   "outputs": [],
   "source": [
    "def get_model():\n",
    "    #params\n",
    "    dr_r = 0.1\n",
    "    \n",
    "    #Inputs\n",
    "    name = Input(shape=[x_title.shape[1]], name=\"name\")\n",
    "    item_desc = Input(shape=[x_description.shape[1]], name=\"item_desc\")\n",
    "    category_1 = Input(shape=[1], name=\"category_2\")\n",
    "    category_2 = Input(shape=[1], name=\"category_3\")\n",
    "    \n",
    "    #Embeddings layers\n",
    "    emb_name = Embedding(max_name, 32)(name)\n",
    "    emb_item_desc = Embedding(max_desp, 64)(item_desc)\n",
    "    emb_category_1 = Dense(8)(category_1)\n",
    "    emb_category_2 = Dense(8)(category_2)\n",
    "\n",
    "    \n",
    "    #rnn layer\n",
    "    rnn_layer1 = GRU(16) (emb_item_desc)\n",
    "    rnn_layer2 = GRU(8) (emb_name)\n",
    "    \n",
    "    #main layer\n",
    "    main_l = concatenate([\n",
    "           Flatten() (category_1)\n",
    "         , Flatten() (category_2)\n",
    "         , rnn_layer1\n",
    "         , rnn_layer2\n",
    "    ])\n",
    "    main_l = Dropout(dr_r) (Dense(128) (main_l))\n",
    "    main_l = Dropout(dr_r) (Dense(64) (main_l))\n",
    "    \n",
    "    #output\n",
    "    output = Dense(1, activation=\"linear\") (main_l)\n",
    "    \n",
    "    #model\n",
    "    model = Model([name,item_desc,category_1,category_2], output) #name, item_desc, category_1, category_2\n",
    "    opt = keras.optimizers.Adam(learning_rate=0.01)\n",
    "    model.compile(loss=\"mse\", optimizer=opt, metrics=[\"mae\", rmsle_cust])\n",
    "    \n",
    "    return model\n",
    "\n",
    "    \n",
    "model = get_model()\n",
    "model.summary()"
   ]
  },
  {
   "cell_type": "code",
   "execution_count": null,
   "id": "7447fbc4-0131-41b8-a620-938a0285ad1e",
   "metadata": {},
   "outputs": [],
   "source": [
    "epochs = 10\n",
    "model.fit(feed_data,y,epochs = epochs)"
   ]
  },
  {
   "cell_type": "code",
   "execution_count": null,
   "id": "50fdf2eb-b36b-4a1a-a6a7-2bfd7fc2aed2",
   "metadata": {},
   "outputs": [],
   "source": []
  },
  {
   "cell_type": "code",
   "execution_count": null,
   "id": "de8fa390-3f4b-4025-9a2a-f75c2fd862ff",
   "metadata": {},
   "outputs": [],
   "source": []
  },
  {
   "cell_type": "code",
   "execution_count": null,
   "id": "94a36a3e-cb07-4d1c-a1ac-4b11e7d1e354",
   "metadata": {},
   "outputs": [],
   "source": []
  }
 ],
 "metadata": {
  "kernelspec": {
   "display_name": "Python 3 (ipykernel)",
   "language": "python",
   "name": "python3"
  },
  "language_info": {
   "codemirror_mode": {
    "name": "ipython",
    "version": 3
   },
   "file_extension": ".py",
   "mimetype": "text/x-python",
   "name": "python",
   "nbconvert_exporter": "python",
   "pygments_lexer": "ipython3",
   "version": "3.8.15"
  }
 },
 "nbformat": 4,
 "nbformat_minor": 5
}
