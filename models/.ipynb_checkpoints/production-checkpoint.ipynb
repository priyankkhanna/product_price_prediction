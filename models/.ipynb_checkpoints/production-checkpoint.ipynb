{
 "cells": [
  {
   "cell_type": "code",
   "execution_count": null,
   "id": "cdc0a27a-0b54-493e-b340-913ae25751b4",
   "metadata": {},
   "outputs": [],
   "source": [
    "## replace nones in description with zeros to do"
   ]
  },
  {
   "cell_type": "code",
   "execution_count": null,
   "id": "ae1d7f89-bb4f-4d47-ad68-4d1eb1afaf45",
   "metadata": {},
   "outputs": [],
   "source": []
  },
  {
   "cell_type": "code",
   "execution_count": 1,
   "id": "5613ad54-2407-4728-9200-3fa0bd87bddd",
   "metadata": {},
   "outputs": [],
   "source": [
    "from tensorflow.keras.models import load_model\n",
    "import json\n",
    "from tensorflow.keras.preprocessing.text import tokenizer_from_json\n",
    "import numpy as np\n",
    "from tensorflow.keras.utils import pad_sequences\n",
    "import pandas as pd\n",
    "import joblib\n",
    "import warnings"
   ]
  },
  {
   "cell_type": "code",
   "execution_count": 2,
   "id": "5594f8ef-2e99-4e76-84b3-4add165c5a38",
   "metadata": {},
   "outputs": [],
   "source": [
    "warnings.filterwarnings(\"ignore\")"
   ]
  },
  {
   "cell_type": "code",
   "execution_count": 3,
   "id": "bbce1ddb-7f18-4622-9768-12b2117a7d55",
   "metadata": {},
   "outputs": [],
   "source": [
    "my_scaler = joblib.load('scaler.gz')"
   ]
  },
  {
   "cell_type": "code",
   "execution_count": 4,
   "id": "db135030-f277-4381-85de-f7b6e16db6aa",
   "metadata": {},
   "outputs": [],
   "source": [
    "model = load_model('fasttext_rmlse_0.28_mae_782_mape_0.27.h5')"
   ]
  },
  {
   "cell_type": "code",
   "execution_count": 5,
   "id": "3e1f9a6c-2628-4505-ae6c-ed4e8a3de51d",
   "metadata": {},
   "outputs": [],
   "source": [
    "with open('tokenizer.json') as f:\n",
    "    data = json.load(f)\n",
    "    tokenizer = tokenizer_from_json(data)"
   ]
  },
  {
   "cell_type": "code",
   "execution_count": 6,
   "id": "19da66e5-80eb-4cca-a759-655e19e84929",
   "metadata": {},
   "outputs": [],
   "source": [
    "x_title = 'something something'\n",
    "x_description = 'honey phone there'\n",
    "cat1 = 2\n",
    "cat2 = 3\n",
    "cat3 = 4"
   ]
  },
  {
   "cell_type": "code",
   "execution_count": 7,
   "id": "2d1578d6-85c5-4e77-8cbe-8c29f14a9c5c",
   "metadata": {},
   "outputs": [],
   "source": [
    "feed_data = {\n",
    "    'x_title':[x_title],\n",
    "    'x_description':[x_description],\n",
    "    'category_1':[cat1],\n",
    "    'category_2':[cat2],\n",
    "    'category_3':[cat3]\n",
    "}"
   ]
  },
  {
   "cell_type": "code",
   "execution_count": 8,
   "id": "1c40e0ec-6189-4822-89d9-380b4ff35f34",
   "metadata": {},
   "outputs": [],
   "source": [
    "dataset = pd.DataFrame(feed_data)"
   ]
  },
  {
   "cell_type": "code",
   "execution_count": 9,
   "id": "6ca50254-3653-4762-903f-b1b88dae1389",
   "metadata": {},
   "outputs": [],
   "source": [
    "dataset.x_title = dataset.x_title.str.replace('[^a-zA-Z0-9 ]', '')\n",
    "dataset.x_description = dataset.x_description.str.replace('[^a-zA-Z0-9 ]', '')"
   ]
  },
  {
   "cell_type": "code",
   "execution_count": 10,
   "id": "1b3b4f16-41fd-481e-b35d-f0ab01682270",
   "metadata": {},
   "outputs": [],
   "source": [
    "max_title = 32\n",
    "max_description = 128"
   ]
  },
  {
   "cell_type": "code",
   "execution_count": 11,
   "id": "219f77fe-4157-489d-a595-d44720045090",
   "metadata": {},
   "outputs": [],
   "source": [
    "dataset.x_title = tokenizer.texts_to_sequences(dataset.x_title)\n",
    "dataset.x_description = tokenizer.texts_to_sequences(dataset.x_description)"
   ]
  },
  {
   "cell_type": "code",
   "execution_count": 12,
   "id": "13a5c0f7-da08-4564-be7e-9d34ad1ef5f3",
   "metadata": {},
   "outputs": [],
   "source": [
    "x_title = pad_sequences(dataset.x_title,maxlen = max_title)\n",
    "x_description = pad_sequences(dataset.x_description,maxlen = max_description)\n",
    "cat1 = dataset.category_1.to_numpy()\n",
    "cat2 = dataset.category_2.to_numpy()\n",
    "cat3 = dataset.category_3.to_numpy()\n",
    "feed_data = {\n",
    "    'name':x_title,\n",
    "    'item_desc':x_description,\n",
    "    'category_1':cat1,\n",
    "    'category_2':cat2,\n",
    "    'category_3':cat3\n",
    "}"
   ]
  },
  {
   "cell_type": "code",
   "execution_count": 13,
   "id": "e6458603-278b-4be1-b5a2-ec6c1f1f172a",
   "metadata": {},
   "outputs": [
    {
     "name": "stdout",
     "output_type": "stream",
     "text": [
      "1/1 [==============================] - 0s 123ms/step\n"
     ]
    }
   ],
   "source": [
    "y_pred = model.predict(feed_data)"
   ]
  },
  {
   "cell_type": "code",
   "execution_count": 14,
   "id": "6e47c360-ecdb-4f0c-ba2b-9ae8f11e6234",
   "metadata": {},
   "outputs": [],
   "source": [
    "y_pred = my_scaler.inverse_transform(y_pred)\n",
    "y_pred = np.exp(y_pred)-1"
   ]
  },
  {
   "cell_type": "code",
   "execution_count": 15,
   "id": "136d02de-44ac-48ae-a512-1a232a59fa06",
   "metadata": {},
   "outputs": [
    {
     "data": {
      "text/plain": [
       "550.6295"
      ]
     },
     "execution_count": 15,
     "metadata": {},
     "output_type": "execute_result"
    }
   ],
   "source": [
    "y_pred[0][0]"
   ]
  },
  {
   "cell_type": "code",
   "execution_count": null,
   "id": "f0fb0391-8bc1-4de4-a111-7d4c0d4a2f81",
   "metadata": {},
   "outputs": [],
   "source": []
  },
  {
   "cell_type": "code",
   "execution_count": null,
   "id": "e380df33-3067-404d-b815-5577c52842da",
   "metadata": {},
   "outputs": [],
   "source": []
  },
  {
   "cell_type": "code",
   "execution_count": null,
   "id": "6de92a72-b0af-4be4-9541-7c00dced7c24",
   "metadata": {},
   "outputs": [],
   "source": []
  },
  {
   "cell_type": "code",
   "execution_count": 15,
   "id": "1347c8f1-e520-42b4-9829-3f6c3b2c2896",
   "metadata": {},
   "outputs": [],
   "source": [
    "cat1_list = ['Bady and Kids', 'Electronics', 'Home and Furniture', \"Men's wear\",'Sports, Books and More', \"Women's wear\"]"
   ]
  },
  {
   "cell_type": "code",
   "execution_count": 16,
   "id": "64ce7104-9d59-4beb-897f-91ff8256d11b",
   "metadata": {},
   "outputs": [],
   "source": [
    "cat2_list = ['Auto Accessories', 'Baby Boy Clothing', 'Baby Care',\n",
    "       'Baby Girl Clothing', 'Beauty and Grooming', 'Bed Room Furniture',\n",
    "       'Books ', 'Boys Clothing', 'Camera Accessories', 'Cameras',\n",
    "       'Cleaning Supplies', 'Computer Accessories',\n",
    "       'Computer Peripherals', 'DIY Furniture', 'Desktop PCs',\n",
    "       'Ethnic Bottoms', 'Ethnic Wear', 'Exercise Fitness ',\n",
    "       'Festive Decor and Gifts', 'Food Essentials', 'Furnishing',\n",
    "       'Gaming', 'Gaming and Accessories', 'Girls Clothing',\n",
    "       'Health &Nutrition ', 'Health Care Appliances', 'Home Décor',\n",
    "       'Home Improvement', 'Home Lighting',\n",
    "       'Industrial &Scientific tools ', 'Kids Footwear ',\n",
    "       'Kitchen ,Cookware and Serveware', 'Kitchen Storage', 'Laptops',\n",
    "       'Lingerie and sleepware', 'Living Room Furniture',\n",
    "       'Medical Supplies', \"Men's Grooming\", 'Mobile Accessories',\n",
    "       'Network Components', 'Office and Study Furniture',\n",
    "       'Personal Care Appliances', 'Pet Supplies',\n",
    "       'Raincoats and windcheaters', 'School Supplies',\n",
    "       'Smart Home Automation', 'Smart Wearable Tech', 'Speakers',\n",
    "       'Sports', 'Stationery', 'Swim  and Beachwear', 'Tablets',\n",
    "       'Tableware and Dinnerware', 'Ties, socks, caps and more', 'Toys',\n",
    "       'Western and maternity Wear']"
   ]
  },
  {
   "cell_type": "code",
   "execution_count": 17,
   "id": "eee46917-77f2-43df-8d5a-5cb30062ff4e",
   "metadata": {},
   "outputs": [],
   "source": [
    "cat3_list = ['Ab Exercisers ', 'Academics ', 'Action Figures ', 'Apple Ipads',\n",
    "       'Ayurvedic Supplements ', 'Baby Bath ,Hair and Skin Care ',\n",
    "       'Baby Bathing Accessories ', 'Baby Bedding',\n",
    "       'Baby Cleaners and Detergents ',\n",
    "       'Baby Feeding Bottle and Accessories ',\n",
    "       'Baby Feeding Utensils and Accessories', 'Baby Food ',\n",
    "       'Baby Gear ', 'Baby Gift Sets and Combo ', 'Baby Grooming ',\n",
    "       'Baby Medical and Health Care ', 'Baby Oral Care ',\n",
    "       'Baby Proofing and Safety ', 'Badminton ', 'Barware ',\n",
    "       'Bath Towels ', 'Bath and Spa', 'Bathroom and Kitchen Fittings ',\n",
    "       'Bean Bags ', 'Beard Care and Grooming ', 'Beds ', 'Bedsheets ',\n",
    "       'Blankets ', 'Bluetooth Speakers', 'Board Games ', 'Bp Monitors',\n",
    "       'Bulbs', 'Calculators ', 'Camping  and Hiking ',\n",
    "       'Car Audio /Video ', 'Car Mobile Accessories ', 'Card Holders ',\n",
    "       'Cardio Equipment ', 'Casseroles ', 'Cats ', 'Ceiling Lamp ',\n",
    "       'Chocolates ', 'Cleaning Supplies', 'Clocks ', 'Coffee Mugs',\n",
    "       'Coffee Tables ', 'Collapsible Wardrobes ', 'Cricket ',\n",
    "       'Curtains ', 'Cushions and Pillows ', 'Cycling ',\n",
    "       'DSLR and Mirrorless', 'DTH Set Top Box', 'Deodorants ',\n",
    "       'Deodorants and Perfumes ', 'Desk Organizers ', 'Desktop PCs',\n",
    "       'Dhoti ', 'Dhoti Pants ', 'Diapers ', 'Diaries ',\n",
    "       'Dining Tables and Chairs ', 'Dinner Set ', 'Dogs ',\n",
    "       'Dolls and Doll Houses ', 'Dumbbells ', 'Educational Toys ',\n",
    "       'Emergency Lights ', 'Epilators ', 'External Hard Disks',\n",
    "       'Festive Decor and Gifts', 'Fish and Aquatics ', 'Flasks ',\n",
    "       'Floor Coverings', 'Football ', 'Gaming Accessories ',\n",
    "       'Gaming Consoles ', 'Gaming Laptops', 'Gaming and Accessories',\n",
    "       'Gas Stoves ', 'Gifting Combos ', 'Grooming Kits ', 'Gym Gloves ',\n",
    "       'Hair Care ', 'Hair Dryers ', 'Hair Straightners ',\n",
    "       'Headphones & Headsets', 'Health Drinks ',\n",
    "       'Helicopter and Drones ', 'Helmets and Riding Gears ',\n",
    "       'Home Gyms ', 'Home Utilities and Organizers ', 'Hot Water Bag ',\n",
    "       'Industrial Measurement Devices ', 'Industrial Testing Devices ',\n",
    "       'Innerwear ', 'Jeggings and Tights ', 'Key Chains ',\n",
    "       'Kids Footwear ', 'Kids Room Furniture ', 'Kitchen Containers ',\n",
    "       'Kitchen and Table Linen ', 'Kitchen tools ',\n",
    "       'Lab and Scientific Products ', 'Laptop Bags',\n",
    "       'Laptop Skins and Decals', 'Lawn and Gardening ',\n",
    "       'Leggings and Churidars ', 'Lens', 'Literature and Fiction ',\n",
    "       'Lunch Box ', 'Lunch Boxes ', 'Lungi ', 'Make Up ', 'Mattresses ',\n",
    "       'Memory Cards', 'Mobile Cables', 'Mobile Cases', 'Mobile Chargers',\n",
    "       'Mobile Holders', 'Monitors', 'Mouse', 'Musical Toys ',\n",
    "       'Non Fiction ', 'Nursing and Breast Feeding ',\n",
    "       'Nuts and Dry Fruits ', 'Outdoor Toys ',\n",
    "       'Packaging and Shipping Products ', 'Paintings ', 'Pans ',\n",
    "       'Party Supplies ', 'Pendrives', 'Pens ', 'Perfumes ',\n",
    "       'Power Banks', 'Pregnancy and Fertility Kits ',\n",
    "       'Pressure Cookers ', 'Printers and Ink Cartridges',\n",
    "       'Protein Supplements ', 'Puzzles ', 'Raincoats and windcheaters',\n",
    "       'Remote Control Toys ', 'Routers', 'S.T.E.M Toys ',\n",
    "       'Safety Products ', 'Saree Shapewear and Petticoats ',\n",
    "       'School Bags ', 'School Combo Sets ', 'Screenguards',\n",
    "       'Self -Help ', 'Sexual Wellness ', 'Shakers and Sippers ',\n",
    "       'Shapewear ', 'Shavers ', 'Shaving and Aftershave ', 'Sherwanis ',\n",
    "       'Shoe Racks ', 'Showpieces and Figurines ', 'Skating ',\n",
    "       'Skin Care ', 'Smart Bands', 'Smart Door Locks ',\n",
    "       'Smart Glasses (VR )', 'Smart Glasses (VR)', 'Smart Headphones',\n",
    "       'Smart Security System ', 'Smart Watches', 'Sofa ', 'Sofa Beds',\n",
    "       'Soft Toys ', 'Soundbars', 'Sports and Action', 'Stickers ',\n",
    "       'Support ', 'Sweets Store ', 'Swim and Beachwear', 'Swimming ',\n",
    "       'TV Units ', 'Table Lamp ', 'Tawas ', 'Ties, socks, caps and more',\n",
    "       'Tools and Measuring Equipments ', 'Toy Guns ', 'Trimmers ',\n",
    "       'Tripods', 'Vehicle Lubricants ', 'Vitamin Supplements ',\n",
    "       'Wall Lamp ', 'Wall Shelves ', 'Wardrobes ', 'Water Bottles ',\n",
    "       'Weighing Scale', 'Wipes ', 'Yoga Mat ', 'Young Readers ',\n",
    "       'snacks and beverages']"
   ]
  },
  {
   "cell_type": "code",
   "execution_count": 19,
   "id": "c0ea2aed-e965-4726-995a-82d09f46f0ea",
   "metadata": {},
   "outputs": [
    {
     "name": "stdout",
     "output_type": "stream",
     "text": [
      "<select><option value=\"0\">Bady and Kids</option><option value=\"1\">Electronics</option><option value=\"2\">Home and Furniture</option><option value=\"3\">Men's wear</option><option value=\"4\">Sports, Books and More</option><option value=\"5\">Women's wear</option></select>\n"
     ]
    }
   ],
   "source": [
    "# Example array of lists\n",
    "options = cat1_list\n",
    "\n",
    "# Generating select and option HTML code\n",
    "select_html = '<select>'\n",
    "for j, option_value in enumerate(options):\n",
    "    select_html += f'<option value=\"{j}\">{option_value}</option>'\n",
    "select_html += '</select>'\n",
    "\n",
    "# Output the HTML code\n",
    "print(select_html)\n"
   ]
  },
  {
   "cell_type": "code",
   "execution_count": null,
   "id": "2e95af5f-727b-4627-acca-350fdd96b50c",
   "metadata": {},
   "outputs": [],
   "source": []
  }
 ],
 "metadata": {
  "kernelspec": {
   "display_name": "Python 3 (ipykernel)",
   "language": "python",
   "name": "python3"
  },
  "language_info": {
   "codemirror_mode": {
    "name": "ipython",
    "version": 3
   },
   "file_extension": ".py",
   "mimetype": "text/x-python",
   "name": "python",
   "nbconvert_exporter": "python",
   "pygments_lexer": "ipython3",
   "version": "3.8.15"
  }
 },
 "nbformat": 4,
 "nbformat_minor": 5
}
