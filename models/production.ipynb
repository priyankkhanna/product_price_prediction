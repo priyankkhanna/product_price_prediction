{
 "cells": [
  {
   "cell_type": "code",
   "execution_count": null,
   "id": "cdc0a27a-0b54-493e-b340-913ae25751b4",
   "metadata": {},
   "outputs": [],
   "source": [
    "## replace nones in description with zeros to do"
   ]
  },
  {
   "cell_type": "code",
   "execution_count": 5,
   "id": "ae1d7f89-bb4f-4d47-ad68-4d1eb1afaf45",
   "metadata": {},
   "outputs": [
    {
     "name": "stdout",
     "output_type": "stream",
     "text": [
      "Collecting tensorflow\n",
      "  Using cached tensorflow-2.11.0-cp38-cp38-win_amd64.whl (1.9 kB)\n",
      "Collecting tensorflow-intel==2.11.0\n",
      "  Using cached tensorflow_intel-2.11.0-cp38-cp38-win_amd64.whl (266.3 MB)\n",
      "Collecting gast<=0.4.0,>=0.2.1\n",
      "  Using cached gast-0.4.0-py3-none-any.whl (9.8 kB)\n",
      "Collecting absl-py>=1.0.0\n",
      "  Downloading absl_py-1.4.0-py3-none-any.whl (126 kB)\n",
      "     ------------------------------------ 126.5/126.5 kB 494.9 kB/s eta 0:00:00\n",
      "Requirement already satisfied: setuptools in c:\\users\\priya\\anaconda3\\lib\\site-packages (from tensorflow-intel==2.11.0->tensorflow) (65.6.3)\n",
      "Collecting tensorflow-estimator<2.12,>=2.11.0\n",
      "  Using cached tensorflow_estimator-2.11.0-py2.py3-none-any.whl (439 kB)\n",
      "Collecting tensorflow-io-gcs-filesystem>=0.23.1\n",
      "  Downloading tensorflow_io_gcs_filesystem-0.30.0-cp38-cp38-win_amd64.whl (1.5 MB)\n",
      "     ---------------------------------------- 1.5/1.5 MB 1.6 MB/s eta 0:00:00\n",
      "Collecting keras<2.12,>=2.11.0\n",
      "  Using cached keras-2.11.0-py2.py3-none-any.whl (1.7 MB)\n",
      "Requirement already satisfied: numpy>=1.20 in c:\\users\\priya\\anaconda3\\lib\\site-packages (from tensorflow-intel==2.11.0->tensorflow) (1.23.5)\n",
      "Requirement already satisfied: protobuf<3.20,>=3.9.2 in c:\\users\\priya\\anaconda3\\lib\\site-packages (from tensorflow-intel==2.11.0->tensorflow) (3.18.0)\n",
      "Requirement already satisfied: wrapt>=1.11.0 in c:\\users\\priya\\anaconda3\\lib\\site-packages (from tensorflow-intel==2.11.0->tensorflow) (1.14.1)\n",
      "Collecting flatbuffers>=2.0\n",
      "  Downloading flatbuffers-23.1.21-py2.py3-none-any.whl (26 kB)\n",
      "Requirement already satisfied: six>=1.12.0 in c:\\users\\priya\\anaconda3\\lib\\site-packages (from tensorflow-intel==2.11.0->tensorflow) (1.16.0)\n",
      "Collecting libclang>=13.0.0\n",
      "  Downloading libclang-15.0.6.1-py2.py3-none-win_amd64.whl (23.2 MB)\n",
      "     -------------------------------------- 23.2/23.2 MB 852.4 kB/s eta 0:00:00\n",
      "Collecting opt-einsum>=2.3.2\n",
      "  Using cached opt_einsum-3.3.0-py3-none-any.whl (65 kB)\n",
      "Collecting google-pasta>=0.1.1\n",
      "  Using cached google_pasta-0.2.0-py3-none-any.whl (57 kB)\n",
      "Requirement already satisfied: packaging in c:\\users\\priya\\anaconda3\\lib\\site-packages (from tensorflow-intel==2.11.0->tensorflow) (22.0)\n",
      "Requirement already satisfied: typing-extensions>=3.6.6 in c:\\users\\priya\\anaconda3\\lib\\site-packages (from tensorflow-intel==2.11.0->tensorflow) (4.4.0)\n",
      "Collecting grpcio<2.0,>=1.24.3\n",
      "  Using cached grpcio-1.51.1-cp38-cp38-win_amd64.whl (3.7 MB)\n",
      "Collecting astunparse>=1.6.0\n",
      "  Using cached astunparse-1.6.3-py2.py3-none-any.whl (12 kB)\n",
      "Requirement already satisfied: h5py>=2.9.0 in c:\\users\\priya\\anaconda3\\lib\\site-packages (from tensorflow-intel==2.11.0->tensorflow) (3.7.0)\n",
      "Requirement already satisfied: termcolor>=1.1.0 in c:\\users\\priya\\anaconda3\\lib\\site-packages (from tensorflow-intel==2.11.0->tensorflow) (1.1.0)\n",
      "Collecting tensorboard<2.12,>=2.11\n",
      "  Downloading tensorboard-2.11.2-py3-none-any.whl (6.0 MB)\n",
      "     ---------------------------------------- 6.0/6.0 MB 540.0 kB/s eta 0:00:00\n",
      "Requirement already satisfied: wheel<1.0,>=0.23.0 in c:\\users\\priya\\anaconda3\\lib\\site-packages (from astunparse>=1.6.0->tensorflow-intel==2.11.0->tensorflow) (0.38.4)\n",
      "Collecting markdown>=2.6.8\n",
      "  Using cached Markdown-3.4.1-py3-none-any.whl (93 kB)\n",
      "Requirement already satisfied: requests<3,>=2.21.0 in c:\\users\\priya\\anaconda3\\lib\\site-packages (from tensorboard<2.12,>=2.11->tensorflow-intel==2.11.0->tensorflow) (2.28.1)\n",
      "Requirement already satisfied: werkzeug>=1.0.1 in c:\\users\\priya\\anaconda3\\lib\\site-packages (from tensorboard<2.12,>=2.11->tensorflow-intel==2.11.0->tensorflow) (2.2.2)\n",
      "Collecting google-auth<3,>=1.6.3\n",
      "  Downloading google_auth-2.16.1-py2.py3-none-any.whl (177 kB)\n",
      "     -------------------------------------- 177.2/177.2 kB 1.5 MB/s eta 0:00:00\n",
      "Collecting google-auth-oauthlib<0.5,>=0.4.1\n",
      "  Using cached google_auth_oauthlib-0.4.6-py2.py3-none-any.whl (18 kB)\n",
      "Collecting tensorboard-data-server<0.7.0,>=0.6.0\n",
      "  Using cached tensorboard_data_server-0.6.1-py3-none-any.whl (2.4 kB)\n",
      "Collecting tensorboard-plugin-wit>=1.6.0\n",
      "  Using cached tensorboard_plugin_wit-1.8.1-py3-none-any.whl (781 kB)\n",
      "Collecting cachetools<6.0,>=2.0.0\n",
      "  Downloading cachetools-5.3.0-py3-none-any.whl (9.3 kB)\n",
      "Collecting pyasn1-modules>=0.2.1\n",
      "  Using cached pyasn1_modules-0.2.8-py2.py3-none-any.whl (155 kB)\n",
      "Collecting rsa<5,>=3.1.4\n",
      "  Using cached rsa-4.9-py3-none-any.whl (34 kB)\n",
      "Collecting requests-oauthlib>=0.7.0\n",
      "  Using cached requests_oauthlib-1.3.1-py2.py3-none-any.whl (23 kB)\n",
      "Requirement already satisfied: importlib-metadata>=4.4 in c:\\users\\priya\\anaconda3\\lib\\site-packages (from markdown>=2.6.8->tensorboard<2.12,>=2.11->tensorflow-intel==2.11.0->tensorflow) (4.11.3)\n",
      "Requirement already satisfied: certifi>=2017.4.17 in c:\\users\\priya\\anaconda3\\lib\\site-packages (from requests<3,>=2.21.0->tensorboard<2.12,>=2.11->tensorflow-intel==2.11.0->tensorflow) (2022.12.7)\n",
      "Requirement already satisfied: urllib3<1.27,>=1.21.1 in c:\\users\\priya\\anaconda3\\lib\\site-packages (from requests<3,>=2.21.0->tensorboard<2.12,>=2.11->tensorflow-intel==2.11.0->tensorflow) (1.26.14)\n",
      "Requirement already satisfied: charset-normalizer<3,>=2 in c:\\users\\priya\\anaconda3\\lib\\site-packages (from requests<3,>=2.21.0->tensorboard<2.12,>=2.11->tensorflow-intel==2.11.0->tensorflow) (2.0.4)\n",
      "Requirement already satisfied: idna<4,>=2.5 in c:\\users\\priya\\anaconda3\\lib\\site-packages (from requests<3,>=2.21.0->tensorboard<2.12,>=2.11->tensorflow-intel==2.11.0->tensorflow) (3.4)\n",
      "Requirement already satisfied: MarkupSafe>=2.1.1 in c:\\users\\priya\\anaconda3\\lib\\site-packages (from werkzeug>=1.0.1->tensorboard<2.12,>=2.11->tensorflow-intel==2.11.0->tensorflow) (2.1.1)\n",
      "Requirement already satisfied: zipp>=0.5 in c:\\users\\priya\\anaconda3\\lib\\site-packages (from importlib-metadata>=4.4->markdown>=2.6.8->tensorboard<2.12,>=2.11->tensorflow-intel==2.11.0->tensorflow) (3.11.0)\n",
      "Collecting pyasn1<0.5.0,>=0.4.6\n",
      "  Using cached pyasn1-0.4.8-py2.py3-none-any.whl (77 kB)\n",
      "Collecting oauthlib>=3.0.0\n",
      "  Using cached oauthlib-3.2.2-py3-none-any.whl (151 kB)\n",
      "Installing collected packages: tensorboard-plugin-wit, pyasn1, libclang, flatbuffers, tensorflow-io-gcs-filesystem, tensorflow-estimator, tensorboard-data-server, rsa, pyasn1-modules, opt-einsum, oauthlib, keras, grpcio, google-pasta, gast, cachetools, astunparse, absl-py, requests-oauthlib, markdown, google-auth, google-auth-oauthlib, tensorboard, tensorflow-intel, tensorflow\n",
      "  Attempting uninstall: keras\n",
      "    Found existing installation: Keras 2.4.3\n",
      "    Uninstalling Keras-2.4.3:\n",
      "      Successfully uninstalled Keras-2.4.3\n",
      "Successfully installed absl-py-1.4.0 astunparse-1.6.3 cachetools-5.3.0 flatbuffers-23.1.21 gast-0.4.0 google-auth-2.16.1 google-auth-oauthlib-0.4.6 google-pasta-0.2.0 grpcio-1.51.1 keras-2.11.0 libclang-15.0.6.1 markdown-3.4.1 oauthlib-3.2.2 opt-einsum-3.3.0 pyasn1-0.4.8 pyasn1-modules-0.2.8 requests-oauthlib-1.3.1 rsa-4.9 tensorboard-2.11.2 tensorboard-data-server-0.6.1 tensorboard-plugin-wit-1.8.1 tensorflow-2.11.0 tensorflow-estimator-2.11.0 tensorflow-intel-2.11.0 tensorflow-io-gcs-filesystem-0.30.0\n",
      "Note: you may need to restart the kernel to use updated packages.\n"
     ]
    }
   ],
   "source": [
    "pip install tensorflow"
   ]
  },
  {
   "cell_type": "code",
   "execution_count": 6,
   "id": "5613ad54-2407-4728-9200-3fa0bd87bddd",
   "metadata": {},
   "outputs": [],
   "source": [
    "from tensorflow.keras.models import load_model\n",
    "import json\n",
    "from tensorflow.keras.preprocessing.text import tokenizer_from_json\n",
    "import numpy as np\n",
    "from tensorflow.keras.utils import pad_sequences\n",
    "import pandas as pd\n",
    "import joblib\n",
    "import warnings"
   ]
  },
  {
   "cell_type": "code",
   "execution_count": 2,
   "id": "5594f8ef-2e99-4e76-84b3-4add165c5a38",
   "metadata": {},
   "outputs": [],
   "source": [
    "warnings.filterwarnings(\"ignore\")"
   ]
  },
  {
   "cell_type": "code",
   "execution_count": 3,
   "id": "bbce1ddb-7f18-4622-9768-12b2117a7d55",
   "metadata": {},
   "outputs": [],
   "source": [
    "my_scaler = joblib.load('scaler.gz')"
   ]
  },
  {
   "cell_type": "code",
   "execution_count": 4,
   "id": "db135030-f277-4381-85de-f7b6e16db6aa",
   "metadata": {},
   "outputs": [],
   "source": [
    "model = load_model('fasttext_rmlse_0.28_mae_782_mape_0.27.h5')"
   ]
  },
  {
   "cell_type": "code",
   "execution_count": 5,
   "id": "3e1f9a6c-2628-4505-ae6c-ed4e8a3de51d",
   "metadata": {},
   "outputs": [],
   "source": [
    "with open('tokenizer.json') as f:\n",
    "    data = json.load(f)\n",
    "    tokenizer = tokenizer_from_json(data)"
   ]
  },
  {
   "cell_type": "code",
   "execution_count": 6,
   "id": "19da66e5-80eb-4cca-a759-655e19e84929",
   "metadata": {},
   "outputs": [],
   "source": [
    "x_title = 'something something'\n",
    "x_description = 'honey phone there'\n",
    "cat1 = 2\n",
    "cat2 = 3\n",
    "cat3 = 4"
   ]
  },
  {
   "cell_type": "code",
   "execution_count": 7,
   "id": "2d1578d6-85c5-4e77-8cbe-8c29f14a9c5c",
   "metadata": {},
   "outputs": [],
   "source": [
    "feed_data = {\n",
    "    'x_title':[x_title],\n",
    "    'x_description':[x_description],\n",
    "    'category_1':[cat1],\n",
    "    'category_2':[cat2],\n",
    "    'category_3':[cat3]\n",
    "}"
   ]
  },
  {
   "cell_type": "code",
   "execution_count": 8,
   "id": "1c40e0ec-6189-4822-89d9-380b4ff35f34",
   "metadata": {},
   "outputs": [],
   "source": [
    "dataset = pd.DataFrame(feed_data)"
   ]
  },
  {
   "cell_type": "code",
   "execution_count": 9,
   "id": "6ca50254-3653-4762-903f-b1b88dae1389",
   "metadata": {},
   "outputs": [],
   "source": [
    "dataset.x_title = dataset.x_title.str.replace('[^a-zA-Z0-9 ]', '')\n",
    "dataset.x_description = dataset.x_description.str.replace('[^a-zA-Z0-9 ]', '')"
   ]
  },
  {
   "cell_type": "code",
   "execution_count": 10,
   "id": "1b3b4f16-41fd-481e-b35d-f0ab01682270",
   "metadata": {},
   "outputs": [],
   "source": [
    "max_title = 32\n",
    "max_description = 128"
   ]
  },
  {
   "cell_type": "code",
   "execution_count": 11,
   "id": "219f77fe-4157-489d-a595-d44720045090",
   "metadata": {},
   "outputs": [],
   "source": [
    "dataset.x_title = tokenizer.texts_to_sequences(dataset.x_title)\n",
    "dataset.x_description = tokenizer.texts_to_sequences(dataset.x_description)"
   ]
  },
  {
   "cell_type": "code",
   "execution_count": 12,
   "id": "13a5c0f7-da08-4564-be7e-9d34ad1ef5f3",
   "metadata": {},
   "outputs": [],
   "source": [
    "x_title = pad_sequences(dataset.x_title,maxlen = max_title)\n",
    "x_description = pad_sequences(dataset.x_description,maxlen = max_description)\n",
    "cat1 = dataset.category_1.to_numpy()\n",
    "cat2 = dataset.category_2.to_numpy()\n",
    "cat3 = dataset.category_3.to_numpy()\n",
    "feed_data = {\n",
    "    'name':x_title,\n",
    "    'item_desc':x_description,\n",
    "    'category_1':cat1,\n",
    "    'category_2':cat2,\n",
    "    'category_3':cat3\n",
    "}"
   ]
  },
  {
   "cell_type": "code",
   "execution_count": 13,
   "id": "e6458603-278b-4be1-b5a2-ec6c1f1f172a",
   "metadata": {},
   "outputs": [
    {
     "name": "stdout",
     "output_type": "stream",
     "text": [
      "1/1 [==============================] - 0s 123ms/step\n"
     ]
    }
   ],
   "source": [
    "y_pred = model.predict(feed_data)"
   ]
  },
  {
   "cell_type": "code",
   "execution_count": 14,
   "id": "6e47c360-ecdb-4f0c-ba2b-9ae8f11e6234",
   "metadata": {},
   "outputs": [],
   "source": [
    "y_pred = my_scaler.inverse_transform(y_pred)\n",
    "y_pred = np.exp(y_pred)-1"
   ]
  },
  {
   "cell_type": "code",
   "execution_count": 15,
   "id": "136d02de-44ac-48ae-a512-1a232a59fa06",
   "metadata": {},
   "outputs": [
    {
     "data": {
      "text/plain": [
       "550.6295"
      ]
     },
     "execution_count": 15,
     "metadata": {},
     "output_type": "execute_result"
    }
   ],
   "source": [
    "y_pred[0][0]"
   ]
  },
  {
   "cell_type": "code",
   "execution_count": null,
   "id": "f0fb0391-8bc1-4de4-a111-7d4c0d4a2f81",
   "metadata": {},
   "outputs": [],
   "source": []
  },
  {
   "cell_type": "code",
   "execution_count": null,
   "id": "e380df33-3067-404d-b815-5577c52842da",
   "metadata": {},
   "outputs": [],
   "source": []
  },
  {
   "cell_type": "code",
   "execution_count": null,
   "id": "6de92a72-b0af-4be4-9541-7c00dced7c24",
   "metadata": {},
   "outputs": [],
   "source": []
  },
  {
   "cell_type": "code",
   "execution_count": 7,
   "id": "1347c8f1-e520-42b4-9829-3f6c3b2c2896",
   "metadata": {},
   "outputs": [],
   "source": [
    "cat1_list = ['Bady and Kids', 'Electronics', 'Home and Furniture', \"Men's wear\",'Sports, Books and More', \"Women's wear\"]"
   ]
  },
  {
   "cell_type": "code",
   "execution_count": 8,
   "id": "64ce7104-9d59-4beb-897f-91ff8256d11b",
   "metadata": {},
   "outputs": [],
   "source": [
    "cat2_list = ['Auto Accessories', 'Baby Boy Clothing', 'Baby Care',\n",
    "       'Baby Girl Clothing', 'Beauty and Grooming', 'Bed Room Furniture',\n",
    "       'Books ', 'Boys Clothing', 'Camera Accessories', 'Cameras',\n",
    "       'Cleaning Supplies', 'Computer Accessories',\n",
    "       'Computer Peripherals', 'DIY Furniture', 'Desktop PCs',\n",
    "       'Ethnic Bottoms', 'Ethnic Wear', 'Exercise Fitness ',\n",
    "       'Festive Decor and Gifts', 'Food Essentials', 'Furnishing',\n",
    "       'Gaming', 'Gaming and Accessories', 'Girls Clothing',\n",
    "       'Health &Nutrition ', 'Health Care Appliances', 'Home Décor',\n",
    "       'Home Improvement', 'Home Lighting',\n",
    "       'Industrial &Scientific tools ', 'Kids Footwear ',\n",
    "       'Kitchen ,Cookware and Serveware', 'Kitchen Storage', 'Laptops',\n",
    "       'Lingerie and sleepware', 'Living Room Furniture',\n",
    "       'Medical Supplies', \"Men's Grooming\", 'Mobile Accessories',\n",
    "       'Network Components', 'Office and Study Furniture',\n",
    "       'Personal Care Appliances', 'Pet Supplies',\n",
    "       'Raincoats and windcheaters', 'School Supplies',\n",
    "       'Smart Home Automation', 'Smart Wearable Tech', 'Speakers',\n",
    "       'Sports', 'Stationery', 'Swim  and Beachwear', 'Tablets',\n",
    "       'Tableware and Dinnerware', 'Ties, socks, caps and more', 'Toys',\n",
    "       'Western and maternity Wear']"
   ]
  },
  {
   "cell_type": "code",
   "execution_count": 9,
   "id": "eee46917-77f2-43df-8d5a-5cb30062ff4e",
   "metadata": {},
   "outputs": [],
   "source": [
    "cat3_list = ['Ab Exercisers ', 'Academics ', 'Action Figures ', 'Apple Ipads',\n",
    "       'Ayurvedic Supplements ', 'Baby Bath ,Hair and Skin Care ',\n",
    "       'Baby Bathing Accessories ', 'Baby Bedding',\n",
    "       'Baby Cleaners and Detergents ',\n",
    "       'Baby Feeding Bottle and Accessories ',\n",
    "       'Baby Feeding Utensils and Accessories', 'Baby Food ',\n",
    "       'Baby Gear ', 'Baby Gift Sets and Combo ', 'Baby Grooming ',\n",
    "       'Baby Medical and Health Care ', 'Baby Oral Care ',\n",
    "       'Baby Proofing and Safety ', 'Badminton ', 'Barware ',\n",
    "       'Bath Towels ', 'Bath and Spa', 'Bathroom and Kitchen Fittings ',\n",
    "       'Bean Bags ', 'Beard Care and Grooming ', 'Beds ', 'Bedsheets ',\n",
    "       'Blankets ', 'Bluetooth Speakers', 'Board Games ', 'Bp Monitors',\n",
    "       'Bulbs', 'Calculators ', 'Camping  and Hiking ',\n",
    "       'Car Audio /Video ', 'Car Mobile Accessories ', 'Card Holders ',\n",
    "       'Cardio Equipment ', 'Casseroles ', 'Cats ', 'Ceiling Lamp ',\n",
    "       'Chocolates ', 'Cleaning Supplies', 'Clocks ', 'Coffee Mugs',\n",
    "       'Coffee Tables ', 'Collapsible Wardrobes ', 'Cricket ',\n",
    "       'Curtains ', 'Cushions and Pillows ', 'Cycling ',\n",
    "       'DSLR and Mirrorless', 'DTH Set Top Box', 'Deodorants ',\n",
    "       'Deodorants and Perfumes ', 'Desk Organizers ', 'Desktop PCs',\n",
    "       'Dhoti ', 'Dhoti Pants ', 'Diapers ', 'Diaries ',\n",
    "       'Dining Tables and Chairs ', 'Dinner Set ', 'Dogs ',\n",
    "       'Dolls and Doll Houses ', 'Dumbbells ', 'Educational Toys ',\n",
    "       'Emergency Lights ', 'Epilators ', 'External Hard Disks',\n",
    "       'Festive Decor and Gifts', 'Fish and Aquatics ', 'Flasks ',\n",
    "       'Floor Coverings', 'Football ', 'Gaming Accessories ',\n",
    "       'Gaming Consoles ', 'Gaming Laptops', 'Gaming and Accessories',\n",
    "       'Gas Stoves ', 'Gifting Combos ', 'Grooming Kits ', 'Gym Gloves ',\n",
    "       'Hair Care ', 'Hair Dryers ', 'Hair Straightners ',\n",
    "       'Headphones & Headsets', 'Health Drinks ',\n",
    "       'Helicopter and Drones ', 'Helmets and Riding Gears ',\n",
    "       'Home Gyms ', 'Home Utilities and Organizers ', 'Hot Water Bag ',\n",
    "       'Industrial Measurement Devices ', 'Industrial Testing Devices ',\n",
    "       'Innerwear ', 'Jeggings and Tights ', 'Key Chains ',\n",
    "       'Kids Footwear ', 'Kids Room Furniture ', 'Kitchen Containers ',\n",
    "       'Kitchen and Table Linen ', 'Kitchen tools ',\n",
    "       'Lab and Scientific Products ', 'Laptop Bags',\n",
    "       'Laptop Skins and Decals', 'Lawn and Gardening ',\n",
    "       'Leggings and Churidars ', 'Lens', 'Literature and Fiction ',\n",
    "       'Lunch Box ', 'Lunch Boxes ', 'Lungi ', 'Make Up ', 'Mattresses ',\n",
    "       'Memory Cards', 'Mobile Cables', 'Mobile Cases', 'Mobile Chargers',\n",
    "       'Mobile Holders', 'Monitors', 'Mouse', 'Musical Toys ',\n",
    "       'Non Fiction ', 'Nursing and Breast Feeding ',\n",
    "       'Nuts and Dry Fruits ', 'Outdoor Toys ',\n",
    "       'Packaging and Shipping Products ', 'Paintings ', 'Pans ',\n",
    "       'Party Supplies ', 'Pendrives', 'Pens ', 'Perfumes ',\n",
    "       'Power Banks', 'Pregnancy and Fertility Kits ',\n",
    "       'Pressure Cookers ', 'Printers and Ink Cartridges',\n",
    "       'Protein Supplements ', 'Puzzles ', 'Raincoats and windcheaters',\n",
    "       'Remote Control Toys ', 'Routers', 'S.T.E.M Toys ',\n",
    "       'Safety Products ', 'Saree Shapewear and Petticoats ',\n",
    "       'School Bags ', 'School Combo Sets ', 'Screenguards',\n",
    "       'Self -Help ', 'Sexual Wellness ', 'Shakers and Sippers ',\n",
    "       'Shapewear ', 'Shavers ', 'Shaving and Aftershave ', 'Sherwanis ',\n",
    "       'Shoe Racks ', 'Showpieces and Figurines ', 'Skating ',\n",
    "       'Skin Care ', 'Smart Bands', 'Smart Door Locks ',\n",
    "       'Smart Glasses (VR )', 'Smart Glasses (VR)', 'Smart Headphones',\n",
    "       'Smart Security System ', 'Smart Watches', 'Sofa ', 'Sofa Beds',\n",
    "       'Soft Toys ', 'Soundbars', 'Sports and Action', 'Stickers ',\n",
    "       'Support ', 'Sweets Store ', 'Swim and Beachwear', 'Swimming ',\n",
    "       'TV Units ', 'Table Lamp ', 'Tawas ', 'Ties, socks, caps and more',\n",
    "       'Tools and Measuring Equipments ', 'Toy Guns ', 'Trimmers ',\n",
    "       'Tripods', 'Vehicle Lubricants ', 'Vitamin Supplements ',\n",
    "       'Wall Lamp ', 'Wall Shelves ', 'Wardrobes ', 'Water Bottles ',\n",
    "       'Weighing Scale', 'Wipes ', 'Yoga Mat ', 'Young Readers ',\n",
    "       'snacks and beverages']"
   ]
  },
  {
   "cell_type": "code",
   "execution_count": 12,
   "id": "c0ea2aed-e965-4726-995a-82d09f46f0ea",
   "metadata": {},
   "outputs": [
    {
     "name": "stdout",
     "output_type": "stream",
     "text": [
      "<select><option value=\"0\">Ab Exercisers </option><option value=\"1\">Academics </option><option value=\"2\">Action Figures </option><option value=\"3\">Apple Ipads</option><option value=\"4\">Ayurvedic Supplements </option><option value=\"5\">Baby Bath ,Hair and Skin Care </option><option value=\"6\">Baby Bathing Accessories </option><option value=\"7\">Baby Bedding</option><option value=\"8\">Baby Cleaners and Detergents </option><option value=\"9\">Baby Feeding Bottle and Accessories </option><option value=\"10\">Baby Feeding Utensils and Accessories</option><option value=\"11\">Baby Food </option><option value=\"12\">Baby Gear </option><option value=\"13\">Baby Gift Sets and Combo </option><option value=\"14\">Baby Grooming </option><option value=\"15\">Baby Medical and Health Care </option><option value=\"16\">Baby Oral Care </option><option value=\"17\">Baby Proofing and Safety </option><option value=\"18\">Badminton </option><option value=\"19\">Barware </option><option value=\"20\">Bath Towels </option><option value=\"21\">Bath and Spa</option><option value=\"22\">Bathroom and Kitchen Fittings </option><option value=\"23\">Bean Bags </option><option value=\"24\">Beard Care and Grooming </option><option value=\"25\">Beds </option><option value=\"26\">Bedsheets </option><option value=\"27\">Blankets </option><option value=\"28\">Bluetooth Speakers</option><option value=\"29\">Board Games </option><option value=\"30\">Bp Monitors</option><option value=\"31\">Bulbs</option><option value=\"32\">Calculators </option><option value=\"33\">Camping  and Hiking </option><option value=\"34\">Car Audio /Video </option><option value=\"35\">Car Mobile Accessories </option><option value=\"36\">Card Holders </option><option value=\"37\">Cardio Equipment </option><option value=\"38\">Casseroles </option><option value=\"39\">Cats </option><option value=\"40\">Ceiling Lamp </option><option value=\"41\">Chocolates </option><option value=\"42\">Cleaning Supplies</option><option value=\"43\">Clocks </option><option value=\"44\">Coffee Mugs</option><option value=\"45\">Coffee Tables </option><option value=\"46\">Collapsible Wardrobes </option><option value=\"47\">Cricket </option><option value=\"48\">Curtains </option><option value=\"49\">Cushions and Pillows </option><option value=\"50\">Cycling </option><option value=\"51\">DSLR and Mirrorless</option><option value=\"52\">DTH Set Top Box</option><option value=\"53\">Deodorants </option><option value=\"54\">Deodorants and Perfumes </option><option value=\"55\">Desk Organizers </option><option value=\"56\">Desktop PCs</option><option value=\"57\">Dhoti </option><option value=\"58\">Dhoti Pants </option><option value=\"59\">Diapers </option><option value=\"60\">Diaries </option><option value=\"61\">Dining Tables and Chairs </option><option value=\"62\">Dinner Set </option><option value=\"63\">Dogs </option><option value=\"64\">Dolls and Doll Houses </option><option value=\"65\">Dumbbells </option><option value=\"66\">Educational Toys </option><option value=\"67\">Emergency Lights </option><option value=\"68\">Epilators </option><option value=\"69\">External Hard Disks</option><option value=\"70\">Festive Decor and Gifts</option><option value=\"71\">Fish and Aquatics </option><option value=\"72\">Flasks </option><option value=\"73\">Floor Coverings</option><option value=\"74\">Football </option><option value=\"75\">Gaming Accessories </option><option value=\"76\">Gaming Consoles </option><option value=\"77\">Gaming Laptops</option><option value=\"78\">Gaming and Accessories</option><option value=\"79\">Gas Stoves </option><option value=\"80\">Gifting Combos </option><option value=\"81\">Grooming Kits </option><option value=\"82\">Gym Gloves </option><option value=\"83\">Hair Care </option><option value=\"84\">Hair Dryers </option><option value=\"85\">Hair Straightners </option><option value=\"86\">Headphones & Headsets</option><option value=\"87\">Health Drinks </option><option value=\"88\">Helicopter and Drones </option><option value=\"89\">Helmets and Riding Gears </option><option value=\"90\">Home Gyms </option><option value=\"91\">Home Utilities and Organizers </option><option value=\"92\">Hot Water Bag </option><option value=\"93\">Industrial Measurement Devices </option><option value=\"94\">Industrial Testing Devices </option><option value=\"95\">Innerwear </option><option value=\"96\">Jeggings and Tights </option><option value=\"97\">Key Chains </option><option value=\"98\">Kids Footwear </option><option value=\"99\">Kids Room Furniture </option><option value=\"100\">Kitchen Containers </option><option value=\"101\">Kitchen and Table Linen </option><option value=\"102\">Kitchen tools </option><option value=\"103\">Lab and Scientific Products </option><option value=\"104\">Laptop Bags</option><option value=\"105\">Laptop Skins and Decals</option><option value=\"106\">Lawn and Gardening </option><option value=\"107\">Leggings and Churidars </option><option value=\"108\">Lens</option><option value=\"109\">Literature and Fiction </option><option value=\"110\">Lunch Box </option><option value=\"111\">Lunch Boxes </option><option value=\"112\">Lungi </option><option value=\"113\">Make Up </option><option value=\"114\">Mattresses </option><option value=\"115\">Memory Cards</option><option value=\"116\">Mobile Cables</option><option value=\"117\">Mobile Cases</option><option value=\"118\">Mobile Chargers</option><option value=\"119\">Mobile Holders</option><option value=\"120\">Monitors</option><option value=\"121\">Mouse</option><option value=\"122\">Musical Toys </option><option value=\"123\">Non Fiction </option><option value=\"124\">Nursing and Breast Feeding </option><option value=\"125\">Nuts and Dry Fruits </option><option value=\"126\">Outdoor Toys </option><option value=\"127\">Packaging and Shipping Products </option><option value=\"128\">Paintings </option><option value=\"129\">Pans </option><option value=\"130\">Party Supplies </option><option value=\"131\">Pendrives</option><option value=\"132\">Pens </option><option value=\"133\">Perfumes </option><option value=\"134\">Power Banks</option><option value=\"135\">Pregnancy and Fertility Kits </option><option value=\"136\">Pressure Cookers </option><option value=\"137\">Printers and Ink Cartridges</option><option value=\"138\">Protein Supplements </option><option value=\"139\">Puzzles </option><option value=\"140\">Raincoats and windcheaters</option><option value=\"141\">Remote Control Toys </option><option value=\"142\">Routers</option><option value=\"143\">S.T.E.M Toys </option><option value=\"144\">Safety Products </option><option value=\"145\">Saree Shapewear and Petticoats </option><option value=\"146\">School Bags </option><option value=\"147\">School Combo Sets </option><option value=\"148\">Screenguards</option><option value=\"149\">Self -Help </option><option value=\"150\">Sexual Wellness </option><option value=\"151\">Shakers and Sippers </option><option value=\"152\">Shapewear </option><option value=\"153\">Shavers </option><option value=\"154\">Shaving and Aftershave </option><option value=\"155\">Sherwanis </option><option value=\"156\">Shoe Racks </option><option value=\"157\">Showpieces and Figurines </option><option value=\"158\">Skating </option><option value=\"159\">Skin Care </option><option value=\"160\">Smart Bands</option><option value=\"161\">Smart Door Locks </option><option value=\"162\">Smart Glasses (VR )</option><option value=\"163\">Smart Glasses (VR)</option><option value=\"164\">Smart Headphones</option><option value=\"165\">Smart Security System </option><option value=\"166\">Smart Watches</option><option value=\"167\">Sofa </option><option value=\"168\">Sofa Beds</option><option value=\"169\">Soft Toys </option><option value=\"170\">Soundbars</option><option value=\"171\">Sports and Action</option><option value=\"172\">Stickers </option><option value=\"173\">Support </option><option value=\"174\">Sweets Store </option><option value=\"175\">Swim and Beachwear</option><option value=\"176\">Swimming </option><option value=\"177\">TV Units </option><option value=\"178\">Table Lamp </option><option value=\"179\">Tawas </option><option value=\"180\">Ties, socks, caps and more</option><option value=\"181\">Tools and Measuring Equipments </option><option value=\"182\">Toy Guns </option><option value=\"183\">Trimmers </option><option value=\"184\">Tripods</option><option value=\"185\">Vehicle Lubricants </option><option value=\"186\">Vitamin Supplements </option><option value=\"187\">Wall Lamp </option><option value=\"188\">Wall Shelves </option><option value=\"189\">Wardrobes </option><option value=\"190\">Water Bottles </option><option value=\"191\">Weighing Scale</option><option value=\"192\">Wipes </option><option value=\"193\">Yoga Mat </option><option value=\"194\">Young Readers </option><option value=\"195\">snacks and beverages</option></select>\n"
     ]
    }
   ],
   "source": [
    "# Example array of lists\n",
    "options = cat3_list\n",
    "\n",
    "# Generating select and option HTML code\n",
    "select_html = '<select>'\n",
    "for j, option_value in enumerate(options):\n",
    "    select_html += f'<option value=\"{j}\">{option_value}</option>'\n",
    "select_html += '</select>'\n",
    "\n",
    "# Output the HTML code\n",
    "print(select_html)\n"
   ]
  },
  {
   "cell_type": "code",
   "execution_count": 30,
   "id": "eb52ae34-3444-49b4-aa3b-740bb1d57bde",
   "metadata": {},
   "outputs": [
    {
     "ename": "ImportError",
     "evalue": "cannot import name 'lock' from 'pipenv' (C:\\Users\\priya\\anaconda3\\lib\\site-packages\\pipenv\\__init__.py)",
     "output_type": "error",
     "traceback": [
      "\u001b[1;31m---------------------------------------------------------------------------\u001b[0m",
      "\u001b[1;31mImportError\u001b[0m                               Traceback (most recent call last)",
      "Cell \u001b[1;32mIn[30], line 1\u001b[0m\n\u001b[1;32m----> 1\u001b[0m \u001b[38;5;28;01mfrom\u001b[39;00m \u001b[38;5;21;01mpipenv\u001b[39;00m \u001b[38;5;28;01mimport\u001b[39;00m lock\n",
      "\u001b[1;31mImportError\u001b[0m: cannot import name 'lock' from 'pipenv' (C:\\Users\\priya\\anaconda3\\lib\\site-packages\\pipenv\\__init__.py)"
     ]
    }
   ],
   "source": [
    "from pipenv import lock"
   ]
  },
  {
   "cell_type": "code",
   "execution_count": 36,
   "id": "bf537a0a-5abe-4a9f-9211-5b61a67d9a70",
   "metadata": {},
   "outputs": [
    {
     "ename": "NameError",
     "evalue": "name 'tf' is not defined",
     "output_type": "error",
     "traceback": [
      "\u001b[1;31m---------------------------------------------------------------------------\u001b[0m",
      "\u001b[1;31mNameError\u001b[0m                                 Traceback (most recent call last)",
      "Cell \u001b[1;32mIn[36], line 1\u001b[0m\n\u001b[1;32m----> 1\u001b[0m \u001b[43mtf\u001b[49m\n",
      "\u001b[1;31mNameError\u001b[0m: name 'tf' is not defined"
     ]
    }
   ],
   "source": [
    "tf"
   ]
  },
  {
   "cell_type": "code",
   "execution_count": 45,
   "id": "ab9600ba-579a-4bfe-a5de-9e3e341b4a65",
   "metadata": {},
   "outputs": [
    {
     "name": "stdout",
     "output_type": "stream",
     "text": [
      "Note: you may need to restart the kernel to use updated packages.Name: scikit-learn\n",
      "Version: 1.2.0\n",
      "Summary: A set of python modules for machine learning and data mining\n",
      "Home-page: http://scikit-learn.org\n",
      "Author: \n",
      "Author-email: \n",
      "License: new BSD\n",
      "Location: c:\\users\\priya\\anaconda3\\lib\\site-packages\n",
      "Requires: joblib, numpy, scipy, threadpoolctl\n",
      "Required-by: \n",
      "\n"
     ]
    }
   ],
   "source": [
    "pip show scikit-learn"
   ]
  },
  {
   "cell_type": "code",
   "execution_count": null,
   "id": "26ac1dcd-56f7-4a65-827b-171493677fc6",
   "metadata": {},
   "outputs": [],
   "source": []
  }
 ],
 "metadata": {
  "kernelspec": {
   "display_name": "Python 3 (ipykernel)",
   "language": "python",
   "name": "python3"
  },
  "language_info": {
   "codemirror_mode": {
    "name": "ipython",
    "version": 3
   },
   "file_extension": ".py",
   "mimetype": "text/x-python",
   "name": "python",
   "nbconvert_exporter": "python",
   "pygments_lexer": "ipython3",
   "version": "3.8.3"
  }
 },
 "nbformat": 4,
 "nbformat_minor": 5
}
