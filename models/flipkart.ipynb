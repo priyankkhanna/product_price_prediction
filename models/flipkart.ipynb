{
 "cells": [
  {
   "cell_type": "markdown",
   "id": "bd267ddf-aca7-4abf-a4c0-2d3f38d33b57",
   "metadata": {},
   "source": [
    "## Pre Processing"
   ]
  },
  {
   "cell_type": "code",
   "execution_count": 264,
   "id": "dfae7c97-9e30-4cd7-b501-23363d8ca046",
   "metadata": {},
   "outputs": [],
   "source": [
    "import pandas as pd\n",
    "import numpy as np\n",
    "import os\n",
    "from sklearn.preprocessing import LabelEncoder, MinMaxScaler, StandardScaler\n",
    "import keras\n",
    "import math\n",
    "from keras.preprocessing.text import Tokenizer\n",
    "from keras.utils import pad_sequences\n",
    "import sys\n",
    "import io\n",
    "import json\n",
    "import joblib"
   ]
  },
  {
   "cell_type": "code",
   "execution_count": 230,
   "id": "1dd05154-fb0a-4109-802a-9547b84430ba",
   "metadata": {},
   "outputs": [],
   "source": [
    "orig=pd.read_csv('dataset.csv')"
   ]
  },
  {
   "cell_type": "code",
   "execution_count": 231,
   "id": "9efaf885-d90d-4966-898d-08a4dcbf773c",
   "metadata": {},
   "outputs": [],
   "source": [
    "orig = orig.replace(' ',np.nan)"
   ]
  },
  {
   "cell_type": "code",
   "execution_count": 232,
   "id": "05d6eb7a-6614-4aca-a476-0454302716b9",
   "metadata": {},
   "outputs": [
    {
     "data": {
      "text/html": [
       "<div>\n",
       "<style scoped>\n",
       "    .dataframe tbody tr th:only-of-type {\n",
       "        vertical-align: middle;\n",
       "    }\n",
       "\n",
       "    .dataframe tbody tr th {\n",
       "        vertical-align: top;\n",
       "    }\n",
       "\n",
       "    .dataframe thead th {\n",
       "        text-align: right;\n",
       "    }\n",
       "</style>\n",
       "<table border=\"1\" class=\"dataframe\">\n",
       "  <thead>\n",
       "    <tr style=\"text-align: right;\">\n",
       "      <th></th>\n",
       "      <th>category_1</th>\n",
       "      <th>category_2</th>\n",
       "      <th>category_3</th>\n",
       "      <th>title</th>\n",
       "      <th>product_rating</th>\n",
       "      <th>selling_price</th>\n",
       "      <th>mrp</th>\n",
       "      <th>seller_name</th>\n",
       "      <th>seller_rating</th>\n",
       "      <th>description</th>\n",
       "      <th>highlights</th>\n",
       "      <th>specifications</th>\n",
       "      <th>image_links</th>\n",
       "    </tr>\n",
       "  </thead>\n",
       "  <tbody>\n",
       "    <tr>\n",
       "      <th>0</th>\n",
       "      <td>Sports, Books and More</td>\n",
       "      <td>Sports</td>\n",
       "      <td>Cricket</td>\n",
       "      <td>ITWOSERVICES CRICKET NET 100X10 CRICKET NET NY...</td>\n",
       "      <td>4.4</td>\n",
       "      <td>₹1,615</td>\n",
       "      <td>₹4,000</td>\n",
       "      <td>I2SERVICES</td>\n",
       "      <td>4.4</td>\n",
       "      <td>NaN</td>\n",
       "      <td>Cricket Practice Net NYLON HDPE Material W x H...</td>\n",
       "      <td>NaN</td>\n",
       "      <td>https://rukminim1.flixcart.com/image/612/612/x...</td>\n",
       "    </tr>\n",
       "    <tr>\n",
       "      <th>1</th>\n",
       "      <td>Sports, Books and More</td>\n",
       "      <td>Sports</td>\n",
       "      <td>Cricket</td>\n",
       "      <td>ITWOSERVICES CRICKET NET GROUND BOUNDARY NET 1...</td>\n",
       "      <td>4.4</td>\n",
       "      <td>₹152</td>\n",
       "      <td>₹600</td>\n",
       "      <td>I2SERVICES</td>\n",
       "      <td>4.4</td>\n",
       "      <td>10 X  10 GREEN CRICKET NET HDPE NYLON.</td>\n",
       "      <td>Cricket HDPE NYLON Material W x H x D: 3.048 x...</td>\n",
       "      <td>NaN</td>\n",
       "      <td>https://rukminim1.flixcart.com/image/612/612/x...</td>\n",
       "    </tr>\n",
       "    <tr>\n",
       "      <th>2</th>\n",
       "      <td>Sports, Books and More</td>\n",
       "      <td>Sports</td>\n",
       "      <td>Cricket</td>\n",
       "      <td>VICTORY Medium Weight ( Pack of 1 ) Rubber Cri...</td>\n",
       "      <td>3.7</td>\n",
       "      <td>₹59</td>\n",
       "      <td>₹199</td>\n",
       "      <td>VictoryOutlets</td>\n",
       "      <td>4.7</td>\n",
       "      <td>NaN</td>\n",
       "      <td>Cricket Rubber Ball Weight: 110 g</td>\n",
       "      <td>NaN</td>\n",
       "      <td>https://rukminim1.flixcart.com/image/612/612/x...</td>\n",
       "    </tr>\n",
       "    <tr>\n",
       "      <th>3</th>\n",
       "      <td>Sports, Books and More</td>\n",
       "      <td>Sports</td>\n",
       "      <td>Cricket</td>\n",
       "      <td>VICTORY Cricket Wind Ball (Pack of 1) - Made i...</td>\n",
       "      <td>3.8</td>\n",
       "      <td>₹75</td>\n",
       "      <td>₹299</td>\n",
       "      <td>VictoryOutlets</td>\n",
       "      <td>4.7</td>\n",
       "      <td>NaN</td>\n",
       "      <td>Cricket Synthetic Ball Weight: 110 g</td>\n",
       "      <td>NaN</td>\n",
       "      <td>https://rukminim1.flixcart.com/image/612/612/k...</td>\n",
       "    </tr>\n",
       "    <tr>\n",
       "      <th>4</th>\n",
       "      <td>Sports, Books and More</td>\n",
       "      <td>Sports</td>\n",
       "      <td>Cricket</td>\n",
       "      <td>CEAT Hitman Full Size Double Blade Poplar Cric...</td>\n",
       "      <td>3.4</td>\n",
       "      <td>₹329</td>\n",
       "      <td>₹1,399</td>\n",
       "      <td>IndiaFit</td>\n",
       "      <td>4.7</td>\n",
       "      <td>The Ceat Poplar Willow Cricket Bat has been de...</td>\n",
       "      <td>Age Group 15+ Yrs Blade Made of Poplar Willow ...</td>\n",
       "      <td>NaN</td>\n",
       "      <td>https://rukminim1.flixcart.com/image/612/612/j...</td>\n",
       "    </tr>\n",
       "  </tbody>\n",
       "</table>\n",
       "</div>"
      ],
      "text/plain": [
       "               category_1 category_2 category_3  \\\n",
       "0  Sports, Books and More     Sports   Cricket    \n",
       "1  Sports, Books and More     Sports   Cricket    \n",
       "2  Sports, Books and More     Sports   Cricket    \n",
       "3  Sports, Books and More     Sports   Cricket    \n",
       "4  Sports, Books and More     Sports   Cricket    \n",
       "\n",
       "                                               title  product_rating  \\\n",
       "0  ITWOSERVICES CRICKET NET 100X10 CRICKET NET NY...             4.4   \n",
       "1  ITWOSERVICES CRICKET NET GROUND BOUNDARY NET 1...             4.4   \n",
       "2  VICTORY Medium Weight ( Pack of 1 ) Rubber Cri...             3.7   \n",
       "3  VICTORY Cricket Wind Ball (Pack of 1) - Made i...             3.8   \n",
       "4  CEAT Hitman Full Size Double Blade Poplar Cric...             3.4   \n",
       "\n",
       "  selling_price     mrp     seller_name  seller_rating  \\\n",
       "0        ₹1,615  ₹4,000      I2SERVICES            4.4   \n",
       "1          ₹152    ₹600      I2SERVICES            4.4   \n",
       "2           ₹59    ₹199  VictoryOutlets            4.7   \n",
       "3           ₹75    ₹299  VictoryOutlets            4.7   \n",
       "4          ₹329  ₹1,399        IndiaFit            4.7   \n",
       "\n",
       "                                         description  \\\n",
       "0                                                NaN   \n",
       "1             10 X  10 GREEN CRICKET NET HDPE NYLON.   \n",
       "2                                                NaN   \n",
       "3                                                NaN   \n",
       "4  The Ceat Poplar Willow Cricket Bat has been de...   \n",
       "\n",
       "                                          highlights  specifications  \\\n",
       "0  Cricket Practice Net NYLON HDPE Material W x H...             NaN   \n",
       "1  Cricket HDPE NYLON Material W x H x D: 3.048 x...             NaN   \n",
       "2                  Cricket Rubber Ball Weight: 110 g             NaN   \n",
       "3               Cricket Synthetic Ball Weight: 110 g             NaN   \n",
       "4  Age Group 15+ Yrs Blade Made of Poplar Willow ...             NaN   \n",
       "\n",
       "                                         image_links  \n",
       "0  https://rukminim1.flixcart.com/image/612/612/x...  \n",
       "1  https://rukminim1.flixcart.com/image/612/612/x...  \n",
       "2  https://rukminim1.flixcart.com/image/612/612/x...  \n",
       "3  https://rukminim1.flixcart.com/image/612/612/k...  \n",
       "4  https://rukminim1.flixcart.com/image/612/612/j...  "
      ]
     },
     "execution_count": 232,
     "metadata": {},
     "output_type": "execute_result"
    }
   ],
   "source": [
    "orig.head()"
   ]
  },
  {
   "cell_type": "code",
   "execution_count": 233,
   "id": "fbe676ef-5a90-4a58-abe1-10e0139a4ebf",
   "metadata": {},
   "outputs": [
    {
     "data": {
      "text/plain": [
       "category_1            0\n",
       "category_2            0\n",
       "category_3            0\n",
       "title                18\n",
       "product_rating       80\n",
       "selling_price        28\n",
       "mrp                 375\n",
       "seller_name         216\n",
       "seller_rating       214\n",
       "description        7020\n",
       "highlights         5481\n",
       "specifications    12041\n",
       "image_links           0\n",
       "dtype: int64"
      ]
     },
     "execution_count": 233,
     "metadata": {},
     "output_type": "execute_result"
    }
   ],
   "source": [
    "orig.isna().sum()"
   ]
  },
  {
   "cell_type": "code",
   "execution_count": 234,
   "id": "3dfe15cb-c742-4e38-8554-90764d55f56c",
   "metadata": {},
   "outputs": [],
   "source": [
    "orig = orig.drop(['highlights','specifications','mrp','image_links'],axis=1)"
   ]
  },
  {
   "cell_type": "code",
   "execution_count": 235,
   "id": "e3578129-27f8-4c6e-a7d4-af22c8940227",
   "metadata": {},
   "outputs": [],
   "source": [
    "dataset = orig.dropna().reset_index(drop = True)"
   ]
  },
  {
   "cell_type": "code",
   "execution_count": 236,
   "id": "2fea9fc8-7f16-4a09-a32b-76bd8d32bc32",
   "metadata": {},
   "outputs": [
    {
     "name": "stderr",
     "output_type": "stream",
     "text": [
      "C:\\Users\\priya\\AppData\\Local\\Temp\\ipykernel_11880\\4294518981.py:7: SettingWithCopyWarning: \n",
      "A value is trying to be set on a copy of a slice from a DataFrame\n",
      "\n",
      "See the caveats in the documentation: https://pandas.pydata.org/pandas-docs/stable/user_guide/indexing.html#returning-a-view-versus-a-copy\n",
      "  dataset.selling_price[i]=int(k)\n"
     ]
    }
   ],
   "source": [
    "for i in dataset.selling_price.index:\n",
    "    k = ''\n",
    "    for j in dataset.selling_price[i]:\n",
    "        if j==',' or j == '₹':\n",
    "            continue\n",
    "        k=k+j\n",
    "    dataset.selling_price[i]=int(k)\n",
    "        "
   ]
  },
  {
   "cell_type": "code",
   "execution_count": 237,
   "id": "689f87bb-2dc1-4529-8bea-53a6d6b456cd",
   "metadata": {},
   "outputs": [],
   "source": [
    "dataset.selling_price = dataset.selling_price.astype(int)"
   ]
  },
  {
   "cell_type": "code",
   "execution_count": 238,
   "id": "288a42f5-b3c8-4e1a-b8a3-f12fde375fb9",
   "metadata": {},
   "outputs": [],
   "source": [
    "dataset.product_rating = dataset.product_rating.astype(float)\n",
    "dataset.seller_rating = dataset.seller_rating.astype(float)"
   ]
  },
  {
   "cell_type": "code",
   "execution_count": 239,
   "id": "963c533e-9a89-43dd-94a1-f5483ff8b211",
   "metadata": {},
   "outputs": [
    {
     "name": "stdout",
     "output_type": "stream",
     "text": [
      "<class 'pandas.core.frame.DataFrame'>\n",
      "RangeIndex: 4941 entries, 0 to 4940\n",
      "Data columns (total 9 columns):\n",
      " #   Column          Non-Null Count  Dtype  \n",
      "---  ------          --------------  -----  \n",
      " 0   category_1      4941 non-null   object \n",
      " 1   category_2      4941 non-null   object \n",
      " 2   category_3      4941 non-null   object \n",
      " 3   title           4941 non-null   object \n",
      " 4   product_rating  4941 non-null   float64\n",
      " 5   selling_price   4941 non-null   int32  \n",
      " 6   seller_name     4941 non-null   object \n",
      " 7   seller_rating   4941 non-null   float64\n",
      " 8   description     4941 non-null   object \n",
      "dtypes: float64(2), int32(1), object(6)\n",
      "memory usage: 328.2+ KB\n"
     ]
    }
   ],
   "source": [
    "dataset.info()"
   ]
  },
  {
   "cell_type": "code",
   "execution_count": 240,
   "id": "7e270980-5e43-47f9-bacf-55f4350d7399",
   "metadata": {},
   "outputs": [],
   "source": [
    "le1 = LabelEncoder()\n",
    "le2 = LabelEncoder()\n",
    "le3 = LabelEncoder()"
   ]
  },
  {
   "cell_type": "code",
   "execution_count": 241,
   "id": "108a2017-22b0-464b-9f76-2e098ecbbb94",
   "metadata": {},
   "outputs": [],
   "source": [
    "dataset.category_1=le1.fit_transform(dataset.category_1)\n",
    "dataset.category_2=le2.fit_transform(dataset.category_2)\n",
    "dataset.category_3=le3.fit_transform(dataset.category_3)\n",
    "#le.classes_"
   ]
  },
  {
   "cell_type": "code",
   "execution_count": 242,
   "id": "b2ced33f-f5ee-4792-85d2-8e2787de762c",
   "metadata": {},
   "outputs": [
    {
     "data": {
      "text/plain": [
       "array(['Bady and Kids', 'Electronics', 'Home and Furniture', \"Men's wear\",\n",
       "       'Sports, Books and More', \"Women's wear\"], dtype=object)"
      ]
     },
     "execution_count": 242,
     "metadata": {},
     "output_type": "execute_result"
    }
   ],
   "source": [
    "le1.classes_"
   ]
  },
  {
   "cell_type": "code",
   "execution_count": 243,
   "id": "ba99a9c6-9a51-4999-93fd-251c9230f39d",
   "metadata": {},
   "outputs": [
    {
     "data": {
      "text/plain": [
       "array(['Auto Accessories', 'Baby Boy Clothing', 'Baby Care',\n",
       "       'Baby Girl Clothing', 'Beauty and Grooming', 'Bed Room Furniture',\n",
       "       'Books ', 'Boys Clothing', 'Camera Accessories', 'Cameras',\n",
       "       'Cleaning Supplies', 'Computer Accessories',\n",
       "       'Computer Peripherals', 'DIY Furniture', 'Desktop PCs',\n",
       "       'Ethnic Bottoms', 'Ethnic Wear', 'Exercise Fitness ',\n",
       "       'Festive Decor and Gifts', 'Food Essentials', 'Furnishing',\n",
       "       'Gaming', 'Gaming and Accessories', 'Girls Clothing',\n",
       "       'Health &Nutrition ', 'Health Care Appliances', 'Home Décor',\n",
       "       'Home Improvement', 'Home Lighting',\n",
       "       'Industrial &Scientific tools ', 'Kids Footwear ',\n",
       "       'Kitchen ,Cookware and Serveware', 'Kitchen Storage', 'Laptops',\n",
       "       'Lingerie and sleepware', 'Living Room Furniture',\n",
       "       'Medical Supplies', \"Men's Grooming\", 'Mobile Accessories',\n",
       "       'Network Components', 'Office and Study Furniture',\n",
       "       'Personal Care Appliances', 'Pet Supplies',\n",
       "       'Raincoats and windcheaters', 'School Supplies',\n",
       "       'Smart Home Automation', 'Smart Wearable Tech', 'Speakers',\n",
       "       'Sports', 'Stationery', 'Swim  and Beachwear', 'Tablets',\n",
       "       'Tableware and Dinnerware', 'Ties, socks, caps and more', 'Toys',\n",
       "       'Western and maternity Wear'], dtype=object)"
      ]
     },
     "execution_count": 243,
     "metadata": {},
     "output_type": "execute_result"
    }
   ],
   "source": [
    "le2.classes_"
   ]
  },
  {
   "cell_type": "code",
   "execution_count": 244,
   "id": "cf8dfda2-2d8f-4cc5-9246-3663b19779ad",
   "metadata": {},
   "outputs": [
    {
     "data": {
      "text/plain": [
       "array(['Ab Exercisers ', 'Academics ', 'Action Figures ', 'Apple Ipads',\n",
       "       'Ayurvedic Supplements ', 'Baby Bath ,Hair and Skin Care ',\n",
       "       'Baby Bathing Accessories ', 'Baby Bedding',\n",
       "       'Baby Cleaners and Detergents ',\n",
       "       'Baby Feeding Bottle and Accessories ',\n",
       "       'Baby Feeding Utensils and Accessories', 'Baby Food ',\n",
       "       'Baby Gear ', 'Baby Gift Sets and Combo ', 'Baby Grooming ',\n",
       "       'Baby Medical and Health Care ', 'Baby Oral Care ',\n",
       "       'Baby Proofing and Safety ', 'Badminton ', 'Barware ',\n",
       "       'Bath Towels ', 'Bath and Spa', 'Bathroom and Kitchen Fittings ',\n",
       "       'Bean Bags ', 'Beard Care and Grooming ', 'Beds ', 'Bedsheets ',\n",
       "       'Blankets ', 'Bluetooth Speakers', 'Board Games ', 'Bp Monitors',\n",
       "       'Bulbs', 'Calculators ', 'Camping  and Hiking ',\n",
       "       'Car Audio /Video ', 'Car Mobile Accessories ', 'Card Holders ',\n",
       "       'Cardio Equipment ', 'Casseroles ', 'Cats ', 'Ceiling Lamp ',\n",
       "       'Chocolates ', 'Cleaning Supplies', 'Clocks ', 'Coffee Mugs',\n",
       "       'Coffee Tables ', 'Collapsible Wardrobes ', 'Cricket ',\n",
       "       'Curtains ', 'Cushions and Pillows ', 'Cycling ',\n",
       "       'DSLR and Mirrorless', 'DTH Set Top Box', 'Deodorants ',\n",
       "       'Deodorants and Perfumes ', 'Desk Organizers ', 'Desktop PCs',\n",
       "       'Dhoti ', 'Dhoti Pants ', 'Diapers ', 'Diaries ',\n",
       "       'Dining Tables and Chairs ', 'Dinner Set ', 'Dogs ',\n",
       "       'Dolls and Doll Houses ', 'Dumbbells ', 'Educational Toys ',\n",
       "       'Emergency Lights ', 'Epilators ', 'External Hard Disks',\n",
       "       'Festive Decor and Gifts', 'Fish and Aquatics ', 'Flasks ',\n",
       "       'Floor Coverings', 'Football ', 'Gaming Accessories ',\n",
       "       'Gaming Consoles ', 'Gaming Laptops', 'Gaming and Accessories',\n",
       "       'Gas Stoves ', 'Gifting Combos ', 'Grooming Kits ', 'Gym Gloves ',\n",
       "       'Hair Care ', 'Hair Dryers ', 'Hair Straightners ',\n",
       "       'Headphones & Headsets', 'Health Drinks ',\n",
       "       'Helicopter and Drones ', 'Helmets and Riding Gears ',\n",
       "       'Home Gyms ', 'Home Utilities and Organizers ', 'Hot Water Bag ',\n",
       "       'Industrial Measurement Devices ', 'Industrial Testing Devices ',\n",
       "       'Innerwear ', 'Jeggings and Tights ', 'Key Chains ',\n",
       "       'Kids Footwear ', 'Kids Room Furniture ', 'Kitchen Containers ',\n",
       "       'Kitchen and Table Linen ', 'Kitchen tools ',\n",
       "       'Lab and Scientific Products ', 'Laptop Bags',\n",
       "       'Laptop Skins and Decals', 'Lawn and Gardening ',\n",
       "       'Leggings and Churidars ', 'Lens', 'Literature and Fiction ',\n",
       "       'Lunch Box ', 'Lunch Boxes ', 'Lungi ', 'Make Up ', 'Mattresses ',\n",
       "       'Memory Cards', 'Mobile Cables', 'Mobile Cases', 'Mobile Chargers',\n",
       "       'Mobile Holders', 'Monitors', 'Mouse', 'Musical Toys ',\n",
       "       'Non Fiction ', 'Nursing and Breast Feeding ',\n",
       "       'Nuts and Dry Fruits ', 'Outdoor Toys ',\n",
       "       'Packaging and Shipping Products ', 'Paintings ', 'Pans ',\n",
       "       'Party Supplies ', 'Pendrives', 'Pens ', 'Perfumes ',\n",
       "       'Power Banks', 'Pregnancy and Fertility Kits ',\n",
       "       'Pressure Cookers ', 'Printers and Ink Cartridges',\n",
       "       'Protein Supplements ', 'Puzzles ', 'Raincoats and windcheaters',\n",
       "       'Remote Control Toys ', 'Routers', 'S.T.E.M Toys ',\n",
       "       'Safety Products ', 'Saree Shapewear and Petticoats ',\n",
       "       'School Bags ', 'School Combo Sets ', 'Screenguards',\n",
       "       'Self -Help ', 'Sexual Wellness ', 'Shakers and Sippers ',\n",
       "       'Shapewear ', 'Shavers ', 'Shaving and Aftershave ', 'Sherwanis ',\n",
       "       'Shoe Racks ', 'Showpieces and Figurines ', 'Skating ',\n",
       "       'Skin Care ', 'Smart Bands', 'Smart Door Locks ',\n",
       "       'Smart Glasses (VR )', 'Smart Glasses (VR)', 'Smart Headphones',\n",
       "       'Smart Security System ', 'Smart Watches', 'Sofa ', 'Sofa Beds',\n",
       "       'Soft Toys ', 'Soundbars', 'Sports and Action', 'Stickers ',\n",
       "       'Support ', 'Sweets Store ', 'Swim and Beachwear', 'Swimming ',\n",
       "       'TV Units ', 'Table Lamp ', 'Tawas ', 'Ties, socks, caps and more',\n",
       "       'Tools and Measuring Equipments ', 'Toy Guns ', 'Trimmers ',\n",
       "       'Tripods', 'Vehicle Lubricants ', 'Vitamin Supplements ',\n",
       "       'Wall Lamp ', 'Wall Shelves ', 'Wardrobes ', 'Water Bottles ',\n",
       "       'Weighing Scale', 'Wipes ', 'Yoga Mat ', 'Young Readers ',\n",
       "       'snacks and beverages'], dtype=object)"
      ]
     },
     "execution_count": 244,
     "metadata": {},
     "output_type": "execute_result"
    }
   ],
   "source": [
    "le3.classes_"
   ]
  },
  {
   "cell_type": "code",
   "execution_count": 245,
   "id": "65b8abd6-9be9-494d-82d6-cf17fc01242d",
   "metadata": {},
   "outputs": [],
   "source": [
    "dataset = dataset.drop(['seller_name'],axis = 1)"
   ]
  },
  {
   "cell_type": "code",
   "execution_count": 246,
   "id": "5ae9e8b6-beba-4b37-8e64-b44ec8d0623c",
   "metadata": {},
   "outputs": [],
   "source": [
    "all_word = np.hstack([dataset.title.str.lower(),dataset.description.str.lower()])"
   ]
  },
  {
   "cell_type": "code",
   "execution_count": 247,
   "id": "70144f34-8880-4115-a957-ba72b05450bf",
   "metadata": {},
   "outputs": [],
   "source": [
    "tokenizer = Tokenizer(oov_token = 0)"
   ]
  },
  {
   "cell_type": "code",
   "execution_count": 248,
   "id": "7156ada8-0f78-4911-b690-80e5d0d9e8cb",
   "metadata": {},
   "outputs": [],
   "source": [
    "tokenizer.fit_on_texts(all_word)"
   ]
  },
  {
   "cell_type": "code",
   "execution_count": 249,
   "id": "feee3f7f-8e27-45cf-a0fe-6b5751551770",
   "metadata": {},
   "outputs": [],
   "source": [
    "tokenizer_json = tokenizer.to_json()\n",
    "with io.open('tokenizer.json', 'w', encoding='utf-8') as f:\n",
    "    f.write(json.dumps(tokenizer_json, ensure_ascii=False))"
   ]
  },
  {
   "cell_type": "code",
   "execution_count": 250,
   "id": "2a2254b4-a032-4931-950c-764118f040cf",
   "metadata": {},
   "outputs": [],
   "source": [
    "dataset.title = tokenizer.texts_to_sequences(dataset.title.str.lower())\n",
    "dataset.description = tokenizer.texts_to_sequences(dataset.description.str.lower())"
   ]
  },
  {
   "cell_type": "code",
   "execution_count": 251,
   "id": "c3c031a4-44f2-4781-af46-4663d95f6c2c",
   "metadata": {},
   "outputs": [
    {
     "data": {
      "text/plain": [
       "<AxesSubplot:>"
      ]
     },
     "execution_count": 251,
     "metadata": {},
     "output_type": "execute_result"
    },
    {
     "data": {
      "image/png": "[encoded data removed]",
      "text/plain": [
       "<Figure size 640x480 with 1 Axes>"
      ]
     },
     "metadata": {},
     "output_type": "display_data"
    }
   ],
   "source": [
    "dataset.title.apply(lambda x:len(x)).plot(kind = 'box')"
   ]
  },
  {
   "cell_type": "code",
   "execution_count": 252,
   "id": "f1ccac97-da61-4090-b22d-cdf418b0d68e",
   "metadata": {},
   "outputs": [
    {
     "data": {
      "text/plain": [
       "<AxesSubplot:>"
      ]
     },
     "execution_count": 252,
     "metadata": {},
     "output_type": "execute_result"
    },
    {
     "data": {
      "image/png": "[encoded data removed]",
      "text/plain": [
       "<Figure size 640x480 with 1 Axes>"
      ]
     },
     "metadata": {},
     "output_type": "display_data"
    }
   ],
   "source": [
    "dataset.description.apply(lambda x:len(x)).plot(kind = 'box')"
   ]
  },
  {
   "cell_type": "code",
   "execution_count": 253,
   "id": "a1f7cf28-4ff8-4144-97cc-8473f56fb364",
   "metadata": {},
   "outputs": [],
   "source": [
    "max_title = 32\n",
    "max_description = 128"
   ]
  },
  {
   "cell_type": "code",
   "execution_count": 254,
   "id": "b36fd226-c4e4-43b9-b032-0c8873c7fb27",
   "metadata": {},
   "outputs": [
    {
     "data": {
      "text/html": [
       "<div>\n",
       "<style scoped>\n",
       "    .dataframe tbody tr th:only-of-type {\n",
       "        vertical-align: middle;\n",
       "    }\n",
       "\n",
       "    .dataframe tbody tr th {\n",
       "        vertical-align: top;\n",
       "    }\n",
       "\n",
       "    .dataframe thead th {\n",
       "        text-align: right;\n",
       "    }\n",
       "</style>\n",
       "<table border=\"1\" class=\"dataframe\">\n",
       "  <thead>\n",
       "    <tr style=\"text-align: right;\">\n",
       "      <th></th>\n",
       "      <th>category_1</th>\n",
       "      <th>category_2</th>\n",
       "      <th>category_3</th>\n",
       "      <th>title</th>\n",
       "      <th>product_rating</th>\n",
       "      <th>selling_price</th>\n",
       "      <th>seller_rating</th>\n",
       "      <th>description</th>\n",
       "    </tr>\n",
       "  </thead>\n",
       "  <tbody>\n",
       "    <tr>\n",
       "      <th>0</th>\n",
       "      <td>4</td>\n",
       "      <td>48</td>\n",
       "      <td>47</td>\n",
       "      <td>[15086, 1336, 1320, 4226, 11613, 1320, 9856, 6...</td>\n",
       "      <td>4.4</td>\n",
       "      <td>152</td>\n",
       "      <td>4.4</td>\n",
       "      <td>[112, 78, 112, 344, 1336, 1320, 5069, 1033]</td>\n",
       "    </tr>\n",
       "    <tr>\n",
       "      <th>1</th>\n",
       "      <td>4</td>\n",
       "      <td>48</td>\n",
       "      <td>47</td>\n",
       "      <td>[7668, 11614, 235, 72, 252, 783, 5235, 1336, 1...</td>\n",
       "      <td>3.4</td>\n",
       "      <td>329</td>\n",
       "      <td>4.7</td>\n",
       "      <td>[3, 7668, 5235, 4952, 1336, 1321, 36, 292, 61,...</td>\n",
       "    </tr>\n",
       "    <tr>\n",
       "      <th>2</th>\n",
       "      <td>4</td>\n",
       "      <td>48</td>\n",
       "      <td>47</td>\n",
       "      <td>[3360, 78, 1336, 1321, 335, 311, 11615, 222, 6...</td>\n",
       "      <td>4.1</td>\n",
       "      <td>369</td>\n",
       "      <td>4.1</td>\n",
       "      <td>[3360, 78, 1336, 1198, 11615, 1321, 153, 75, 5...</td>\n",
       "    </tr>\n",
       "    <tr>\n",
       "      <th>3</th>\n",
       "      <td>4</td>\n",
       "      <td>48</td>\n",
       "      <td>47</td>\n",
       "      <td>[4447, 235, 72, 409, 366, 120, 1336, 1321, 5, ...</td>\n",
       "      <td>4.0</td>\n",
       "      <td>249</td>\n",
       "      <td>4.8</td>\n",
       "      <td>[4447, 366, 120, 235, 72, 1336, 1321, 168, 5, ...</td>\n",
       "    </tr>\n",
       "    <tr>\n",
       "      <th>4</th>\n",
       "      <td>4</td>\n",
       "      <td>48</td>\n",
       "      <td>47</td>\n",
       "      <td>[4447, 3606, 1336, 1321, 72, 33, 5, 422, 1301,...</td>\n",
       "      <td>3.9</td>\n",
       "      <td>249</td>\n",
       "      <td>4.8</td>\n",
       "      <td>[4447, 3606, 1336, 1321, 72, 33, 5, 422, 1301,...</td>\n",
       "    </tr>\n",
       "  </tbody>\n",
       "</table>\n",
       "</div>"
      ],
      "text/plain": [
       "   category_1  category_2  category_3  \\\n",
       "0           4          48          47   \n",
       "1           4          48          47   \n",
       "2           4          48          47   \n",
       "3           4          48          47   \n",
       "4           4          48          47   \n",
       "\n",
       "                                               title  product_rating  \\\n",
       "0  [15086, 1336, 1320, 4226, 11613, 1320, 9856, 6...             4.4   \n",
       "1  [7668, 11614, 235, 72, 252, 783, 5235, 1336, 1...             3.4   \n",
       "2  [3360, 78, 1336, 1321, 335, 311, 11615, 222, 6...             4.1   \n",
       "3  [4447, 235, 72, 409, 366, 120, 1336, 1321, 5, ...             4.0   \n",
       "4  [4447, 3606, 1336, 1321, 72, 33, 5, 422, 1301,...             3.9   \n",
       "\n",
       "   selling_price  seller_rating  \\\n",
       "0            152            4.4   \n",
       "1            329            4.7   \n",
       "2            369            4.1   \n",
       "3            249            4.8   \n",
       "4            249            4.8   \n",
       "\n",
       "                                         description  \n",
       "0        [112, 78, 112, 344, 1336, 1320, 5069, 1033]  \n",
       "1  [3, 7668, 5235, 4952, 1336, 1321, 36, 292, 61,...  \n",
       "2  [3360, 78, 1336, 1198, 11615, 1321, 153, 75, 5...  \n",
       "3  [4447, 366, 120, 235, 72, 1336, 1321, 168, 5, ...  \n",
       "4  [4447, 3606, 1336, 1321, 72, 33, 5, 422, 1301,...  "
      ]
     },
     "execution_count": 254,
     "metadata": {},
     "output_type": "execute_result"
    }
   ],
   "source": [
    "dataset.head()"
   ]
  },
  {
   "cell_type": "code",
   "execution_count": 255,
   "id": "e5b24d13-9930-4e5c-9d70-000b0f81ef18",
   "metadata": {},
   "outputs": [],
   "source": [
    "def rmsle(y, y_pred):\n",
    "    assert len(y) == len(y_pred)\n",
    "    to_sum = [(math.log(y_pred[i] + 1) - math.log(y[i] + 1)) ** 2.0 for i,pred in enumerate(y_pred)]\n",
    "    return (sum(to_sum) * (1.0/len(y))) ** 0.5\n",
    "from sklearn.metrics import mean_absolute_error as mae,mean_absolute_percentage_error as mape"
   ]
  },
  {
   "cell_type": "markdown",
   "id": "47c6ef69-0416-4c0a-af7b-6c1c0c024762",
   "metadata": {
    "tags": []
   },
   "source": [
    "## sep_emb_model"
   ]
  },
  {
   "cell_type": "code",
   "execution_count": 126,
   "id": "c2355005-24c4-4ff9-aa00-2cc9a89e4288",
   "metadata": {},
   "outputs": [],
   "source": [
    "from keras.layers import Input, Dropout, Dense, BatchNormalization, Activation, concatenate, GRU, Embedding, Flatten, BatchNormalization\n",
    "from keras.models import Model\n",
    "from keras.callbacks import ModelCheckpoint, Callback, EarlyStopping\n",
    "from keras import backend as K"
   ]
  },
  {
   "cell_type": "code",
   "execution_count": 127,
   "id": "af2e60de-b684-40c6-a5d9-add841b68e62",
   "metadata": {},
   "outputs": [],
   "source": [
    "x_title = pad_sequences(dataset.title,maxlen = max_title)\n",
    "x_description = pad_sequences(dataset.description,maxlen = max_description)\n",
    "cat1 = dataset.category_1.to_numpy()\n",
    "cat2 = dataset.category_2.to_numpy()\n",
    "cat3 = dataset.category_3.to_numpy()"
   ]
  },
  {
   "cell_type": "code",
   "execution_count": 128,
   "id": "218c9db4-e6b5-42b4-b059-2a1bf0ce61c0",
   "metadata": {},
   "outputs": [],
   "source": [
    "feed_data = {\n",
    "    'name':x_title,\n",
    "    'item_desc':x_description,\n",
    "    'category_1':cat1,\n",
    "    'category_2':cat2,\n",
    "    'category_3':cat3\n",
    "}"
   ]
  },
  {
   "cell_type": "code",
   "execution_count": 129,
   "id": "936ae0ab-0b12-40fc-9893-ce22913f2d88",
   "metadata": {},
   "outputs": [
    {
     "data": {
      "text/plain": [
       "{'name': array([[    0,     0,     0, ...,  1265,  4805,  1145],\n",
       "        [  971,   148,   935, ...,     8, 14241,   642],\n",
       "        [    5,   491,   262, ...,    94,   431,  1425],\n",
       "        ...,\n",
       "        [  529,   138,   121, ...,    12,    57,   577],\n",
       "        [ 2790,    75,    64, ..., 23878,   130,   583],\n",
       "        [  134,   144,  5772, ...,     2,   540,    50]]),\n",
       " 'item_desc': array([[    0,     0,     0, ...,  1265,  4805,  1145],\n",
       "        [    0,     0,     0, ...,     8, 14241,   642],\n",
       "        [    0,     0,     0, ...,    94,   431,  1425],\n",
       "        ...,\n",
       "        [    0,     0,     0, ...,    12,    57,   577],\n",
       "        [    0,     0,     0, ..., 23878,   130,   583],\n",
       "        [    0,     0,     0, ...,     2,   540,    50]]),\n",
       " 'category_1': array([4, 4, 4, ..., 2, 2, 2]),\n",
       " 'category_2': array([48, 48, 48, ..., 42, 42, 42]),\n",
       " 'category_3': array([47, 47, 47, ..., 71, 71, 71])}"
      ]
     },
     "execution_count": 129,
     "metadata": {},
     "output_type": "execute_result"
    }
   ],
   "source": [
    "feed_data"
   ]
  },
  {
   "cell_type": "code",
   "execution_count": 130,
   "id": "22f953a7-9e40-4507-a08d-3c79916f4f2b",
   "metadata": {},
   "outputs": [],
   "source": [
    "max_name = np.max(x_title)+1\n",
    "max_desp = np.max(x_description)+1\n",
    "max_cat1=np.max(cat1)+1\n",
    "max_cat2=np.max(cat2)+1\n",
    "max_cat3=np.max(cat3)+1"
   ]
  },
  {
   "cell_type": "code",
   "execution_count": 131,
   "id": "21c7fd0f-76e5-4ea9-915b-150c9d6495ae",
   "metadata": {},
   "outputs": [],
   "source": [
    "y = dataset.selling_price.to_numpy()"
   ]
  },
  {
   "cell_type": "code",
   "execution_count": 132,
   "id": "1d7359e1-ccab-4f9b-87c0-4edda8ef2d87",
   "metadata": {},
   "outputs": [],
   "source": [
    "#shrinking y better look of mae, mse\n",
    "y = np.log(y+1)\n",
    "target_scaler = MinMaxScaler(feature_range=(-1, 1))\n",
    "y = target_scaler.fit_transform(y.reshape(-1,1))"
   ]
  },
  {
   "cell_type": "code",
   "execution_count": 133,
   "id": "de034be1-89eb-4eec-a8bf-467bf8884c47",
   "metadata": {},
   "outputs": [
    {
     "ename": "SyntaxError",
     "evalue": "closing parenthesis ')' does not match opening parenthesis '[' (733490949.py, line 41)",
     "output_type": "error",
     "traceback": [
      "\u001b[1;36m  File \u001b[1;32m\"C:\\Users\\priya\\AppData\\Local\\Temp\\ipykernel_11880\\733490949.py\"\u001b[1;36m, line \u001b[1;32m41\u001b[0m\n\u001b[1;33m    model.compile(loss=\"mse\", optimizer=opt, metrics=[\"mae\")\u001b[0m\n\u001b[1;37m                                                           ^\u001b[0m\n\u001b[1;31mSyntaxError\u001b[0m\u001b[1;31m:\u001b[0m closing parenthesis ')' does not match opening parenthesis '['\n"
     ]
    }
   ],
   "source": [
    "def get_model():\n",
    "    #params\n",
    "    dr_r = 0.1\n",
    "    \n",
    "    #Inputs\n",
    "    name = Input(shape=[x_title.shape[1]], name=\"name\")\n",
    "    item_desc = Input(shape=[x_description.shape[1]], name=\"item_desc\")\n",
    "    category_1 = Input(shape=[1], name=\"category_1\")\n",
    "    category_2 = Input(shape=[1], name=\"category_2\")\n",
    "    category_3 = Input(shape=[1], name = \"category_3\")\n",
    "    \n",
    "    #Embeddings layers\n",
    "    emb_name = Embedding(max_name, 32)(name)\n",
    "    emb_item_desc = Embedding(max_desp, 64)(item_desc)\n",
    "    emb_category_1 = Dense(8)(category_1)\n",
    "    emb_category_2 = Dense(8)(category_2)\n",
    "    emb_category_3 = Dense(8)(category_3)\n",
    "\n",
    "    \n",
    "    #rnn layer\n",
    "    rnn_layer1 = GRU(16) (emb_item_desc)\n",
    "    rnn_layer2 = GRU(8) (emb_name)\n",
    "    \n",
    "    #main layer\n",
    "    main_l = concatenate([\n",
    "           Flatten() (category_1)\n",
    "         , Flatten() (category_2)\n",
    "         , Flatten() (category_3)\n",
    "         , rnn_layer1\n",
    "         , rnn_layer2\n",
    "    ])\n",
    "    main_l = Dropout(dr_r) (Dense(128) (main_l))\n",
    "    main_l = Dropout(dr_r) (Dense(64) (main_l))\n",
    "    \n",
    "    #output\n",
    "    output = Dense(1, activation=\"linear\") (main_l)\n",
    "    \n",
    "    #model\n",
    "    model = Model([name,item_desc,category_1,category_2,category_3], output) #name, item_desc, category_1, category_2, category_3\n",
    "    opt = keras.optimizers.Adam(learning_rate=0.01)\n",
    "    model.compile(loss=\"mse\", optimizer=opt, metrics=[\"mae\"])\n",
    "    \n",
    "    return model\n",
    "\n",
    "    \n",
    "model_sep = get_model()\n",
    "model_sep.summary()"
   ]
  },
  {
   "cell_type": "code",
   "execution_count": 33,
   "id": "d31b41e8-9d6a-4553-b6bd-deb8f0789670",
   "metadata": {
    "tags": []
   },
   "outputs": [
    {
     "name": "stdout",
     "output_type": "stream",
     "text": [
      "Epoch 1/20\n",
      "155/155 [==============================] - 24s 102ms/step - loss: 350.2938\n",
      "Epoch 2/20\n",
      "155/155 [==============================] - 13s 84ms/step - loss: 2.1335\n",
      "Epoch 3/20\n",
      "155/155 [==============================] - 15s 98ms/step - loss: 1.1822\n",
      "Epoch 4/20\n",
      "155/155 [==============================] - 16s 104ms/step - loss: 0.7096\n",
      "Epoch 5/20\n",
      "155/155 [==============================] - 16s 100ms/step - loss: 0.4560\n",
      "Epoch 6/20\n",
      "155/155 [==============================] - 14s 91ms/step - loss: 0.3264\n",
      "Epoch 7/20\n",
      "155/155 [==============================] - 17s 110ms/step - loss: 0.2667\n",
      "Epoch 8/20\n",
      "155/155 [==============================] - 17s 108ms/step - loss: 0.2185\n",
      "Epoch 9/20\n",
      "155/155 [==============================] - 17s 110ms/step - loss: 0.1792\n",
      "Epoch 10/20\n",
      "155/155 [==============================] - 17s 109ms/step - loss: 0.1577\n",
      "Epoch 11/20\n",
      "155/155 [==============================] - 17s 110ms/step - loss: 0.1396\n",
      "Epoch 12/20\n",
      "155/155 [==============================] - 17s 109ms/step - loss: 0.1234\n",
      "Epoch 13/20\n",
      "155/155 [==============================] - 17s 110ms/step - loss: 0.1131\n",
      "Epoch 14/20\n",
      "155/155 [==============================] - 17s 110ms/step - loss: 0.1055\n",
      "Epoch 15/20\n",
      "155/155 [==============================] - 17s 109ms/step - loss: 0.0977\n",
      "Epoch 16/20\n",
      "155/155 [==============================] - 17s 110ms/step - loss: 0.0899\n",
      "Epoch 17/20\n",
      "155/155 [==============================] - 16s 103ms/step - loss: 0.0858\n",
      "Epoch 18/20\n",
      "155/155 [==============================] - 15s 98ms/step - loss: 0.0762\n",
      "Epoch 19/20\n",
      "155/155 [==============================] - 16s 100ms/step - loss: 0.0721\n",
      "Epoch 20/20\n",
      "155/155 [==============================] - 17s 110ms/step - loss: 0.0662\n"
     ]
    },
    {
     "data": {
      "text/plain": [
       "<keras.callbacks.History at 0x24a07c5e220>"
      ]
     },
     "execution_count": 33,
     "metadata": {},
     "output_type": "execute_result"
    }
   ],
   "source": [
    "epochs = 20\n",
    "model_sep.fit(feed_data,y,epochs = epochs)"
   ]
  },
  {
   "cell_type": "code",
   "execution_count": 34,
   "id": "eb2fb4d0-6d67-4f14-ae22-db777428c9c8",
   "metadata": {},
   "outputs": [
    {
     "data": {
      "text/plain": [
       "count      4941.000000\n",
       "mean       1732.453957\n",
       "std        6047.012503\n",
       "min          51.000000\n",
       "25%         259.000000\n",
       "50%         415.000000\n",
       "75%         852.000000\n",
       "max      115000.000000\n",
       "Name: selling_price, dtype: float64"
      ]
     },
     "execution_count": 34,
     "metadata": {},
     "output_type": "execute_result"
    }
   ],
   "source": [
    "dataset.selling_price.describe()"
   ]
  },
  {
   "cell_type": "code",
   "execution_count": 35,
   "id": "025fda07-bef9-4cb5-9d06-76e5d421f573",
   "metadata": {},
   "outputs": [
    {
     "name": "stdout",
     "output_type": "stream",
     "text": [
      "155/155 [==============================] - 5s 20ms/step\n"
     ]
    }
   ],
   "source": [
    "y_pred = model_sep.predict(feed_data)"
   ]
  },
  {
   "cell_type": "code",
   "execution_count": 36,
   "id": "17fa9c1d-c994-42e3-9029-b531099afaf3",
   "metadata": {},
   "outputs": [],
   "source": [
    "y_pred = target_scaler.inverse_transform(y_pred)\n",
    "y_pred = np.exp(y_pred)-1"
   ]
  },
  {
   "cell_type": "code",
   "execution_count": 39,
   "id": "bf27d9d7-28f2-42db-af79-ebbdd68ea97e",
   "metadata": {},
   "outputs": [
    {
     "name": "stdout",
     "output_type": "stream",
     "text": [
      "0.35990745207011127\n",
      "582.4389363304127\n",
      "0.2765700356066353\n"
     ]
    }
   ],
   "source": [
    "print(rmsle(dataset.selling_price, y_pred))\n",
    "print(mae(dataset.selling_price,y_pred))\n",
    "print(mape(dataset.selling_price,y_pred))"
   ]
  },
  {
   "cell_type": "code",
   "execution_count": 40,
   "id": "7cfcda5c-4a8b-442a-b650-d6ceda1cc592",
   "metadata": {},
   "outputs": [],
   "source": [
    "model_sep.save('seperate_embed_rmlse_0.359_mae_582_mape_.0.276.h5')"
   ]
  },
  {
   "cell_type": "code",
   "execution_count": null,
   "id": "2a35cfbf-7ec2-4ef1-9fde-6d8d2744d36e",
   "metadata": {},
   "outputs": [],
   "source": []
  },
  {
   "cell_type": "code",
   "execution_count": null,
   "id": "6bc54adf-3ad3-43c8-b295-7cd53595590c",
   "metadata": {},
   "outputs": [],
   "source": []
  },
  {
   "cell_type": "markdown",
   "id": "6aa75d6e-edfa-4435-b971-8c9c9cf392c2",
   "metadata": {},
   "source": [
    "## FastText"
   ]
  },
  {
   "cell_type": "code",
   "execution_count": 256,
   "id": "de956bb4-90f8-4cb6-931d-f94ec04151e8",
   "metadata": {},
   "outputs": [],
   "source": [
    "from keras.layers import Input, Dropout, Dense, BatchNormalization, Activation, concatenate, GRU, Embedding, Flatten, BatchNormalization\n",
    "from keras.models import Model\n",
    "from keras.callbacks import ModelCheckpoint, Callback, EarlyStopping\n",
    "from keras import backend as K"
   ]
  },
  {
   "cell_type": "code",
   "execution_count": 257,
   "id": "3673d20b-7acf-475e-adad-35cd1a9dc328",
   "metadata": {},
   "outputs": [],
   "source": [
    "x_title = pad_sequences(dataset.title,maxlen = max_title)\n",
    "x_description = pad_sequences(dataset.description,maxlen = max_description)\n",
    "cat1 = dataset.category_1.to_numpy()\n",
    "cat2 = dataset.category_2.to_numpy()\n",
    "cat3 = dataset.category_3.to_numpy()\n",
    "feed_data = {\n",
    "    'name':x_title,\n",
    "    'item_desc':x_description,\n",
    "    'category_1':cat1,\n",
    "    'category_2':cat2,\n",
    "    'category_3':cat3\n",
    "}"
   ]
  },
  {
   "cell_type": "code",
   "execution_count": 258,
   "id": "85907d86-1172-4ee8-a4ff-a777d7683c5e",
   "metadata": {},
   "outputs": [
    {
     "data": {
      "text/plain": [
       "array([[   0,    0,    0, ..., 1336, 5234,  344],\n",
       "       [   0,    0,    0, ...,   21,   27,  238],\n",
       "       [   0,    0,    0, ...,   42,    6,   75],\n",
       "       ...,\n",
       "       [   0,    0,    0, ...,   53,   21,  238],\n",
       "       [   0,    0,    0, ..., 3363, 5389,   79],\n",
       "       [   0,    0,    0, ..., 3363,  394,   79]])"
      ]
     },
     "execution_count": 258,
     "metadata": {},
     "output_type": "execute_result"
    }
   ],
   "source": [
    "feed_data['name']"
   ]
  },
  {
   "cell_type": "code",
   "execution_count": 259,
   "id": "726da44f-0719-4495-97e8-91b03e1cbc54",
   "metadata": {},
   "outputs": [],
   "source": [
    "max_name = np.max(x_title)+1\n",
    "max_desp = np.max(x_description)+1\n",
    "max_cat1 = np.max(cat1)+1\n",
    "max_cat2=np.max(cat2)+1\n",
    "max_cat3=np.max(cat3)+1\n",
    "max_text = max(max_name,max_desp)"
   ]
  },
  {
   "cell_type": "code",
   "execution_count": 260,
   "id": "6b95a1eb-14df-4446-91a2-779ddb47d5db",
   "metadata": {},
   "outputs": [],
   "source": [
    "from keras.layers import GlobalMaxPooling1D, GlobalAveragePooling1D"
   ]
  },
  {
   "cell_type": "code",
   "execution_count": 261,
   "id": "a05f0b1e-a295-40fb-b644-e49dbe239cc8",
   "metadata": {},
   "outputs": [
    {
     "name": "stdout",
     "output_type": "stream",
     "text": [
      "Model: \"model_6\"\n",
      "__________________________________________________________________________________________________\n",
      " Layer (type)                   Output Shape         Param #     Connected to                     \n",
      "==================================================================================================\n",
      " name (InputLayer)              [(None, 32)]         0           []                               \n",
      "                                                                                                  \n",
      " item_desc (InputLayer)         [(None, 128)]        0           []                               \n",
      "                                                                                                  \n",
      " category_1 (InputLayer)        [(None, 1)]          0           []                               \n",
      "                                                                                                  \n",
      " category_2 (InputLayer)        [(None, 1)]          0           []                               \n",
      "                                                                                                  \n",
      " category_3 (InputLayer)        [(None, 1)]          0           []                               \n",
      "                                                                                                  \n",
      " embedding_24 (Embedding)       multiple             1141750     ['name[0][0]',                   \n",
      "                                                                  'item_desc[0][0]']              \n",
      "                                                                                                  \n",
      " embedding_25 (Embedding)       (None, 1, 10)        60          ['category_1[0][0]']             \n",
      "                                                                                                  \n",
      " embedding_26 (Embedding)       (None, 1, 10)        560         ['category_2[0][0]']             \n",
      "                                                                                                  \n",
      " embedding_27 (Embedding)       (None, 1, 10)        1960        ['category_3[0][0]']             \n",
      "                                                                                                  \n",
      " output_name_max (GlobalAverage  (None, 50)          0           ['embedding_24[0][0]']           \n",
      " Pooling1D)                                                                                       \n",
      "                                                                                                  \n",
      " output_item_max (GlobalAverage  (None, 50)          0           ['embedding_24[1][0]']           \n",
      " Pooling1D)                                                                                       \n",
      "                                                                                                  \n",
      " flatten_18 (Flatten)           (None, 10)           0           ['embedding_25[0][0]']           \n",
      "                                                                                                  \n",
      " flatten_19 (Flatten)           (None, 10)           0           ['embedding_26[0][0]']           \n",
      "                                                                                                  \n",
      " flatten_20 (Flatten)           (None, 10)           0           ['embedding_27[0][0]']           \n",
      "                                                                                                  \n",
      " concatenate_6 (Concatenate)    (None, 130)          0           ['output_name_max[0][0]',        \n",
      "                                                                  'output_item_max[0][0]',        \n",
      "                                                                  'flatten_18[0][0]',             \n",
      "                                                                  'flatten_19[0][0]',             \n",
      "                                                                  'flatten_20[0][0]']             \n",
      "                                                                                                  \n",
      " batch_normalization_6 (BatchNo  (None, 130)         520         ['concatenate_6[0][0]']          \n",
      " rmalization)                                                                                     \n",
      "                                                                                                  \n",
      " dense_12 (Dense)               (None, 1024)         134144      ['batch_normalization_6[0][0]']  \n",
      "                                                                                                  \n",
      " activation_6 (Activation)      (None, 1024)         0           ['dense_12[0][0]']               \n",
      "                                                                                                  \n",
      " dense_13 (Dense)               (None, 1)            1025        ['activation_6[0][0]']           \n",
      "                                                                                                  \n",
      "==================================================================================================\n",
      "Total params: 1,280,019\n",
      "Trainable params: 1,279,759\n",
      "Non-trainable params: 260\n",
      "__________________________________________________________________________________________________\n"
     ]
    }
   ],
   "source": [
    "def get_model():\n",
    "    #params\n",
    "    dr_r = 0.1\n",
    "    \n",
    "    #Inputs\n",
    "    name = Input(shape=[x_title.shape[1]], name=\"name\")\n",
    "    item_desc = Input(shape=[x_description.shape[1]], name=\"item_desc\")\n",
    "    category1 = Input(shape=[1], name=\"category_1\")\n",
    "    category2 = Input(shape=[1], name=\"category_2\")\n",
    "    category3 = Input(shape=[1], name=\"category_3\")\n",
    "    \n",
    "    #Embeddings layers\n",
    "\n",
    "    shared_embedding = Embedding(max_text, 50)    \n",
    "    emb_name = shared_embedding (name)\n",
    "    emb_item_desc = shared_embedding (item_desc)\n",
    "    \n",
    "    val=10\n",
    "    emb_category1 = Flatten() ( Embedding(max_cat1, val)(category1) )\n",
    "    emb_category2 = Flatten() ( Embedding(max_cat2, val)(category2) )\n",
    "    emb_category3 = Flatten() ( Embedding(max_cat3, val)(category3) )\n",
    "    \n",
    "    emb_name = GlobalAveragePooling1D( name='output_name_max' )(emb_name)\n",
    "    emb_item_desc = GlobalAveragePooling1D(name='output_item_max' )(emb_item_desc)\n",
    "\n",
    "    x = concatenate([emb_name,emb_item_desc,emb_category1,emb_category2,emb_category3])\n",
    "    x = BatchNormalization()(x)\n",
    "    x = Dense(1024)(x)\n",
    "    x = Activation('relu')(x)\n",
    "\n",
    "    output = Dense(1, activation=\"linear\") (x)\n",
    "    model = Model([name,item_desc,category1,category2,category3], output)\n",
    "    optimizer = keras.optimizers.Adam(learning_rate=0.02)\n",
    "    model.compile(loss=\"mse\", optimizer=optimizer)\n",
    "\n",
    "    return model\n",
    "    \n",
    "model_share = get_model()\n",
    "model_share.summary()"
   ]
  },
  {
   "cell_type": "code",
   "execution_count": 262,
   "id": "a57c7a17-6fd5-44f9-b444-1caf98f3d764",
   "metadata": {},
   "outputs": [],
   "source": [
    "#shrinking y better look of mae, mse\n",
    "y = dataset.selling_price.to_numpy()\n",
    "y = np.log(y+1)\n",
    "target_scaler = MinMaxScaler(feature_range=(-1, 1))\n",
    "y = target_scaler.fit_transform(y.reshape(-1,1))"
   ]
  },
  {
   "cell_type": "code",
   "execution_count": 268,
   "id": "1bcc4b32-1181-4ab1-9810-c2b39b235976",
   "metadata": {},
   "outputs": [
    {
     "data": {
      "text/plain": [
       "['scaler.gz']"
      ]
     },
     "execution_count": 268,
     "metadata": {},
     "output_type": "execute_result"
    }
   ],
   "source": [
    "joblib.dump(target_scaler, 'scaler.gz')"
   ]
  },
  {
   "cell_type": "code",
   "execution_count": 263,
   "id": "5367a637-45a6-4ef8-8931-4c3538caaa58",
   "metadata": {},
   "outputs": [
    {
     "name": "stdout",
     "output_type": "stream",
     "text": [
      "Epoch 1/20\n",
      "155/155 [==============================] - 3s 14ms/step - loss: 0.4370\n",
      "Epoch 2/20\n",
      "155/155 [==============================] - 2s 14ms/step - loss: 0.0400\n",
      "Epoch 3/20\n",
      "155/155 [==============================] - 2s 14ms/step - loss: 0.0242\n",
      "Epoch 4/20\n",
      "155/155 [==============================] - 3s 16ms/step - loss: 0.0153\n",
      "Epoch 5/20\n",
      "155/155 [==============================] - 2s 15ms/step - loss: 0.0114\n",
      "Epoch 6/20\n",
      "155/155 [==============================] - 2s 15ms/step - loss: 0.0088\n",
      "Epoch 7/20\n",
      "155/155 [==============================] - 2s 16ms/step - loss: 0.0094\n",
      "Epoch 8/20\n",
      "155/155 [==============================] - 3s 17ms/step - loss: 0.0086\n",
      "Epoch 9/20\n",
      "155/155 [==============================] - 2s 15ms/step - loss: 0.0077\n",
      "Epoch 10/20\n",
      "155/155 [==============================] - 3s 17ms/step - loss: 0.0081\n",
      "Epoch 11/20\n",
      "155/155 [==============================] - 3s 17ms/step - loss: 0.0078\n",
      "Epoch 12/20\n",
      "155/155 [==============================] - 2s 16ms/step - loss: 0.0080\n",
      "Epoch 13/20\n",
      "155/155 [==============================] - 3s 16ms/step - loss: 0.0073\n",
      "Epoch 14/20\n",
      "155/155 [==============================] - 2s 16ms/step - loss: 0.0065\n",
      "Epoch 15/20\n",
      "155/155 [==============================] - 3s 18ms/step - loss: 0.0073\n",
      "Epoch 16/20\n",
      "155/155 [==============================] - 3s 19ms/step - loss: 0.0069\n",
      "Epoch 17/20\n",
      "155/155 [==============================] - 3s 17ms/step - loss: 0.0065\n",
      "Epoch 18/20\n",
      "155/155 [==============================] - 3s 16ms/step - loss: 0.0068\n",
      "Epoch 19/20\n",
      "155/155 [==============================] - 3s 17ms/step - loss: 0.0069\n",
      "Epoch 20/20\n",
      "155/155 [==============================] - 3s 18ms/step - loss: 0.0070\n"
     ]
    },
    {
     "data": {
      "text/plain": [
       "<keras.callbacks.History at 0x17b856be3a0>"
      ]
     },
     "execution_count": 263,
     "metadata": {},
     "output_type": "execute_result"
    }
   ],
   "source": [
    "epochs = 20\n",
    "model_share.fit(feed_data,y,epochs = epochs)"
   ]
  },
  {
   "cell_type": "code",
   "execution_count": 265,
   "id": "ac84eb9a-6c72-42f4-aa33-e3ece4115791",
   "metadata": {
    "tags": []
   },
   "outputs": [
    {
     "name": "stdout",
     "output_type": "stream",
     "text": [
      "155/155 [==============================] - 0s 2ms/step\n"
     ]
    }
   ],
   "source": [
    "y_pred = model_share.predict(feed_data)"
   ]
  },
  {
   "cell_type": "code",
   "execution_count": 266,
   "id": "f6683f7a-ad6d-4cec-930b-3e7b596b6335",
   "metadata": {},
   "outputs": [],
   "source": [
    "y_pred = target_scaler.inverse_transform(y_pred)\n",
    "y_pred = np.exp(y_pred)-1"
   ]
  },
  {
   "cell_type": "code",
   "execution_count": 267,
   "id": "a054365c-0e62-4c13-b915-294f32f009ca",
   "metadata": {},
   "outputs": [
    {
     "name": "stdout",
     "output_type": "stream",
     "text": [
      "0.28933769036508517\n",
      "782.8001974318535\n",
      "0.279048781860297\n"
     ]
    }
   ],
   "source": [
    "print(rmsle(dataset.selling_price, y_pred))\n",
    "print(mae(dataset.selling_price,y_pred))\n",
    "print(mape(dataset.selling_price,y_pred))"
   ]
  },
  {
   "cell_type": "code",
   "execution_count": 269,
   "id": "9b6216f7-4917-4a26-8cbd-592f7a0bfb3c",
   "metadata": {},
   "outputs": [],
   "source": [
    "model_share.save('fasttext_rmlse_0.28_mae_782_mape_0.27.h5')"
   ]
  },
  {
   "cell_type": "markdown",
   "id": "33bbfba8-efba-4a18-9e15-f28d1e142bcd",
   "metadata": {
    "tags": []
   },
   "source": [
    "# Category 1 seperate check"
   ]
  },
  {
   "cell_type": "code",
   "execution_count": 273,
   "id": "e1114f25-65a5-4f9b-b95e-3de74afdbae0",
   "metadata": {},
   "outputs": [],
   "source": [
    "data1 = dataset.copy()"
   ]
  },
  {
   "cell_type": "code",
   "execution_count": 274,
   "id": "b18016ab-a4d7-4f7c-96ed-0aec8081380f",
   "metadata": {},
   "outputs": [],
   "source": [
    "data1.category_1 = le1.inverse_transform(data1.category_1)"
   ]
  },
  {
   "cell_type": "code",
   "execution_count": 359,
   "id": "034e9838-6af5-4968-b9e7-508601b56b4b",
   "metadata": {},
   "outputs": [
    {
     "data": {
      "text/plain": [
       "<AxesSubplot:>"
      ]
     },
     "execution_count": 359,
     "metadata": {},
     "output_type": "execute_result"
    },
    {
     "data": {
      "image/png": "[encoded data removed]",
      "text/plain": [
       "<Figure size 640x480 with 1 Axes>"
      ]
     },
     "metadata": {},
     "output_type": "display_data"
    }
   ],
   "source": [
    "data1.category_1.value_counts().plot(kind = 'bar')"
   ]
  },
  {
   "cell_type": "code",
   "execution_count": 360,
   "id": "25b352cb-423f-4f77-a9c7-1a75325af01a",
   "metadata": {},
   "outputs": [],
   "source": [
    "types = data1.category_1.unique()"
   ]
  },
  {
   "cell_type": "code",
   "execution_count": 361,
   "id": "486c408d-eed7-4843-9e43-2e762bc83487",
   "metadata": {},
   "outputs": [
    {
     "name": "stdout",
     "output_type": "stream",
     "text": [
      "Model: \"model_68\"\n",
      "__________________________________________________________________________________________________\n",
      " Layer (type)                   Output Shape         Param #     Connected to                     \n",
      "==================================================================================================\n",
      " name (InputLayer)              [(None, 32)]         0           []                               \n",
      "                                                                                                  \n",
      " item_desc (InputLayer)         [(None, 128)]        0           []                               \n",
      "                                                                                                  \n",
      " category_2 (InputLayer)        [(None, 1)]          0           []                               \n",
      "                                                                                                  \n",
      " category_3 (InputLayer)        [(None, 1)]          0           []                               \n",
      "                                                                                                  \n",
      " embedding_201 (Embedding)      multiple             1378850     ['name[0][0]',                   \n",
      "                                                                  'item_desc[0][0]']              \n",
      "                                                                                                  \n",
      " embedding_202 (Embedding)      (None, 1, 10)        770         ['category_2[0][0]']             \n",
      "                                                                                                  \n",
      " embedding_203 (Embedding)      (None, 1, 10)        3000        ['category_3[0][0]']             \n",
      "                                                                                                  \n",
      " output_name_max (GlobalAverage  (None, 50)          0           ['embedding_201[0][0]']          \n",
      " Pooling1D)                                                                                       \n",
      "                                                                                                  \n",
      " output_item_max (GlobalAverage  (None, 50)          0           ['embedding_201[1][0]']          \n",
      " Pooling1D)                                                                                       \n",
      "                                                                                                  \n",
      " flatten_143 (Flatten)          (None, 10)           0           ['embedding_202[0][0]']          \n",
      "                                                                                                  \n",
      " flatten_144 (Flatten)          (None, 10)           0           ['embedding_203[0][0]']          \n",
      "                                                                                                  \n",
      " concatenate_68 (Concatenate)   (None, 120)          0           ['output_name_max[0][0]',        \n",
      "                                                                  'output_item_max[0][0]',        \n",
      "                                                                  'flatten_143[0][0]',            \n",
      "                                                                  'flatten_144[0][0]']            \n",
      "                                                                                                  \n",
      " batch_normalization_61 (BatchN  (None, 120)         480         ['concatenate_68[0][0]']         \n",
      " ormalization)                                                                                    \n",
      "                                                                                                  \n",
      " dense_160 (Dense)              (None, 1024)         123904      ['batch_normalization_61[0][0]'] \n",
      "                                                                                                  \n",
      " activation_61 (Activation)     (None, 1024)         0           ['dense_160[0][0]']              \n",
      "                                                                                                  \n",
      " dense_161 (Dense)              (None, 1)            1025        ['activation_61[0][0]']          \n",
      "                                                                                                  \n",
      "==================================================================================================\n",
      "Total params: 1,508,029\n",
      "Trainable params: 1,507,789\n",
      "Non-trainable params: 240\n",
      "__________________________________________________________________________________________________\n"
     ]
    }
   ],
   "source": [
    "def get_model():\n",
    "    #params\n",
    "    dr_r = 0.1\n",
    "    \n",
    "    #Inputs\n",
    "    name = Input(shape=[x_title.shape[1]], name=\"name\")\n",
    "    item_desc = Input(shape=[x_description.shape[1]], name=\"item_desc\")\n",
    "    category2 = Input(shape=[1], name=\"category_2\")\n",
    "    category3 = Input(shape=[1], name=\"category_3\")\n",
    "    \n",
    "    #Embeddings layers\n",
    "\n",
    "    shared_embedding = Embedding(max_text, 50)    \n",
    "    emb_name = shared_embedding (name)\n",
    "    emb_item_desc = shared_embedding (item_desc)\n",
    "    \n",
    "    val=10\n",
    "    emb_category2 = Flatten() ( Embedding(max_cat2, val)(category2) )\n",
    "    emb_category3 = Flatten() ( Embedding(max_cat3, val)(category3) )\n",
    "    \n",
    "    emb_name = GlobalAveragePooling1D( name='output_name_max' )(emb_name)\n",
    "    emb_item_desc = GlobalAveragePooling1D(name='output_item_max' )(emb_item_desc)\n",
    "\n",
    "    x = concatenate([emb_name,emb_item_desc,emb_category2,emb_category3])\n",
    "    x = BatchNormalization()(x)\n",
    "    x = Dense(1024)(x)\n",
    "    x = Activation('relu')(x)\n",
    "\n",
    "    output = Dense(1, activation=\"linear\") (x)\n",
    "    model = Model([name,item_desc,category2,category3], output)\n",
    "    optimizer = keras.optimizers.Adam(learning_rate=0.02)\n",
    "    model.compile(loss=\"mse\", optimizer=optimizer, metrics=[\"mae\",\"mape\", rmsle_cust])\n",
    "\n",
    "    return model\n",
    "    \n",
    "model = get_model()\n",
    "model.summary()"
   ]
  },
  {
   "cell_type": "code",
   "execution_count": 362,
   "id": "b4d2a83d-9960-4a61-9ee3-c8df56c48454",
   "metadata": {},
   "outputs": [
    {
     "data": {
      "text/plain": [
       "array(['Sports, Books and More', 'Electronics', \"Men's wear\",\n",
       "       \"Women's wear\", 'Bady and Kids', 'Home and Furniture'],\n",
       "      dtype=object)"
      ]
     },
     "execution_count": 362,
     "metadata": {},
     "output_type": "execute_result"
    }
   ],
   "source": [
    "types"
   ]
  },
  {
   "cell_type": "code",
   "execution_count": 363,
   "id": "332c4d21-9174-4b21-a134-095450ad9544",
   "metadata": {},
   "outputs": [],
   "source": [
    "results = []"
   ]
  },
  {
   "cell_type": "code",
   "execution_count": 364,
   "id": "c0c4fd8c-eff3-449b-a5c4-347ed7f2396a",
   "metadata": {},
   "outputs": [
    {
     "name": "stdout",
     "output_type": "stream",
     "text": [
      "Epoch 1/20\n",
      "56/56 [==============================] - 2s 16ms/step - loss: 1.0105 - mae: 0.6428 - mape: 861.0957 - rmsle_cust: 0.1728\n",
      "Epoch 2/20\n",
      "56/56 [==============================] - 1s 16ms/step - loss: 0.0832 - mae: 0.2001 - mape: 307.7478 - rmsle_cust: 0.0472\n",
      "Epoch 3/20\n",
      "56/56 [==============================] - 1s 17ms/step - loss: 0.0259 - mae: 0.1163 - mape: 170.1295 - rmsle_cust: 0.0266\n",
      "Epoch 4/20\n",
      "56/56 [==============================] - 1s 17ms/step - loss: 0.0185 - mae: 0.0952 - mape: 144.9015 - rmsle_cust: 0.0209\n",
      "Epoch 5/20\n",
      "56/56 [==============================] - 1s 16ms/step - loss: 0.0108 - mae: 0.0749 - mape: 136.0539 - rmsle_cust: 0.0179\n",
      "Epoch 6/20\n",
      "56/56 [==============================] - 1s 16ms/step - loss: 0.0086 - mae: 0.0670 - mape: 101.1302 - rmsle_cust: 0.0151\n",
      "Epoch 7/20\n",
      "56/56 [==============================] - 1s 16ms/step - loss: 0.0112 - mae: 0.0744 - mape: 92.6844 - rmsle_cust: 0.0182\n",
      "Epoch 8/20\n",
      "56/56 [==============================] - 1s 15ms/step - loss: 0.0077 - mae: 0.0663 - mape: 105.2229 - rmsle_cust: 0.0146\n",
      "Epoch 9/20\n",
      "56/56 [==============================] - 1s 15ms/step - loss: 0.0052 - mae: 0.0535 - mape: 95.1136 - rmsle_cust: 0.0123\n",
      "Epoch 10/20\n",
      "56/56 [==============================] - 1s 15ms/step - loss: 0.0042 - mae: 0.0479 - mape: 71.6461 - rmsle_cust: 0.0116\n",
      "Epoch 11/20\n",
      "56/56 [==============================] - 1s 15ms/step - loss: 0.0042 - mae: 0.0478 - mape: 64.8889 - rmsle_cust: 0.0109\n",
      "Epoch 12/20\n",
      "56/56 [==============================] - 1s 17ms/step - loss: 0.0041 - mae: 0.0474 - mape: 67.8988 - rmsle_cust: 0.0100\n",
      "Epoch 13/20\n",
      "56/56 [==============================] - 1s 17ms/step - loss: 0.0037 - mae: 0.0426 - mape: 60.0026 - rmsle_cust: 0.0103\n",
      "Epoch 14/20\n",
      "56/56 [==============================] - 1s 16ms/step - loss: 0.0040 - mae: 0.0457 - mape: 78.6347 - rmsle_cust: 0.0108\n",
      "Epoch 15/20\n",
      "56/56 [==============================] - 1s 15ms/step - loss: 0.0031 - mae: 0.0411 - mape: 55.7217 - rmsle_cust: 0.0090\n",
      "Epoch 16/20\n",
      "56/56 [==============================] - 1s 17ms/step - loss: 0.0041 - mae: 0.0459 - mape: 60.6642 - rmsle_cust: 0.0113\n",
      "Epoch 17/20\n",
      "56/56 [==============================] - 1s 15ms/step - loss: 0.0041 - mae: 0.0436 - mape: 49.9290 - rmsle_cust: 0.0114\n",
      "Epoch 18/20\n",
      "56/56 [==============================] - 1s 17ms/step - loss: 0.0036 - mae: 0.0421 - mape: 59.7186 - rmsle_cust: 0.0106\n",
      "Epoch 19/20\n",
      "56/56 [==============================] - 1s 17ms/step - loss: 0.0026 - mae: 0.0375 - mape: 62.4867 - rmsle_cust: 0.0086\n",
      "Epoch 20/20\n",
      "56/56 [==============================] - 1s 19ms/step - loss: 0.0028 - mae: 0.0370 - mape: 68.0919 - rmsle_cust: 0.0092\n",
      "56/56 [==============================] - 0s 3ms/step\n",
      "Sports, Books and More done\n",
      "Epoch 1/20\n",
      " 1/31 [..............................] - ETA: 32s - loss: 0.2903 - mae: 0.4793 - mape: 82.6520 - rmsle_cust: 0.0709Epoch 1/20\n",
      "31/31 [==============================] - 2s 18ms/step - loss: 3.3744 - mae: 1.1408 - mape: 406.8586 - rmsle_cust: 0.2026\n",
      "Epoch 2/20\n",
      "31/31 [==============================] - 1s 17ms/step - loss: 0.3571 - mae: 0.4100 - mape: 134.7865 - rmsle_cust: 0.0632\n",
      "Epoch 3/20\n",
      "31/31 [==============================] - 1s 17ms/step - loss: 0.0721 - mae: 0.2088 - mape: 68.2191 - rmsle_cust: 0.0288\n",
      "Epoch 4/20\n",
      "31/31 [==============================] - 1s 17ms/step - loss: 0.0349 - mae: 0.1442 - mape: 52.9095 - rmsle_cust: 0.0190\n",
      "Epoch 5/20\n",
      "31/31 [==============================] - 1s 17ms/step - loss: 0.0227 - mae: 0.1151 - mape: 39.5487 - rmsle_cust: 0.0140\n",
      "Epoch 6/20\n",
      "31/31 [==============================] - 1s 17ms/step - loss: 0.0200 - mae: 0.1118 - mape: 39.6581 - rmsle_cust: 0.0124\n",
      "Epoch 7/20\n",
      "31/31 [==============================] - 1s 17ms/step - loss: 0.0152 - mae: 0.0958 - mape: 32.5305 - rmsle_cust: 0.0107\n",
      "Epoch 8/20\n",
      "31/31 [==============================] - 1s 17ms/step - loss: 0.0161 - mae: 0.1003 - mape: 32.7241 - rmsle_cust: 0.0125\n",
      "Epoch 9/20\n",
      "31/31 [==============================] - 1s 17ms/step - loss: 0.0162 - mae: 0.0988 - mape: 32.9304 - rmsle_cust: 0.0122\n",
      "Epoch 10/20\n",
      "31/31 [==============================] - 1s 17ms/step - loss: 0.0092 - mae: 0.0719 - mape: 26.8482 - rmsle_cust: 0.0088\n",
      "Epoch 11/20\n",
      "31/31 [==============================] - 1s 17ms/step - loss: 0.0088 - mae: 0.0734 - mape: 27.2061 - rmsle_cust: 0.0086\n",
      "Epoch 12/20\n",
      "31/31 [==============================] - 1s 18ms/step - loss: 0.0084 - mae: 0.0712 - mape: 24.9556 - rmsle_cust: 0.0090\n",
      "Epoch 13/20\n",
      "31/31 [==============================] - 1s 17ms/step - loss: 0.0082 - mae: 0.0705 - mape: 27.0037 - rmsle_cust: 0.0091\n",
      "Epoch 14/20\n",
      "31/31 [==============================] - 1s 19ms/step - loss: 0.0110 - mae: 0.0835 - mape: 30.9292 - rmsle_cust: 0.0101\n",
      "Epoch 15/20\n",
      "31/31 [==============================] - 1s 16ms/step - loss: 0.0075 - mae: 0.0676 - mape: 24.9078 - rmsle_cust: 0.0074\n",
      "Epoch 16/20\n",
      "31/31 [==============================] - 1s 18ms/step - loss: 0.0059 - mae: 0.0584 - mape: 19.8362 - rmsle_cust: 0.0079\n",
      "Epoch 17/20\n",
      "31/31 [==============================] - 1s 17ms/step - loss: 0.0067 - mae: 0.0638 - mape: 23.3005 - rmsle_cust: 0.0090\n",
      "Epoch 18/20\n",
      "31/31 [==============================] - 1s 16ms/step - loss: 0.0077 - mae: 0.0662 - mape: 26.1600 - rmsle_cust: 0.0093\n",
      "Epoch 19/20\n",
      "31/31 [==============================] - 1s 17ms/step - loss: 0.0070 - mae: 0.0637 - mape: 28.3324 - rmsle_cust: 0.0085\n",
      "Epoch 20/20\n",
      "31/31 [==============================] - 1s 16ms/step - loss: 0.0094 - mae: 0.0725 - mape: 26.2963 - rmsle_cust: 0.0106\n",
      "31/31 [==============================] - 0s 2ms/step\n",
      "Electronics done\n",
      "Epoch 1/20\n",
      "Epoch 1/20\n",
      "73/73 [==============================] - 2s 18ms/step - loss: 1.9339 - mae: 0.6570 - mape: 675.4706 - rmsle_cust: 0.1445\n",
      "Epoch 2/20\n",
      "73/73 [==============================] - 1s 16ms/step - loss: 0.0669 - mae: 0.1825 - mape: 219.8480 - rmsle_cust: 0.0363\n",
      "Epoch 3/20\n",
      "73/73 [==============================] - 1s 16ms/step - loss: 0.0356 - mae: 0.1380 - mape: 163.5415 - rmsle_cust: 0.0271\n",
      "Epoch 4/20\n",
      "73/73 [==============================] - 1s 17ms/step - loss: 0.0210 - mae: 0.1082 - mape: 127.0980 - rmsle_cust: 0.0218\n",
      "Epoch 5/20\n",
      "73/73 [==============================] - 1s 16ms/step - loss: 0.0161 - mae: 0.0950 - mape: 118.8622 - rmsle_cust: 0.0178\n",
      "Epoch 6/20\n",
      "73/73 [==============================] - 1s 16ms/step - loss: 0.0127 - mae: 0.0836 - mape: 110.3123 - rmsle_cust: 0.0169\n",
      "Epoch 7/20\n",
      "73/73 [==============================] - 1s 17ms/step - loss: 0.0125 - mae: 0.0820 - mape: 111.1002 - rmsle_cust: 0.0161\n",
      "Epoch 8/20\n",
      "73/73 [==============================] - 1s 17ms/step - loss: 0.0101 - mae: 0.0750 - mape: 104.4580 - rmsle_cust: 0.0152\n",
      "Epoch 9/20\n",
      "73/73 [==============================] - 1s 17ms/step - loss: 0.0086 - mae: 0.0680 - mape: 84.5088 - rmsle_cust: 0.0130\n",
      "Epoch 10/20\n",
      "73/73 [==============================] - 1s 17ms/step - loss: 0.0081 - mae: 0.0676 - mape: 88.9017 - rmsle_cust: 0.0133\n",
      "Epoch 11/20\n",
      "73/73 [==============================] - 1s 17ms/step - loss: 0.0070 - mae: 0.0617 - mape: 87.1351 - rmsle_cust: 0.0130\n",
      "Epoch 12/20\n",
      "73/73 [==============================] - 1s 18ms/step - loss: 0.0067 - mae: 0.0612 - mape: 79.8138 - rmsle_cust: 0.0124\n",
      "Epoch 13/20\n",
      "73/73 [==============================] - 1s 18ms/step - loss: 0.0060 - mae: 0.0588 - mape: 79.1156 - rmsle_cust: 0.0111\n",
      "Epoch 14/20\n",
      "73/73 [==============================] - 1s 17ms/step - loss: 0.0061 - mae: 0.0595 - mape: 81.7800 - rmsle_cust: 0.0119\n",
      "Epoch 15/20\n",
      "73/73 [==============================] - 1s 17ms/step - loss: 0.0053 - mae: 0.0550 - mape: 75.7506 - rmsle_cust: 0.0109\n",
      "Epoch 16/20\n",
      "73/73 [==============================] - 1s 16ms/step - loss: 0.0059 - mae: 0.0590 - mape: 92.4762 - rmsle_cust: 0.0113\n",
      "Epoch 17/20\n",
      "73/73 [==============================] - 1s 16ms/step - loss: 0.0063 - mae: 0.0598 - mape: 75.7970 - rmsle_cust: 0.0119\n",
      "Epoch 18/20\n",
      "73/73 [==============================] - 1s 18ms/step - loss: 0.0049 - mae: 0.0524 - mape: 60.7528 - rmsle_cust: 0.0102\n",
      "Epoch 19/20\n",
      "73/73 [==============================] - 1s 18ms/step - loss: 0.0055 - mae: 0.0553 - mape: 69.2062 - rmsle_cust: 0.0113\n",
      "Epoch 20/20\n",
      "73/73 [==============================] - 1s 18ms/step - loss: 0.0058 - mae: 0.0565 - mape: 70.1186 - rmsle_cust: 0.0106\n",
      "73/73 [==============================] - 0s 2ms/step\n",
      "Men's wear done\n",
      "Epoch 1/20\n",
      " 1/75 [..............................] - ETA: 1:02 - loss: 0.2210 - mae: 0.4362 - mape: 82.9665 - rmsle_cust: 0.0240Epoch 1/20\n",
      "75/75 [==============================] - 2s 18ms/step - loss: 1.0463 - mae: 0.4866 - mape: 169.7438 - rmsle_cust: 0.0742\n",
      "Epoch 2/20\n",
      "75/75 [==============================] - 1s 17ms/step - loss: 0.0562 - mae: 0.1432 - mape: 66.2320 - rmsle_cust: 0.0095\n",
      "Epoch 3/20\n",
      "75/75 [==============================] - 1s 16ms/step - loss: 0.0175 - mae: 0.0956 - mape: 47.2158 - rmsle_cust: 0.0064\n",
      "Epoch 4/20\n",
      "75/75 [==============================] - 1s 17ms/step - loss: 0.0116 - mae: 0.0789 - mape: 31.6859 - rmsle_cust: 0.0052\n",
      "Epoch 5/20\n",
      "75/75 [==============================] - 1s 17ms/step - loss: 0.0095 - mae: 0.0703 - mape: 32.4813 - rmsle_cust: 0.0047\n",
      "Epoch 6/20\n",
      "75/75 [==============================] - 1s 16ms/step - loss: 0.0073 - mae: 0.0622 - mape: 23.6762 - rmsle_cust: 0.0046\n",
      "Epoch 7/20\n",
      "75/75 [==============================] - 1s 17ms/step - loss: 0.0061 - mae: 0.0569 - mape: 23.8044 - rmsle_cust: 0.0040\n",
      "Epoch 8/20\n",
      "75/75 [==============================] - 1s 16ms/step - loss: 0.0059 - mae: 0.0564 - mape: 19.4539 - rmsle_cust: 0.0040\n",
      "Epoch 9/20\n",
      "75/75 [==============================] - 1s 18ms/step - loss: 0.0059 - mae: 0.0555 - mape: 24.5248 - rmsle_cust: 0.0041\n",
      "Epoch 10/20\n",
      "75/75 [==============================] - 1s 18ms/step - loss: 0.0100 - mae: 0.0601 - mape: 26.4750 - rmsle_cust: 0.0042\n",
      "Epoch 11/20\n",
      "75/75 [==============================] - 1s 18ms/step - loss: 0.0071 - mae: 0.0638 - mape: 25.3817 - rmsle_cust: 0.0035\n",
      "Epoch 12/20\n",
      "75/75 [==============================] - 1s 17ms/step - loss: 0.0062 - mae: 0.0603 - mape: 21.0660 - rmsle_cust: 0.0035\n",
      "Epoch 13/20\n",
      "75/75 [==============================] - 1s 17ms/step - loss: 0.0045 - mae: 0.0494 - mape: 20.6911 - rmsle_cust: 0.0033\n",
      "Epoch 14/20\n",
      "75/75 [==============================] - 1s 16ms/step - loss: 0.0054 - mae: 0.0497 - mape: 19.3897 - rmsle_cust: 0.0050\n",
      "Epoch 15/20\n",
      "75/75 [==============================] - 1s 16ms/step - loss: 0.0053 - mae: 0.0549 - mape: 18.0150 - rmsle_cust: 0.0035\n",
      "Epoch 16/20\n",
      "75/75 [==============================] - 1s 17ms/step - loss: 0.0053 - mae: 0.0537 - mape: 21.9773 - rmsle_cust: 0.0037\n",
      "Epoch 17/20\n",
      "75/75 [==============================] - 1s 19ms/step - loss: 0.0046 - mae: 0.0462 - mape: 19.9920 - rmsle_cust: 0.0043\n",
      "Epoch 18/20\n",
      "75/75 [==============================] - 1s 19ms/step - loss: 0.0042 - mae: 0.0444 - mape: 18.2301 - rmsle_cust: 0.0043\n",
      "Epoch 19/20\n",
      "75/75 [==============================] - 1s 17ms/step - loss: 0.0050 - mae: 0.0511 - mape: 20.0117 - rmsle_cust: 0.0045\n",
      "Epoch 20/20\n",
      "75/75 [==============================] - 1s 17ms/step - loss: 0.0039 - mae: 0.0451 - mape: 18.5382 - rmsle_cust: 0.0033\n",
      "75/75 [==============================] - 0s 2ms/step\n",
      "Women's wear done\n",
      "Epoch 1/20\n",
      " 1/73 [..............................] - ETA: 1:00 - loss: 0.1621 - mae: 0.3631 - mape: 86.6092 - rmsle_cust: 0.0121Epoch 1/20\n",
      "73/73 [==============================] - 2s 18ms/step - loss: 1.2023 - mae: 0.6351 - mape: 254.0359 - rmsle_cust: 0.0945\n",
      "Epoch 2/20\n",
      "73/73 [==============================] - 1s 18ms/step - loss: 0.0361 - mae: 0.1420 - mape: 125.1202 - rmsle_cust: 0.0035\n",
      "Epoch 3/20\n",
      "73/73 [==============================] - 1s 19ms/step - loss: 0.0252 - mae: 0.1193 - mape: 106.6022 - rmsle_cust: 0.0031\n",
      "Epoch 4/20\n",
      "73/73 [==============================] - 1s 20ms/step - loss: 0.0170 - mae: 0.0969 - mape: 73.8282 - rmsle_cust: 0.0027\n",
      "Epoch 5/20\n",
      "73/73 [==============================] - 1s 20ms/step - loss: 0.0142 - mae: 0.0885 - mape: 57.6062 - rmsle_cust: 0.0029\n",
      "Epoch 6/20\n",
      "73/73 [==============================] - 1s 20ms/step - loss: 0.0114 - mae: 0.0719 - mape: 54.2110 - rmsle_cust: 0.0024\n",
      "Epoch 7/20\n",
      "73/73 [==============================] - 1s 20ms/step - loss: 0.0197 - mae: 0.0897 - mape: 46.8457 - rmsle_cust: 0.0028\n",
      "Epoch 8/20\n",
      "73/73 [==============================] - 1s 18ms/step - loss: 0.0146 - mae: 0.0832 - mape: 51.2639 - rmsle_cust: 0.0037\n",
      "Epoch 9/20\n",
      "73/73 [==============================] - 1s 19ms/step - loss: 0.0116 - mae: 0.0732 - mape: 36.9529 - rmsle_cust: 0.0024\n",
      "Epoch 10/20\n",
      "73/73 [==============================] - 1s 19ms/step - loss: 0.0117 - mae: 0.0640 - mape: 41.8622 - rmsle_cust: 0.0025\n",
      "Epoch 11/20\n",
      "73/73 [==============================] - 1s 18ms/step - loss: 0.0088 - mae: 0.0655 - mape: 67.2034 - rmsle_cust: 0.0031\n",
      "Epoch 12/20\n",
      "73/73 [==============================] - 1s 19ms/step - loss: 0.0058 - mae: 0.0558 - mape: 38.4211 - rmsle_cust: 0.0023\n",
      "Epoch 13/20\n",
      "73/73 [==============================] - 1s 18ms/step - loss: 0.0062 - mae: 0.0604 - mape: 29.2402 - rmsle_cust: 0.0020\n",
      "Epoch 14/20\n",
      "73/73 [==============================] - 1s 19ms/step - loss: 0.0048 - mae: 0.0516 - mape: 38.2870 - rmsle_cust: 0.0017\n",
      "Epoch 15/20\n",
      "73/73 [==============================] - 1s 18ms/step - loss: 0.0051 - mae: 0.0544 - mape: 24.0171 - rmsle_cust: 0.0018\n",
      "Epoch 16/20\n",
      "73/73 [==============================] - 1s 18ms/step - loss: 0.0050 - mae: 0.0535 - mape: 33.3796 - rmsle_cust: 0.0019\n",
      "Epoch 17/20\n",
      "73/73 [==============================] - 1s 18ms/step - loss: 0.0041 - mae: 0.0479 - mape: 27.4667 - rmsle_cust: 0.0015\n",
      "Epoch 18/20\n",
      "73/73 [==============================] - 1s 17ms/step - loss: 0.0046 - mae: 0.0507 - mape: 25.5969 - rmsle_cust: 0.0017\n",
      "Epoch 19/20\n",
      "73/73 [==============================] - 1s 19ms/step - loss: 0.0042 - mae: 0.0482 - mape: 23.2200 - rmsle_cust: 0.0015\n",
      "Epoch 20/20\n",
      "73/73 [==============================] - 1s 18ms/step - loss: 0.0041 - mae: 0.0488 - mape: 30.6268 - rmsle_cust: 0.0016\n",
      "73/73 [==============================] - 0s 2ms/step\n",
      "Bady and Kids done\n",
      "Epoch 1/20\n",
      "65/65 [==============================] - 2s 19ms/step - loss: 1.9324 - mae: 0.7670 - mape: 488.6546 - rmsle_cust: 0.1698\n",
      "Epoch 2/20\n",
      "65/65 [==============================] - 1s 19ms/step - loss: 0.0967 - mae: 0.2288 - mape: 177.3448 - rmsle_cust: 0.0437\n",
      "Epoch 3/20\n",
      "65/65 [==============================] - 1s 19ms/step - loss: 0.0346 - mae: 0.1445 - mape: 140.1819 - rmsle_cust: 0.0229\n",
      "Epoch 4/20\n",
      "65/65 [==============================] - 1s 19ms/step - loss: 0.0265 - mae: 0.1209 - mape: 117.9019 - rmsle_cust: 0.0223\n",
      "Epoch 5/20\n",
      "65/65 [==============================] - 1s 18ms/step - loss: 0.0174 - mae: 0.1012 - mape: 91.1630 - rmsle_cust: 0.0186\n",
      "Epoch 6/20\n",
      "65/65 [==============================] - 1s 18ms/step - loss: 0.0126 - mae: 0.0845 - mape: 62.4959 - rmsle_cust: 0.0143\n",
      "Epoch 7/20\n",
      "65/65 [==============================] - 1s 18ms/step - loss: 0.0123 - mae: 0.0851 - mape: 62.4616 - rmsle_cust: 0.0156\n",
      "Epoch 8/20\n",
      "65/65 [==============================] - 1s 20ms/step - loss: 0.0115 - mae: 0.0809 - mape: 66.6308 - rmsle_cust: 0.0137\n",
      "Epoch 9/20\n",
      "65/65 [==============================] - 1s 18ms/step - loss: 0.0118 - mae: 0.0835 - mape: 58.3121 - rmsle_cust: 0.0162\n",
      "Epoch 10/20\n",
      "65/65 [==============================] - 1s 18ms/step - loss: 0.0107 - mae: 0.0776 - mape: 65.6130 - rmsle_cust: 0.0147\n",
      "Epoch 11/20\n",
      "65/65 [==============================] - 1s 20ms/step - loss: 0.0100 - mae: 0.0747 - mape: 57.3729 - rmsle_cust: 0.0150\n",
      "Epoch 12/20\n",
      "65/65 [==============================] - 1s 18ms/step - loss: 0.0095 - mae: 0.0743 - mape: 50.4537 - rmsle_cust: 0.0141\n",
      "Epoch 13/20\n",
      "65/65 [==============================] - 1s 18ms/step - loss: 0.0107 - mae: 0.0765 - mape: 59.3351 - rmsle_cust: 0.0163\n",
      "Epoch 14/20\n",
      "65/65 [==============================] - 1s 18ms/step - loss: 0.0082 - mae: 0.0693 - mape: 53.6960 - rmsle_cust: 0.0131\n",
      "Epoch 15/20\n",
      "65/65 [==============================] - 1s 20ms/step - loss: 0.0086 - mae: 0.0704 - mape: 61.5284 - rmsle_cust: 0.0135\n",
      "Epoch 16/20\n",
      "65/65 [==============================] - 1s 20ms/step - loss: 0.0082 - mae: 0.0685 - mape: 53.3778 - rmsle_cust: 0.0134\n",
      "Epoch 17/20\n",
      "65/65 [==============================] - 1s 20ms/step - loss: 0.0075 - mae: 0.0631 - mape: 50.1808 - rmsle_cust: 0.0133\n",
      "Epoch 18/20\n",
      "65/65 [==============================] - 1s 20ms/step - loss: 0.0066 - mae: 0.0616 - mape: 45.5470 - rmsle_cust: 0.0125\n",
      "Epoch 19/20\n",
      "65/65 [==============================] - 1s 19ms/step - loss: 0.0109 - mae: 0.0772 - mape: 48.4958 - rmsle_cust: 0.0176\n",
      "Epoch 20/20\n",
      "65/65 [==============================] - 1s 19ms/step - loss: 0.0102 - mae: 0.0741 - mape: 58.1390 - rmsle_cust: 0.0163\n",
      "65/65 [==============================] - 0s 2ms/step\n",
      "Home and Furniture done\n"
     ]
    }
   ],
   "source": [
    "for cat in types:\n",
    "    try:\n",
    "        data = data1[data1.category_1==cat].reset_index(drop = True)\n",
    "        model = get_model()\n",
    "        max_title = 32\n",
    "        max_description = 128\n",
    "        x_title = pad_sequences(data.title,maxlen = max_title)\n",
    "        x_description = pad_sequences(data.description,maxlen = max_description)\n",
    "        cat2 = data.category_2.to_numpy()\n",
    "        cat3 = data.category_3.to_numpy()\n",
    "        feed_data = {\n",
    "            'name':x_title,\n",
    "            'item_desc':x_description,\n",
    "            'category_2':cat2,\n",
    "            'category_3':cat3\n",
    "        }\n",
    "        max_name = np.max(x_title)+1\n",
    "        max_desp = np.max(x_description)+1\n",
    "        max_cat2=np.max(cat2)+1\n",
    "        max_cat3=np.max(cat3)+1\n",
    "        y = data.selling_price.to_numpy()\n",
    "        y = np.log(y+1)\n",
    "        target_scaler = MinMaxScaler(feature_range=(-1, 1))\n",
    "        y = target_scaler.fit_transform(y.reshape(-1,1))\n",
    "        model.fit(feed_data,y,epochs = epochs)\n",
    "        y_pred = model.predict(feed_data)\n",
    "        y_pred = target_scaler.inverse_transform(y_pred)\n",
    "        y_pred = np.exp(y_pred)-1\n",
    "        rmlse_val = rmsle(data.selling_price, y_pred)\n",
    "        mae_val = mae(data.selling_price,y_pred)\n",
    "        mape_val = mape(data.selling_price,y_pred)\n",
    "        result = {\n",
    "            'category':cat,\n",
    "            'rmlse':rmlse_val,\n",
    "            'mae':mae_val,\n",
    "            'mape':mape_val,\n",
    "            'Number_of_items':data.shape[0],\n",
    "            'target_mean':data.selling_price.mean(),\n",
    "            'target_std':data.selling_price.std(),\n",
    "            'target_min':data.selling_price.min(),\n",
    "            'target_max':data.selling_price.max(),\n",
    "        }\n",
    "        results.append(result)\n",
    "        print(f'{cat} done')\n",
    "    except:\n",
    "        data = data1[data1.category_1==cat].reset_index(drop = True)\n",
    "        model = get_model()\n",
    "        max_title = 32\n",
    "        max_description = 128\n",
    "        x_title = pad_sequences(data.title,maxlen = max_title)\n",
    "        x_description = pad_sequences(data.description,maxlen = max_description)\n",
    "        cat2 = data.category_2.to_numpy()\n",
    "        cat3 = data.category_3.to_numpy()\n",
    "        feed_data = {\n",
    "            'name':x_title,\n",
    "            'item_desc':x_description,\n",
    "            'category_2':cat2,\n",
    "            'category_3':cat3\n",
    "        }\n",
    "        max_name = np.max(x_title)+1\n",
    "        max_desp = np.max(x_description)+1\n",
    "        max_cat2=np.max(cat2)+1\n",
    "        max_cat3=np.max(cat3)+1\n",
    "        y = data.selling_price.to_numpy()\n",
    "        y = np.log(y+1)\n",
    "        target_scaler = MinMaxScaler(feature_range=(-1, 1))\n",
    "        y = target_scaler.fit_transform(y.reshape(-1,1))\n",
    "        model.fit(feed_data,y,epochs = epochs)\n",
    "        y_pred = model.predict(feed_data)\n",
    "        y_pred = target_scaler.inverse_transform(y_pred)\n",
    "        y_pred = np.exp(y_pred)-1\n",
    "        rmlse_val = rmsle(data.selling_price, y_pred)\n",
    "        mae_val = mae(data.selling_price,y_pred)\n",
    "        mape_val = mape(data.selling_price,y_pred)\n",
    "        result = {\n",
    "            'category':cat,\n",
    "            'rmlse':rmlse_val,\n",
    "            'mae':mae_val,\n",
    "            'mape':mape_val,\n",
    "            'Number_of_items':data.shape[0],\n",
    "            'target_mean':data.selling_price.mean(),\n",
    "            'target_std':data.selling_price.std(),\n",
    "            'target_min':data.selling_price.min(),\n",
    "            'target_max':data.selling_price.max(),\n",
    "        }\n",
    "        results.append(result)\n",
    "        print(f'{cat} done')"
   ]
  },
  {
   "cell_type": "code",
   "execution_count": 365,
   "id": "212056ad-bf0b-4388-aba8-d4328ce19f36",
   "metadata": {},
   "outputs": [],
   "source": [
    "cat1_result = pd.DataFrame(results)"
   ]
  },
  {
   "cell_type": "code",
   "execution_count": 366,
   "id": "aff8fba3-5d54-45e5-9d79-ee184d5cf6c2",
   "metadata": {},
   "outputs": [
    {
     "data": {
      "text/html": [
       "<div>\n",
       "<style scoped>\n",
       "    .dataframe tbody tr th:only-of-type {\n",
       "        vertical-align: middle;\n",
       "    }\n",
       "\n",
       "    .dataframe tbody tr th {\n",
       "        vertical-align: top;\n",
       "    }\n",
       "\n",
       "    .dataframe thead th {\n",
       "        text-align: right;\n",
       "    }\n",
       "</style>\n",
       "<table border=\"1\" class=\"dataframe\">\n",
       "  <thead>\n",
       "    <tr style=\"text-align: right;\">\n",
       "      <th></th>\n",
       "      <th>category</th>\n",
       "      <th>rmlse</th>\n",
       "      <th>mae</th>\n",
       "      <th>mape</th>\n",
       "      <th>Number_of_items</th>\n",
       "      <th>target_mean</th>\n",
       "      <th>target_std</th>\n",
       "      <th>target_min</th>\n",
       "      <th>target_max</th>\n",
       "    </tr>\n",
       "  </thead>\n",
       "  <tbody>\n",
       "    <tr>\n",
       "      <th>0</th>\n",
       "      <td>Sports, Books and More</td>\n",
       "      <td>0.157889</td>\n",
       "      <td>318.836903</td>\n",
       "      <td>0.110211</td>\n",
       "      <td>1787</td>\n",
       "      <td>1484.177392</td>\n",
       "      <td>5159.982219</td>\n",
       "      <td>10</td>\n",
       "      <td>69999</td>\n",
       "    </tr>\n",
       "    <tr>\n",
       "      <th>1</th>\n",
       "      <td>Electronics</td>\n",
       "      <td>0.483879</td>\n",
       "      <td>3930.636223</td>\n",
       "      <td>0.455538</td>\n",
       "      <td>971</td>\n",
       "      <td>7121.487127</td>\n",
       "      <td>22704.352918</td>\n",
       "      <td>126</td>\n",
       "      <td>300490</td>\n",
       "    </tr>\n",
       "    <tr>\n",
       "      <th>2</th>\n",
       "      <td>Men's wear</td>\n",
       "      <td>0.186453</td>\n",
       "      <td>241.497580</td>\n",
       "      <td>0.137318</td>\n",
       "      <td>2314</td>\n",
       "      <td>894.427831</td>\n",
       "      <td>1335.983768</td>\n",
       "      <td>65</td>\n",
       "      <td>16495</td>\n",
       "    </tr>\n",
       "    <tr>\n",
       "      <th>3</th>\n",
       "      <td>Women's wear</td>\n",
       "      <td>0.161883</td>\n",
       "      <td>340.599201</td>\n",
       "      <td>0.109079</td>\n",
       "      <td>2384</td>\n",
       "      <td>1205.623742</td>\n",
       "      <td>5258.657098</td>\n",
       "      <td>74</td>\n",
       "      <td>85360</td>\n",
       "    </tr>\n",
       "    <tr>\n",
       "      <th>4</th>\n",
       "      <td>Bady and Kids</td>\n",
       "      <td>0.166389</td>\n",
       "      <td>97.845820</td>\n",
       "      <td>0.131839</td>\n",
       "      <td>2313</td>\n",
       "      <td>502.440986</td>\n",
       "      <td>1150.534273</td>\n",
       "      <td>62</td>\n",
       "      <td>45599</td>\n",
       "    </tr>\n",
       "    <tr>\n",
       "      <th>5</th>\n",
       "      <td>Home and Furniture</td>\n",
       "      <td>0.300718</td>\n",
       "      <td>1692.553927</td>\n",
       "      <td>0.246900</td>\n",
       "      <td>2056</td>\n",
       "      <td>2213.756323</td>\n",
       "      <td>5103.966683</td>\n",
       "      <td>59</td>\n",
       "      <td>49999</td>\n",
       "    </tr>\n",
       "  </tbody>\n",
       "</table>\n",
       "</div>"
      ],
      "text/plain": [
       "                 category     rmlse          mae      mape  Number_of_items  \\\n",
       "0  Sports, Books and More  0.157889   318.836903  0.110211             1787   \n",
       "1             Electronics  0.483879  3930.636223  0.455538              971   \n",
       "2              Men's wear  0.186453   241.497580  0.137318             2314   \n",
       "3            Women's wear  0.161883   340.599201  0.109079             2384   \n",
       "4           Bady and Kids  0.166389    97.845820  0.131839             2313   \n",
       "5      Home and Furniture  0.300718  1692.553927  0.246900             2056   \n",
       "\n",
       "   target_mean    target_std  target_min  target_max  \n",
       "0  1484.177392   5159.982219          10       69999  \n",
       "1  7121.487127  22704.352918         126      300490  \n",
       "2   894.427831   1335.983768          65       16495  \n",
       "3  1205.623742   5258.657098          74       85360  \n",
       "4   502.440986   1150.534273          62       45599  \n",
       "5  2213.756323   5103.966683          59       49999  "
      ]
     },
     "execution_count": 366,
     "metadata": {},
     "output_type": "execute_result"
    }
   ],
   "source": [
    "cat1_result"
   ]
  },
  {
   "cell_type": "code",
   "execution_count": 367,
   "id": "a3ad7523-c8c0-4659-9035-378b978fbd10",
   "metadata": {},
   "outputs": [],
   "source": [
    "base = {\n",
    "    'category':'base',\n",
    "    'rmlse':0.2260064321150214,\n",
    "    'mae':720.8442225407019,\n",
    "    'mape':0.1594965731165146,\n",
    "    'Number_of_items':dataset.shape[0],\n",
    "    'target_mean':dataset.selling_price.mean(),\n",
    "    'target_std':dataset.selling_price.std(),\n",
    "    'target_min':dataset.selling_price.min(),\n",
    "    'target_max':dataset.selling_price.max(),\n",
    "}"
   ]
  },
  {
   "cell_type": "code",
   "execution_count": 368,
   "id": "36216e3f-1476-4b58-bd79-22addcb9f77c",
   "metadata": {},
   "outputs": [
    {
     "name": "stderr",
     "output_type": "stream",
     "text": [
      "C:\\Users\\priya\\AppData\\Local\\Temp\\ipykernel_16336\\2857042389.py:1: FutureWarning: The frame.append method is deprecated and will be removed from pandas in a future version. Use pandas.concat instead.\n",
      "  cat1_result.append(base,ignore_index = True)\n"
     ]
    },
    {
     "data": {
      "text/html": [
       "<div>\n",
       "<style scoped>\n",
       "    .dataframe tbody tr th:only-of-type {\n",
       "        vertical-align: middle;\n",
       "    }\n",
       "\n",
       "    .dataframe tbody tr th {\n",
       "        vertical-align: top;\n",
       "    }\n",
       "\n",
       "    .dataframe thead th {\n",
       "        text-align: right;\n",
       "    }\n",
       "</style>\n",
       "<table border=\"1\" class=\"dataframe\">\n",
       "  <thead>\n",
       "    <tr style=\"text-align: right;\">\n",
       "      <th></th>\n",
       "      <th>category</th>\n",
       "      <th>rmlse</th>\n",
       "      <th>mae</th>\n",
       "      <th>mape</th>\n",
       "      <th>Number_of_items</th>\n",
       "      <th>target_mean</th>\n",
       "      <th>target_std</th>\n",
       "      <th>target_min</th>\n",
       "      <th>target_max</th>\n",
       "    </tr>\n",
       "  </thead>\n",
       "  <tbody>\n",
       "    <tr>\n",
       "      <th>0</th>\n",
       "      <td>Sports, Books and More</td>\n",
       "      <td>0.157889</td>\n",
       "      <td>318.836903</td>\n",
       "      <td>0.110211</td>\n",
       "      <td>1787</td>\n",
       "      <td>1484.177392</td>\n",
       "      <td>5159.982219</td>\n",
       "      <td>10</td>\n",
       "      <td>69999</td>\n",
       "    </tr>\n",
       "    <tr>\n",
       "      <th>1</th>\n",
       "      <td>Electronics</td>\n",
       "      <td>0.483879</td>\n",
       "      <td>3930.636223</td>\n",
       "      <td>0.455538</td>\n",
       "      <td>971</td>\n",
       "      <td>7121.487127</td>\n",
       "      <td>22704.352918</td>\n",
       "      <td>126</td>\n",
       "      <td>300490</td>\n",
       "    </tr>\n",
       "    <tr>\n",
       "      <th>2</th>\n",
       "      <td>Men's wear</td>\n",
       "      <td>0.186453</td>\n",
       "      <td>241.497580</td>\n",
       "      <td>0.137318</td>\n",
       "      <td>2314</td>\n",
       "      <td>894.427831</td>\n",
       "      <td>1335.983768</td>\n",
       "      <td>65</td>\n",
       "      <td>16495</td>\n",
       "    </tr>\n",
       "    <tr>\n",
       "      <th>3</th>\n",
       "      <td>Women's wear</td>\n",
       "      <td>0.161883</td>\n",
       "      <td>340.599201</td>\n",
       "      <td>0.109079</td>\n",
       "      <td>2384</td>\n",
       "      <td>1205.623742</td>\n",
       "      <td>5258.657098</td>\n",
       "      <td>74</td>\n",
       "      <td>85360</td>\n",
       "    </tr>\n",
       "    <tr>\n",
       "      <th>4</th>\n",
       "      <td>Bady and Kids</td>\n",
       "      <td>0.166389</td>\n",
       "      <td>97.845820</td>\n",
       "      <td>0.131839</td>\n",
       "      <td>2313</td>\n",
       "      <td>502.440986</td>\n",
       "      <td>1150.534273</td>\n",
       "      <td>62</td>\n",
       "      <td>45599</td>\n",
       "    </tr>\n",
       "    <tr>\n",
       "      <th>5</th>\n",
       "      <td>Home and Furniture</td>\n",
       "      <td>0.300718</td>\n",
       "      <td>1692.553927</td>\n",
       "      <td>0.246900</td>\n",
       "      <td>2056</td>\n",
       "      <td>2213.756323</td>\n",
       "      <td>5103.966683</td>\n",
       "      <td>59</td>\n",
       "      <td>49999</td>\n",
       "    </tr>\n",
       "    <tr>\n",
       "      <th>6</th>\n",
       "      <td>base</td>\n",
       "      <td>0.226006</td>\n",
       "      <td>720.844223</td>\n",
       "      <td>0.159497</td>\n",
       "      <td>11825</td>\n",
       "      <td>1710.336660</td>\n",
       "      <td>7742.270410</td>\n",
       "      <td>10</td>\n",
       "      <td>300490</td>\n",
       "    </tr>\n",
       "  </tbody>\n",
       "</table>\n",
       "</div>"
      ],
      "text/plain": [
       "                 category     rmlse          mae      mape  Number_of_items  \\\n",
       "0  Sports, Books and More  0.157889   318.836903  0.110211             1787   \n",
       "1             Electronics  0.483879  3930.636223  0.455538              971   \n",
       "2              Men's wear  0.186453   241.497580  0.137318             2314   \n",
       "3            Women's wear  0.161883   340.599201  0.109079             2384   \n",
       "4           Bady and Kids  0.166389    97.845820  0.131839             2313   \n",
       "5      Home and Furniture  0.300718  1692.553927  0.246900             2056   \n",
       "6                    base  0.226006   720.844223  0.159497            11825   \n",
       "\n",
       "   target_mean    target_std  target_min  target_max  \n",
       "0  1484.177392   5159.982219          10       69999  \n",
       "1  7121.487127  22704.352918         126      300490  \n",
       "2   894.427831   1335.983768          65       16495  \n",
       "3  1205.623742   5258.657098          74       85360  \n",
       "4   502.440986   1150.534273          62       45599  \n",
       "5  2213.756323   5103.966683          59       49999  \n",
       "6  1710.336660   7742.270410          10      300490  "
      ]
     },
     "execution_count": 368,
     "metadata": {},
     "output_type": "execute_result"
    }
   ],
   "source": [
    "cat1_result.append(base,ignore_index = True)"
   ]
  },
  {
   "cell_type": "code",
   "execution_count": 356,
   "id": "e1820d18-c473-4efb-ba25-7dd2b522be7b",
   "metadata": {},
   "outputs": [],
   "source": [
    "cat1_result.to_csv('category_1_results.csv')"
   ]
  },
  {
   "cell_type": "code",
   "execution_count": 369,
   "id": "8f9cccab-9556-4f68-ba86-eedda4125951",
   "metadata": {},
   "outputs": [],
   "source": [
    "cat1_result.to_csv('2category_1_results.csv')"
   ]
  },
  {
   "cell_type": "code",
   "execution_count": null,
   "id": "5ef49d1b-be05-4c45-b640-848f4c5857a6",
   "metadata": {},
   "outputs": [],
   "source": []
  }
 ],
 "metadata": {
  "kernelspec": {
   "display_name": "Python 3 (ipykernel)",
   "language": "python",
   "name": "python3"
  },
  "language_info": {
   "codemirror_mode": {
    "name": "ipython",
    "version": 3
   },
   "file_extension": ".py",
   "mimetype": "text/x-python",
   "name": "python",
   "nbconvert_exporter": "python",
   "pygments_lexer": "ipython3",
   "version": "3.8.15"
  }
 },
 "nbformat": 4,
 "nbformat_minor": 5
}
