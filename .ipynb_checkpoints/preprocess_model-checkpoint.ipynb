{
 "cells": [
  {
   "cell_type": "markdown",
   "id": "bd267ddf-aca7-4abf-a4c0-2d3f38d33b57",
   "metadata": {},
   "source": [
    "## Pre Processing"
   ]
  },
  {
   "cell_type": "code",
   "execution_count": null,
   "id": "0f63ae7b",
   "metadata": {},
   "outputs": [],
   "source": []
  },
  {
   "cell_type": "code",
   "execution_count": 50,
   "id": "dfae7c97-9e30-4cd7-b501-23363d8ca046",
   "metadata": {},
   "outputs": [],
   "source": [
    "import pandas as pd\n",
    "import numpy as np\n",
    "import os\n",
    "from sklearn.preprocessing import LabelEncoder, MinMaxScaler, StandardScaler\n",
    "import keras\n",
    "import math\n",
    "from keras.preprocessing.text import Tokenizer\n",
    "from keras.utils import pad_sequences"
   ]
  },
  {
   "cell_type": "code",
   "execution_count": 2,
   "id": "1dd05154-fb0a-4109-802a-9547b84430ba",
   "metadata": {},
   "outputs": [],
   "source": [
    "orig=pd.read_csv('poc.csv')"
   ]
  },
  {
   "cell_type": "code",
   "execution_count": 3,
   "id": "9efaf885-d90d-4966-898d-08a4dcbf773c",
   "metadata": {},
   "outputs": [],
   "source": [
    "orig = orig.replace(' ',np.nan)"
   ]
  },
  {
   "cell_type": "code",
   "execution_count": 4,
   "id": "fbe676ef-5a90-4a58-abe1-10e0139a4ebf",
   "metadata": {},
   "outputs": [
    {
     "data": {
      "text/plain": [
       "category_1           0\n",
       "category_2           0\n",
       "category_3           0\n",
       "title                2\n",
       "product_rating       6\n",
       "selling_price        2\n",
       "mrp                 63\n",
       "seller_name         23\n",
       "seller_rating       23\n",
       "description        553\n",
       "highlights         292\n",
       "specifications    1838\n",
       "image_links          0\n",
       "dtype: int64"
      ]
     },
     "execution_count": 4,
     "metadata": {},
     "output_type": "execute_result"
    }
   ],
   "source": [
    "orig.isna().sum()"
   ]
  },
  {
   "cell_type": "code",
   "execution_count": 5,
   "id": "ff6d50d9-94c3-4d15-af31-efcdc708c0a9",
   "metadata": {},
   "outputs": [],
   "source": [
    "orig = orig.drop(['highlights','specifications','mrp','image_links'],axis=1)"
   ]
  },
  {
   "cell_type": "code",
   "execution_count": 6,
   "id": "e3578129-27f8-4c6e-a7d4-af22c8940227",
   "metadata": {},
   "outputs": [],
   "source": [
    "dataset = orig.dropna().reset_index(drop = True)"
   ]
  },
  {
   "cell_type": "code",
   "execution_count": 7,
   "id": "2fea9fc8-7f16-4a09-a32b-76bd8d32bc32",
   "metadata": {},
   "outputs": [],
   "source": [
    "for i in dataset.selling_price.index:\n",
    "    k = ''\n",
    "    for j in dataset.selling_price[i]:\n",
    "        if j==',' or j == '₹':\n",
    "            continue\n",
    "        k=k+j\n",
    "    dataset.selling_price[i]=int(k)\n",
    "        "
   ]
  },
  {
   "cell_type": "code",
   "execution_count": 8,
   "id": "689f87bb-2dc1-4529-8bea-53a6d6b456cd",
   "metadata": {},
   "outputs": [],
   "source": [
    "dataset.selling_price = dataset.selling_price.astype(int)"
   ]
  },
  {
   "cell_type": "code",
   "execution_count": 9,
   "id": "288a42f5-b3c8-4e1a-b8a3-f12fde375fb9",
   "metadata": {},
   "outputs": [],
   "source": [
    "dataset.product_rating = dataset.product_rating.astype(float)\n",
    "dataset.seller_rating = dataset.seller_rating.astype(float)"
   ]
  },
  {
   "cell_type": "code",
   "execution_count": 10,
   "id": "963c533e-9a89-43dd-94a1-f5483ff8b211",
   "metadata": {},
   "outputs": [
    {
     "name": "stdout",
     "output_type": "stream",
     "text": [
      "<class 'pandas.core.frame.DataFrame'>\n",
      "RangeIndex: 1272 entries, 0 to 1271\n",
      "Data columns (total 9 columns):\n",
      " #   Column          Non-Null Count  Dtype  \n",
      "---  ------          --------------  -----  \n",
      " 0   category_1      1272 non-null   object \n",
      " 1   category_2      1272 non-null   object \n",
      " 2   category_3      1272 non-null   object \n",
      " 3   title           1272 non-null   object \n",
      " 4   product_rating  1272 non-null   float64\n",
      " 5   selling_price   1272 non-null   int32  \n",
      " 6   seller_name     1272 non-null   object \n",
      " 7   seller_rating   1272 non-null   float64\n",
      " 8   description     1272 non-null   object \n",
      "dtypes: float64(2), int32(1), object(6)\n",
      "memory usage: 84.6+ KB\n"
     ]
    }
   ],
   "source": [
    "dataset.info()"
   ]
  },
  {
   "cell_type": "code",
   "execution_count": 11,
   "id": "7e270980-5e43-47f9-bacf-55f4350d7399",
   "metadata": {},
   "outputs": [],
   "source": [
    "le = LabelEncoder()"
   ]
  },
  {
   "cell_type": "code",
   "execution_count": 12,
   "id": "108a2017-22b0-464b-9f76-2e098ecbbb94",
   "metadata": {},
   "outputs": [],
   "source": [
    "dataset.category_1=le.fit_transform(dataset.category_1)\n",
    "dataset.category_2=le.fit_transform(dataset.category_2)\n",
    "dataset.category_3=le.fit_transform(dataset.category_3)\n",
    "#le.classes_"
   ]
  },
  {
   "cell_type": "code",
   "execution_count": 13,
   "id": "65b8abd6-9be9-494d-82d6-cf17fc01242d",
   "metadata": {},
   "outputs": [],
   "source": [
    "dataset = dataset.drop(['seller_name'],axis = 1)"
   ]
  },
  {
   "cell_type": "code",
   "execution_count": 14,
   "id": "5ae9e8b6-beba-4b37-8e64-b44ec8d0623c",
   "metadata": {},
   "outputs": [],
   "source": [
    "all_word = np.hstack([dataset.title.str.lower(),dataset.description.str.lower()])"
   ]
  },
  {
   "cell_type": "code",
   "execution_count": 15,
   "id": "70144f34-8880-4115-a957-ba72b05450bf",
   "metadata": {},
   "outputs": [],
   "source": [
    "tokenizer = Tokenizer()"
   ]
  },
  {
   "cell_type": "code",
   "execution_count": 16,
   "id": "7156ada8-0f78-4911-b690-80e5d0d9e8cb",
   "metadata": {},
   "outputs": [],
   "source": [
    "tokenizer.fit_on_texts(all_word)"
   ]
  },
  {
   "cell_type": "code",
   "execution_count": 17,
   "id": "2a2254b4-a032-4931-950c-764118f040cf",
   "metadata": {},
   "outputs": [],
   "source": [
    "dataset.title = tokenizer.texts_to_sequences(dataset.title.str.lower())\n",
    "dataset.description = tokenizer.texts_to_sequences(dataset.description.str.lower())"
   ]
  },
  {
   "cell_type": "code",
   "execution_count": 18,
   "id": "c3c031a4-44f2-4781-af46-4663d95f6c2c",
   "metadata": {},
   "outputs": [
    {
     "data": {
      "text/plain": [
       "<AxesSubplot: >"
      ]
     },
     "execution_count": 18,
     "metadata": {},
     "output_type": "execute_result"
    },
    {
     "data": {
      "image/png": "[encoded data removed]",
      "text/plain": [
       "<Figure size 640x480 with 1 Axes>"
      ]
     },
     "metadata": {},
     "output_type": "display_data"
    }
   ],
   "source": [
    "dataset.title.apply(lambda x:len(x)).plot(kind = 'box')"
   ]
  },
  {
   "cell_type": "code",
   "execution_count": 19,
   "id": "f1ccac97-da61-4090-b22d-cdf418b0d68e",
   "metadata": {},
   "outputs": [
    {
     "data": {
      "text/plain": [
       "<AxesSubplot: >"
      ]
     },
     "execution_count": 19,
     "metadata": {},
     "output_type": "execute_result"
    },
    {
     "data": {
      "image/png": "[encoded data removed]",
      "text/plain": [
       "<Figure size 640x480 with 1 Axes>"
      ]
     },
     "metadata": {},
     "output_type": "display_data"
    }
   ],
   "source": [
    "dataset.description.apply(lambda x:len(x)).plot(kind = 'box')"
   ]
  },
  {
   "cell_type": "code",
   "execution_count": 20,
   "id": "a1f7cf28-4ff8-4144-97cc-8473f56fb364",
   "metadata": {},
   "outputs": [],
   "source": [
    "max_title = 32\n",
    "max_description = 64"
   ]
  },
  {
   "cell_type": "code",
   "execution_count": 21,
   "id": "b36fd226-c4e4-43b9-b032-0c8873c7fb27",
   "metadata": {},
   "outputs": [
    {
     "data": {
      "text/html": [
       "<div>\n",
       "<style scoped>\n",
       "    .dataframe tbody tr th:only-of-type {\n",
       "        vertical-align: middle;\n",
       "    }\n",
       "\n",
       "    .dataframe tbody tr th {\n",
       "        vertical-align: top;\n",
       "    }\n",
       "\n",
       "    .dataframe thead th {\n",
       "        text-align: right;\n",
       "    }\n",
       "</style>\n",
       "<table border=\"1\" class=\"dataframe\">\n",
       "  <thead>\n",
       "    <tr style=\"text-align: right;\">\n",
       "      <th></th>\n",
       "      <th>category_1</th>\n",
       "      <th>category_2</th>\n",
       "      <th>category_3</th>\n",
       "      <th>title</th>\n",
       "      <th>product_rating</th>\n",
       "      <th>selling_price</th>\n",
       "      <th>seller_rating</th>\n",
       "      <th>description</th>\n",
       "    </tr>\n",
       "  </thead>\n",
       "  <tbody>\n",
       "    <tr>\n",
       "      <th>0</th>\n",
       "      <td>0</td>\n",
       "      <td>8</td>\n",
       "      <td>11</td>\n",
       "      <td>[1514, 4582, 2713, 122, 332, 487, 7, 185, 332,...</td>\n",
       "      <td>4.0</td>\n",
       "      <td>599</td>\n",
       "      <td>4.7</td>\n",
       "      <td>[1514, 4582, 8, 508, 1, 5976, 3, 112, 124, 108...</td>\n",
       "    </tr>\n",
       "    <tr>\n",
       "      <th>1</th>\n",
       "      <td>0</td>\n",
       "      <td>8</td>\n",
       "      <td>11</td>\n",
       "      <td>[3410, 5513, 303, 53, 327, 1760, 2469, 332, 48...</td>\n",
       "      <td>3.4</td>\n",
       "      <td>299</td>\n",
       "      <td>4.3</td>\n",
       "      <td>[2, 3410, 2469, 1993, 332, 487, 49, 282, 79, 3...</td>\n",
       "    </tr>\n",
       "    <tr>\n",
       "      <th>2</th>\n",
       "      <td>0</td>\n",
       "      <td>8</td>\n",
       "      <td>11</td>\n",
       "      <td>[3411, 211, 332, 810, 180, 45, 4, 136, 332, 81...</td>\n",
       "      <td>4.5</td>\n",
       "      <td>499</td>\n",
       "      <td>4.5</td>\n",
       "      <td>[835, 2568, 70, 89, 1, 255, 144, 222, 46, 3138...</td>\n",
       "    </tr>\n",
       "    <tr>\n",
       "      <th>3</th>\n",
       "      <td>0</td>\n",
       "      <td>8</td>\n",
       "      <td>11</td>\n",
       "      <td>[1761, 2714, 332, 487, 53, 28, 5, 310, 913, 16...</td>\n",
       "      <td>3.9</td>\n",
       "      <td>249</td>\n",
       "      <td>4.6</td>\n",
       "      <td>[1761, 2714, 332, 487, 53, 28, 5, 310, 913, 16...</td>\n",
       "    </tr>\n",
       "    <tr>\n",
       "      <th>4</th>\n",
       "      <td>0</td>\n",
       "      <td>8</td>\n",
       "      <td>11</td>\n",
       "      <td>[3411, 332, 1440, 669, 180, 45, 4, 38, 332, 29...</td>\n",
       "      <td>4.5</td>\n",
       "      <td>269</td>\n",
       "      <td>4.5</td>\n",
       "      <td>[1440, 180, 332, 80, 89, 8128, 966, 5, 1815, 3...</td>\n",
       "    </tr>\n",
       "  </tbody>\n",
       "</table>\n",
       "</div>"
      ],
      "text/plain": [
       "   category_1  category_2  category_3  \\\n",
       "0           0           8          11   \n",
       "1           0           8          11   \n",
       "2           0           8          11   \n",
       "3           0           8          11   \n",
       "4           0           8          11   \n",
       "\n",
       "                                               title  product_rating  \\\n",
       "0  [1514, 4582, 2713, 122, 332, 487, 7, 185, 332,...             4.0   \n",
       "1  [3410, 5513, 303, 53, 327, 1760, 2469, 332, 48...             3.4   \n",
       "2  [3411, 211, 332, 810, 180, 45, 4, 136, 332, 81...             4.5   \n",
       "3  [1761, 2714, 332, 487, 53, 28, 5, 310, 913, 16...             3.9   \n",
       "4  [3411, 332, 1440, 669, 180, 45, 4, 38, 332, 29...             4.5   \n",
       "\n",
       "   selling_price  seller_rating  \\\n",
       "0            599            4.7   \n",
       "1            299            4.3   \n",
       "2            499            4.5   \n",
       "3            249            4.6   \n",
       "4            269            4.5   \n",
       "\n",
       "                                         description  \n",
       "0  [1514, 4582, 8, 508, 1, 5976, 3, 112, 124, 108...  \n",
       "1  [2, 3410, 2469, 1993, 332, 487, 49, 282, 79, 3...  \n",
       "2  [835, 2568, 70, 89, 1, 255, 144, 222, 46, 3138...  \n",
       "3  [1761, 2714, 332, 487, 53, 28, 5, 310, 913, 16...  \n",
       "4  [1440, 180, 332, 80, 89, 8128, 966, 5, 1815, 3...  "
      ]
     },
     "execution_count": 21,
     "metadata": {},
     "output_type": "execute_result"
    }
   ],
   "source": [
    "dataset.head()"
   ]
  },
  {
   "cell_type": "code",
   "execution_count": null,
   "id": "2c187be7-dbe5-4ece-98c3-5d08e21bc106",
   "metadata": {},
   "outputs": [],
   "source": []
  },
  {
   "cell_type": "code",
   "execution_count": null,
   "id": "e5b24d13-9930-4e5c-9d70-000b0f81ef18",
   "metadata": {},
   "outputs": [],
   "source": []
  },
  {
   "cell_type": "markdown",
   "id": "47c6ef69-0416-4c0a-af7b-6c1c0c024762",
   "metadata": {
    "tags": []
   },
   "source": [
    "## Model"
   ]
  },
  {
   "cell_type": "code",
   "execution_count": 22,
   "id": "c2355005-24c4-4ff9-aa00-2cc9a89e4288",
   "metadata": {},
   "outputs": [],
   "source": [
    "from keras.layers import Input, Dropout, Dense, BatchNormalization, Activation, concatenate, GRU, Embedding, Flatten, BatchNormalization\n",
    "from keras.models import Model\n",
    "from keras.callbacks import ModelCheckpoint, Callback, EarlyStopping\n",
    "from keras import backend as K"
   ]
  },
  {
   "cell_type": "code",
   "execution_count": 43,
   "id": "e7abfd97-c567-4a0e-8d0f-14c17fc50b72",
   "metadata": {},
   "outputs": [],
   "source": [
    "def rmsle_cust(y_true, y_pred):\n",
    "    first_log = K.log(K.clip(y_pred, K.epsilon(), None) + 1.)\n",
    "    second_log = K.log(K.clip(y_true, K.epsilon(), None) + 1.)\n",
    "    return K.sqrt(K.mean(K.square(first_log - second_log), axis=-1))"
   ]
  },
  {
   "cell_type": "code",
   "execution_count": 24,
   "id": "af2e60de-b684-40c6-a5d9-add841b68e62",
   "metadata": {},
   "outputs": [],
   "source": [
    "x_title = pad_sequences(dataset.title,maxlen = max_title)\n",
    "x_description = pad_sequences(dataset.description,maxlen = max_description)\n",
    "cat2 = dataset.category_2.to_numpy()\n",
    "cat3 = dataset.category_3.to_numpy()"
   ]
  },
  {
   "cell_type": "code",
   "execution_count": 25,
   "id": "218c9db4-e6b5-42b4-b059-2a1bf0ce61c0",
   "metadata": {},
   "outputs": [],
   "source": [
    "feed_data = {\n",
    "    'name':x_title,\n",
    "    'item_desc':x_description,\n",
    "    'category_2':cat2,\n",
    "    'category_3':cat3\n",
    "}"
   ]
  },
  {
   "cell_type": "code",
   "execution_count": 26,
   "id": "936ae0ab-0b12-40fc-9893-ce22913f2d88",
   "metadata": {},
   "outputs": [
    {
     "data": {
      "text/plain": [
       "{'name': array([[  0,   0,   0, ..., 180, 332, 181],\n",
       "        [  0,   0,   0, ...,  17,  25, 116],\n",
       "        [  0,   0,   0, ...,   4, 136, 211],\n",
       "        ...,\n",
       "        [  0,   0,   0, ..., 191, 239,  39],\n",
       "        [  0,   0,   0, ..., 191, 239,  39],\n",
       "        [  0,   0,   0, ..., 239,  39, 328]]),\n",
       " 'item_desc': array([[1083, 4614, 3137, ...,  180,  113,  124],\n",
       "        [   0,    0,    2, ...,    7, 5982, 1814],\n",
       "        [   0,    0,    0, ...,    5,  507,  332],\n",
       "        ...,\n",
       "        [   1,  903,  126, ...,    1, 7378,  157],\n",
       "        [ 403,    1, 1419, ..., 2468,    3,  223],\n",
       "        [   0,    0,    0, ...,  884, 1811,  884]]),\n",
       " 'category_2': array([8, 8, 8, ..., 4, 4, 4]),\n",
       " 'category_3': array([11, 11, 11, ..., 41, 41, 41])}"
      ]
     },
     "execution_count": 26,
     "metadata": {},
     "output_type": "execute_result"
    }
   ],
   "source": [
    "feed_data"
   ]
  },
  {
   "cell_type": "code",
   "execution_count": 27,
   "id": "22f953a7-9e40-4507-a08d-3c79916f4f2b",
   "metadata": {},
   "outputs": [],
   "source": [
    "max_name = np.max(x_title)+1\n",
    "max_desp = np.max(x_description)+1\n",
    "max_cat2=np.max(cat2)+1\n",
    "max_cat3=np.max(cat3)+1"
   ]
  },
  {
   "cell_type": "code",
   "execution_count": 35,
   "id": "21c7fd0f-76e5-4ea9-915b-150c9d6495ae",
   "metadata": {},
   "outputs": [],
   "source": [
    "y = dataset.selling_price.to_numpy()"
   ]
  },
  {
   "cell_type": "code",
   "execution_count": 36,
   "id": "1d7359e1-ccab-4f9b-87c0-4edda8ef2d87",
   "metadata": {},
   "outputs": [],
   "source": [
    "#shrinking y better look of mae, mse\n",
    "y = np.log(y+1)\n",
    "target_scaler = MinMaxScaler(feature_range=(-1, 1))\n",
    "y = target_scaler.fit_transform(y.reshape(-1,1))"
   ]
  },
  {
   "cell_type": "code",
   "execution_count": 37,
   "id": "de034be1-89eb-4eec-a8bf-467bf8884c47",
   "metadata": {},
   "outputs": [
    {
     "name": "stdout",
     "output_type": "stream",
     "text": [
      "Model: \"model_1\"\n",
      "__________________________________________________________________________________________________\n",
      " Layer (type)                   Output Shape         Param #     Connected to                     \n",
      "==================================================================================================\n",
      " item_desc (InputLayer)         [(None, 64)]         0           []                               \n",
      "                                                                                                  \n",
      " name (InputLayer)              [(None, 32)]         0           []                               \n",
      "                                                                                                  \n",
      " category_2 (InputLayer)        [(None, 1)]          0           []                               \n",
      "                                                                                                  \n",
      " category_3 (InputLayer)        [(None, 1)]          0           []                               \n",
      "                                                                                                  \n",
      " embedding_3 (Embedding)        (None, 64, 64)       728768      ['item_desc[0][0]']              \n",
      "                                                                                                  \n",
      " embedding_2 (Embedding)        (None, 32, 32)       259968      ['name[0][0]']                   \n",
      "                                                                                                  \n",
      " flatten_2 (Flatten)            (None, 1)            0           ['category_2[0][0]']             \n",
      "                                                                                                  \n",
      " flatten_3 (Flatten)            (None, 1)            0           ['category_3[0][0]']             \n",
      "                                                                                                  \n",
      " gru_2 (GRU)                    (None, 16)           3936        ['embedding_3[0][0]']            \n",
      "                                                                                                  \n",
      " gru_3 (GRU)                    (None, 8)            1008        ['embedding_2[0][0]']            \n",
      "                                                                                                  \n",
      " concatenate_1 (Concatenate)    (None, 26)           0           ['flatten_2[0][0]',              \n",
      "                                                                  'flatten_3[0][0]',              \n",
      "                                                                  'gru_2[0][0]',                  \n",
      "                                                                  'gru_3[0][0]']                  \n",
      "                                                                                                  \n",
      " dense_7 (Dense)                (None, 128)          3456        ['concatenate_1[0][0]']          \n",
      "                                                                                                  \n",
      " dropout_2 (Dropout)            (None, 128)          0           ['dense_7[0][0]']                \n",
      "                                                                                                  \n",
      " dense_8 (Dense)                (None, 64)           8256        ['dropout_2[0][0]']              \n",
      "                                                                                                  \n",
      " dropout_3 (Dropout)            (None, 64)           0           ['dense_8[0][0]']                \n",
      "                                                                                                  \n",
      " dense_9 (Dense)                (None, 1)            65          ['dropout_3[0][0]']              \n",
      "                                                                                                  \n",
      "==================================================================================================\n",
      "Total params: 1,005,457\n",
      "Trainable params: 1,005,457\n",
      "Non-trainable params: 0\n",
      "__________________________________________________________________________________________________\n"
     ]
    }
   ],
   "source": [
    "def get_model():\n",
    "    #params\n",
    "    dr_r = 0.1\n",
    "    \n",
    "    #Inputs\n",
    "    name = Input(shape=[x_title.shape[1]], name=\"name\")\n",
    "    item_desc = Input(shape=[x_description.shape[1]], name=\"item_desc\")\n",
    "    category_1 = Input(shape=[1], name=\"category_2\")\n",
    "    category_2 = Input(shape=[1], name=\"category_3\")\n",
    "    \n",
    "    #Embeddings layers\n",
    "    emb_name = Embedding(max_name, 32)(name)\n",
    "    emb_item_desc = Embedding(max_desp, 64)(item_desc)\n",
    "    emb_category_1 = Dense(8)(category_1)\n",
    "    emb_category_2 = Dense(8)(category_2)\n",
    "\n",
    "    \n",
    "    #rnn layer\n",
    "    rnn_layer1 = GRU(16) (emb_item_desc)\n",
    "    rnn_layer2 = GRU(8) (emb_name)\n",
    "    \n",
    "    #main layer\n",
    "    main_l = concatenate([\n",
    "           Flatten() (category_1)\n",
    "         , Flatten() (category_2)\n",
    "         , rnn_layer1\n",
    "         , rnn_layer2\n",
    "    ])\n",
    "    main_l = Dropout(dr_r) (Dense(128) (main_l))\n",
    "    main_l = Dropout(dr_r) (Dense(64) (main_l))\n",
    "    \n",
    "    #output\n",
    "    output = Dense(1, activation=\"linear\") (main_l)\n",
    "    \n",
    "    #model\n",
    "    model = Model([name,item_desc,category_1,category_2], output) #name, item_desc, category_1, category_2\n",
    "    opt = keras.optimizers.Adam(learning_rate=0.01)\n",
    "    model.compile(loss=\"mse\", optimizer=opt, metrics=[\"mae\", rmsle_cust])\n",
    "    \n",
    "    return model\n",
    "\n",
    "    \n",
    "model = get_model()\n",
    "model.summary()"
   ]
  },
  {
   "cell_type": "code",
   "execution_count": 38,
   "id": "d31b41e8-9d6a-4553-b6bd-deb8f0789670",
   "metadata": {},
   "outputs": [
    {
     "name": "stdout",
     "output_type": "stream",
     "text": [
      "Epoch 1/10\n",
      "40/40 [==============================] - 4s 30ms/step - loss: 89.3392 - mae: 5.2918 - rmsle_cust: 0.6036\n",
      "Epoch 2/10\n",
      "40/40 [==============================] - 1s 29ms/step - loss: 0.8477 - mae: 0.6883 - rmsle_cust: 0.1863\n",
      "Epoch 3/10\n",
      "40/40 [==============================] - 1s 29ms/step - loss: 0.3426 - mae: 0.4447 - rmsle_cust: 0.0761\n",
      "Epoch 4/10\n",
      "40/40 [==============================] - 1s 31ms/step - loss: 0.2838 - mae: 0.4089 - rmsle_cust: 0.0739\n",
      "Epoch 5/10\n",
      "40/40 [==============================] - 1s 29ms/step - loss: 0.2380 - mae: 0.3735 - rmsle_cust: 0.0587\n",
      "Epoch 6/10\n",
      "40/40 [==============================] - 1s 29ms/step - loss: 0.1973 - mae: 0.3385 - rmsle_cust: 0.0528\n",
      "Epoch 7/10\n",
      "40/40 [==============================] - 1s 29ms/step - loss: 0.1501 - mae: 0.2923 - rmsle_cust: 0.0389\n",
      "Epoch 8/10\n",
      "40/40 [==============================] - 1s 29ms/step - loss: 0.1379 - mae: 0.2717 - rmsle_cust: 0.0370\n",
      "Epoch 9/10\n",
      "40/40 [==============================] - 1s 30ms/step - loss: 0.1026 - mae: 0.2409 - rmsle_cust: 0.0307\n",
      "Epoch 10/10\n",
      "40/40 [==============================] - 1s 29ms/step - loss: 0.0973 - mae: 0.2325 - rmsle_cust: 0.0302\n"
     ]
    },
    {
     "data": {
      "text/plain": [
       "<keras.callbacks.History at 0x2348b380820>"
      ]
     },
     "execution_count": 38,
     "metadata": {},
     "output_type": "execute_result"
    }
   ],
   "source": [
    "epochs = 10\n",
    "model.fit(feed_data,y,epochs = epochs)"
   ]
  },
  {
   "cell_type": "code",
   "execution_count": 33,
   "id": "eb2fb4d0-6d67-4f14-ae22-db777428c9c8",
   "metadata": {},
   "outputs": [
    {
     "data": {
      "text/plain": [
       "count     1272.000000\n",
       "mean      1461.830189\n",
       "std       5399.712328\n",
       "min         34.000000\n",
       "25%        243.750000\n",
       "50%        401.500000\n",
       "75%        749.000000\n",
       "max      93000.000000\n",
       "Name: selling_price, dtype: float64"
      ]
     },
     "execution_count": 33,
     "metadata": {},
     "output_type": "execute_result"
    }
   ],
   "source": [
    "dataset.selling_price.describe()"
   ]
  },
  {
   "cell_type": "code",
   "execution_count": 48,
   "id": "025fda07-bef9-4cb5-9d06-76e5d421f573",
   "metadata": {},
   "outputs": [
    {
     "name": "stdout",
     "output_type": "stream",
     "text": [
      "40/40 [==============================] - 0s 6ms/step\n"
     ]
    }
   ],
   "source": [
    "y_pred = model.predict(feed_data)"
   ]
  },
  {
   "cell_type": "code",
   "execution_count": 49,
   "id": "17fa9c1d-c994-42e3-9029-b531099afaf3",
   "metadata": {},
   "outputs": [],
   "source": [
    "y_pred = target_scaler.inverse_transform(y_pred)\n",
    "y_pred = np.exp(y_pred)+1"
   ]
  },
  {
   "cell_type": "code",
   "execution_count": 44,
   "id": "6dd8227a-9958-450b-8cfe-3155a5be67c2",
   "metadata": {},
   "outputs": [],
   "source": [
    "def rmsle(y, y_pred):\n",
    "    assert len(y) == len(y_pred)\n",
    "    to_sum = [(math.log(y_pred[i] + 1) - math.log(y[i] + 1)) ** 2.0 for i,pred in enumerate(y_pred)]\n",
    "    return (sum(to_sum) * (1.0/len(y))) ** 0.5"
   ]
  },
  {
   "cell_type": "code",
   "execution_count": 58,
   "id": "0e6a95a1-4914-4acb-89ac-0cecb89554ef",
   "metadata": {},
   "outputs": [],
   "source": [
    "from sklearn.metrics import mean_absolute_error as mae"
   ]
  },
  {
   "cell_type": "code",
   "execution_count": 59,
   "id": "bf27d9d7-28f2-42db-af79-ebbdd68ea97e",
   "metadata": {},
   "outputs": [
    {
     "name": "stdout",
     "output_type": "stream",
     "text": [
      "0.4924771769126245\n",
      "668.4160685779163\n"
     ]
    }
   ],
   "source": [
    "print(rmsle(dataset.selling_price, y_pred))\n",
    "print(mae(dataset.selling_price,y_pred))"
   ]
  },
  {
   "cell_type": "code",
   "execution_count": null,
   "id": "7cfcda5c-4a8b-442a-b650-d6ceda1cc592",
   "metadata": {},
   "outputs": [],
   "source": []
  }
 ],
 "metadata": {
  "kernelspec": {
   "display_name": "Python 3 (ipykernel)",
   "language": "python",
   "name": "python3"
  },
  "language_info": {
   "codemirror_mode": {
    "name": "ipython",
    "version": 3
   },
   "file_extension": ".py",
   "mimetype": "text/x-python",
   "name": "python",
   "nbconvert_exporter": "python",
   "pygments_lexer": "ipython3",
   "version": "3.8.15"
  }
 },
 "nbformat": 4,
 "nbformat_minor": 5
}
